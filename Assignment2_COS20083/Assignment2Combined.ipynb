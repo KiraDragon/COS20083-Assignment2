{
 "cells": [
  {
   "cell_type": "markdown",
   "metadata": {},
   "source": [
    "# Web Scraping"
   ]
  },
  {
   "cell_type": "code",
   "execution_count": 16,
   "metadata": {},
   "outputs": [],
   "source": [
    "#Importing the required libraries for web scraping\n",
    "import pandas as pd\n",
    "import requests\n",
    "from bs4 import BeautifulSoup\n",
    "import bs4\n",
    "from fastnumbers import isfloat \n",
    "from fastnumbers import fast_float\n",
    "from multiprocessing.dummy import Pool as ThreadPool "
   ]
  },
  {
   "cell_type": "code",
   "execution_count": 17,
   "metadata": {},
   "outputs": [],
   "source": [
    "#Data cleaning functions for web scraping\n",
    "\n",
    "def ffloat(string): #Cleans the commas and % from the string given\n",
    "    if string is None:\n",
    "        return np.nan\n",
    "    if type(string)==float or type(string)==np.float64:\n",
    "        return string\n",
    "    if type(string)==int or type(string)==np.int64:\n",
    "        return string\n",
    "    return fast_float(string.split(\" \")[0].replace(',','').replace('%',''),\n",
    "                      default=np.nan)\n",
    "\n",
    "def ffloat_list(string_list): #Cleans the string from a whole list of string\n",
    "    return list(map(ffloat,string_list))\n",
    "\n",
    "def remove_multiple_spaces(string): #Strips the spaces from string\n",
    "    if type(string)==str:\n",
    "        return ' '.join(string.split())\n",
    "    return string\n",
    "\n",
    "def get_children(html_content): #Gets the child content from the html tag, usually for tables where <td> is a child of <tr>\n",
    "    return [item for item in html_content.children if \n",
    "            type(item)==bs4.element.Tag or \n",
    "            len(str(item).replace(\"\\n\",\"\").strip())>0]"
   ]
  },
  {
   "cell_type": "code",
   "execution_count": 18,
   "metadata": {},
   "outputs": [
    {
     "data": {
      "text/plain": [
       "200"
      ]
     },
     "execution_count": 18,
     "metadata": {},
     "output_type": "execute_result"
    }
   ],
   "source": [
    "response = requests.get(\"https://finance.yahoo.com/gainers\", timeout=240) #Establishes a connection to the website   \n",
    "response.status_code #If its more than 240, then the connection is not established"
   ]
  },
  {
   "cell_type": "code",
   "execution_count": 19,
   "metadata": {},
   "outputs": [],
   "source": [
    "html = BeautifulSoup(response.content, \"html.parser\") #Gets the html content of the page"
   ]
  },
  {
   "cell_type": "code",
   "execution_count": 20,
   "metadata": {},
   "outputs": [],
   "source": [
    "def get_table_simple(table,is_table_tag=True): #Changes the table data in the form of a list\n",
    "    elems = table.find_all('tr') if is_table_tag else get_children(table)\n",
    "    table_data = list()\n",
    "    for row in elems:\n",
    "        row_data = list()\n",
    "        row_elems = get_children(row)\n",
    "        for elem in row_elems:\n",
    "            text = elem.text.strip().replace(\"\\n\",\"\")\n",
    "            text = remove_multiple_spaces(text)\n",
    "            if len(text)==0:\n",
    "                continue\n",
    "            row_data.append(text)\n",
    "        table_data.append(row_data)\n",
    "    return table_data"
   ]
  },
  {
   "cell_type": "code",
   "execution_count": 21,
   "metadata": {},
   "outputs": [
    {
     "name": "stdout",
     "output_type": "stream",
     "text": [
      "Top 5 gainers currently are: \n"
     ]
    },
    {
     "data": {
      "text/html": [
       "<div>\n",
       "<style scoped>\n",
       "    .dataframe tbody tr th:only-of-type {\n",
       "        vertical-align: middle;\n",
       "    }\n",
       "\n",
       "    .dataframe tbody tr th {\n",
       "        vertical-align: top;\n",
       "    }\n",
       "\n",
       "    .dataframe thead th {\n",
       "        text-align: right;\n",
       "    }\n",
       "</style>\n",
       "<table border=\"1\" class=\"dataframe\">\n",
       "  <thead>\n",
       "    <tr style=\"text-align: right;\">\n",
       "      <th></th>\n",
       "      <th>0</th>\n",
       "      <th>1</th>\n",
       "      <th>2</th>\n",
       "      <th>3</th>\n",
       "      <th>4</th>\n",
       "      <th>5</th>\n",
       "      <th>6</th>\n",
       "      <th>7</th>\n",
       "      <th>8</th>\n",
       "      <th>9</th>\n",
       "    </tr>\n",
       "  </thead>\n",
       "  <tbody>\n",
       "    <tr>\n",
       "      <th>0</th>\n",
       "      <td>Symbol</td>\n",
       "      <td>Name</td>\n",
       "      <td>Price (Intraday)</td>\n",
       "      <td>Change</td>\n",
       "      <td>% Change</td>\n",
       "      <td>Volume</td>\n",
       "      <td>Avg Vol (3 month)</td>\n",
       "      <td>Market Cap</td>\n",
       "      <td>PE Ratio (TTM)</td>\n",
       "      <td>52 Week Range</td>\n",
       "    </tr>\n",
       "    <tr>\n",
       "      <th>1</th>\n",
       "      <td>OXY</td>\n",
       "      <td>Occidental Petroleum Corporation</td>\n",
       "      <td>20.79</td>\n",
       "      <td>+5.24</td>\n",
       "      <td>+33.70%</td>\n",
       "      <td>119.073M</td>\n",
       "      <td>49.28M</td>\n",
       "      <td>19.06B</td>\n",
       "      <td>N/A</td>\n",
       "      <td>None</td>\n",
       "    </tr>\n",
       "    <tr>\n",
       "      <th>2</th>\n",
       "      <td>SJMHY</td>\n",
       "      <td>SJM Holdings Limited</td>\n",
       "      <td>4.8300</td>\n",
       "      <td>+1.0300</td>\n",
       "      <td>+27.11%</td>\n",
       "      <td>279,980</td>\n",
       "      <td>247</td>\n",
       "      <td>8.652B</td>\n",
       "      <td>N/A</td>\n",
       "      <td>None</td>\n",
       "    </tr>\n",
       "    <tr>\n",
       "      <th>3</th>\n",
       "      <td>ENBL</td>\n",
       "      <td>Enable Midstream Partners, LP</td>\n",
       "      <td>6.43</td>\n",
       "      <td>+1.29</td>\n",
       "      <td>+25.10%</td>\n",
       "      <td>3.852M</td>\n",
       "      <td>3.152M</td>\n",
       "      <td>2.8B</td>\n",
       "      <td>8.53</td>\n",
       "      <td>None</td>\n",
       "    </tr>\n",
       "    <tr>\n",
       "      <th>4</th>\n",
       "      <td>APA</td>\n",
       "      <td>Apache Corporation</td>\n",
       "      <td>16.07</td>\n",
       "      <td>+3.07</td>\n",
       "      <td>+23.62%</td>\n",
       "      <td>36.337M</td>\n",
       "      <td>24.892M</td>\n",
       "      <td>6.065B</td>\n",
       "      <td>N/A</td>\n",
       "      <td>None</td>\n",
       "    </tr>\n",
       "    <tr>\n",
       "      <th>5</th>\n",
       "      <td>RCL</td>\n",
       "      <td>Royal Caribbean Cruises Ltd.</td>\n",
       "      <td>69.44</td>\n",
       "      <td>+11.75</td>\n",
       "      <td>+20.37%</td>\n",
       "      <td>61.286M</td>\n",
       "      <td>24.512M</td>\n",
       "      <td>14.54B</td>\n",
       "      <td>79.00</td>\n",
       "      <td>None</td>\n",
       "    </tr>\n",
       "  </tbody>\n",
       "</table>\n",
       "</div>"
      ],
      "text/plain": [
       "        0                                 1                 2        3  \\\n",
       "0  Symbol                              Name  Price (Intraday)   Change   \n",
       "1     OXY  Occidental Petroleum Corporation             20.79    +5.24   \n",
       "2   SJMHY              SJM Holdings Limited            4.8300  +1.0300   \n",
       "3    ENBL     Enable Midstream Partners, LP              6.43    +1.29   \n",
       "4     APA                Apache Corporation             16.07    +3.07   \n",
       "5     RCL      Royal Caribbean Cruises Ltd.             69.44   +11.75   \n",
       "\n",
       "          4         5                  6           7               8  \\\n",
       "0  % Change    Volume  Avg Vol (3 month)  Market Cap  PE Ratio (TTM)   \n",
       "1   +33.70%  119.073M             49.28M      19.06B             N/A   \n",
       "2   +27.11%   279,980                247      8.652B             N/A   \n",
       "3   +25.10%    3.852M             3.152M        2.8B            8.53   \n",
       "4   +23.62%   36.337M            24.892M      6.065B             N/A   \n",
       "5   +20.37%   61.286M            24.512M      14.54B           79.00   \n",
       "\n",
       "               9  \n",
       "0  52 Week Range  \n",
       "1           None  \n",
       "2           None  \n",
       "3           None  \n",
       "4           None  \n",
       "5           None  "
      ]
     },
     "execution_count": 21,
     "metadata": {},
     "output_type": "execute_result"
    }
   ],
   "source": [
    "init_list = get_table_simple(html) #Gets the table from top gained and saves it as init_list\n",
    "top5list = [] #Creates an empty list\n",
    "for x in range(6): #Selects the top 5 of the table from top gained (0-5 as 0 is the headings and labels)\n",
    "    top5list.append(init_list[x]) #appends it to the top5 list\n",
    "dftop5gainers = pd.DataFrame.from_records(top5list) #Change the list into a dataframe\n",
    "print(\"Top 5 gainers currently are: \")\n",
    "dftop5gainers"
   ]
  },
  {
   "cell_type": "markdown",
   "metadata": {},
   "source": [
    "## Predict using LSTM (Hartalega)"
   ]
  },
  {
   "cell_type": "code",
   "execution_count": null,
   "metadata": {},
   "outputs": [],
   "source": [
    "import numpy as np\n",
    "import math\n",
    "import datetime\n",
    "import matplotlib.pyplot as plt\n",
    "from sklearn.linear_model import LinearRegression\n",
    "from sklearn.model_selection import train_test_split\n",
    "from sklearn.metrics import mean_squared_error,confusion_matrix, classification_report\n",
    "\n",
    "import keras\n",
    "from keras.preprocessing.sequence import TimeseriesGenerator\n",
    "import tensorflow as tf\n",
    "\n",
    "import pandas as pd\n",
    "import pandas_datareader as web"
   ]
  },
  {
   "cell_type": "code",
   "execution_count": null,
   "metadata": {},
   "outputs": [],
   "source": [
    "#Start data and end date\n",
    "start = datetime.datetime(2019,3,9)\n",
    "end = datetime.datetime(2020,3,12)\n",
    "\n",
    "#load the dataset\n",
    "df = web.DataReader('5168.KL','yahoo',start,end)\n",
    "df.to_csv('stock1_Har.csv')\n",
    "df = pd.read_csv('stock1_Har.csv')\n",
    "\n",
    "df.head()"
   ]
  },
  {
   "cell_type": "code",
   "execution_count": null,
   "metadata": {},
   "outputs": [],
   "source": [
    "#Find the row with max close price for documentation\n",
    "#max close price is at 12 March 2020 which is 6.57\n",
    "df.iloc[df['Close'].idxmax()]"
   ]
  },
  {
   "cell_type": "code",
   "execution_count": null,
   "metadata": {},
   "outputs": [],
   "source": [
    "#Find the row with minimum close price for documentation\n",
    "#min close price is at 26 March 2020 which is 4.55\n",
    "df.iloc[df['Close'].idxmin()]"
   ]
  },
  {
   "cell_type": "code",
   "execution_count": null,
   "metadata": {},
   "outputs": [],
   "source": [
    "#convert date column to datetitme and set axis to date and drop all other columns except close and date\n",
    "df['Date'] = pd.to_datetime(df['Date'])\n",
    "df.set_axis(df['Date'], inplace=True)\n",
    "df.drop(columns=['Open', 'High', 'Low', 'Volume'], inplace=True)"
   ]
  },
  {
   "cell_type": "code",
   "execution_count": null,
   "metadata": {},
   "outputs": [],
   "source": [
    "from pandas.plotting import register_matplotlib_converters\n",
    "register_matplotlib_converters()\n",
    "#plot the data\n",
    "plt.figure(figsize=(12,8))\n",
    "plt.plot(df['Close'])\n",
    "plt.title(\"Hartalega Holdings Berhad\")\n",
    "plt.xlabel('Date')\n",
    "plt.ylabel('Price')\n",
    "plt.show()"
   ]
  },
  {
   "cell_type": "code",
   "execution_count": null,
   "metadata": {},
   "outputs": [],
   "source": [
    "#get the values of close column and reshape it into an array\n",
    "close_data = df['Close'].values\n",
    "close_data = close_data.reshape((-1,1))\n",
    "\n",
    "#set split percentage to 80%\n",
    "split_percent = 0.80\n",
    "split = int(split_percent*len(close_data))\n",
    "\n",
    "#split close column\n",
    "close_train = close_data[:split]\n",
    "close_test = close_data[split:]\n",
    "\n",
    "#split date column\n",
    "date_train = df['Date'][:split]\n",
    "date_test = df['Date'][split:]\n",
    "\n",
    "print(len(close_train))\n",
    "print(len(close_test))"
   ]
  },
  {
   "cell_type": "code",
   "execution_count": null,
   "metadata": {},
   "outputs": [],
   "source": [
    "#number of previous days' data to use, to predict the value for the next day\n",
    "look_back = 15\n",
    "\n",
    "#TimeseriesGenerator is function takes in data points and generate batches of temporal data for training or validation.\n",
    "train_generator = TimeseriesGenerator(close_train, close_train, length=look_back, batch_size=20)     \n",
    "test_generator = TimeseriesGenerator(close_test, close_test, length=look_back, batch_size=1)\n"
   ]
  },
  {
   "cell_type": "code",
   "execution_count": null,
   "metadata": {},
   "outputs": [],
   "source": [
    "from keras.models import Sequential\n",
    "from keras.layers import LSTM, Dense\n",
    "\n",
    "model = Sequential()\n",
    "model.add(\n",
    "    LSTM(10,\n",
    "        activation='relu',\n",
    "        input_shape=(look_back,1))\n",
    ")\n",
    "model.add(Dense(1))\n",
    "#use adam optimiser and mean squared loss function for 25 epochs\n",
    "model.compile(optimizer='adam', loss='mse')\n",
    "\n",
    "num_epochs = 25\n",
    "#use fit_generator as data generator is used\n",
    "model.fit_generator(train_generator, epochs=num_epochs, verbose=1)"
   ]
  },
  {
   "cell_type": "code",
   "execution_count": null,
   "metadata": {},
   "outputs": [],
   "source": [
    "prediction = model.predict_generator(test_generator)\n",
    "\n",
    "#reshape it back\n",
    "close_train = close_train.reshape((-1))\n",
    "close_test = close_test.reshape((-1))\n",
    "prediction = prediction.reshape((-1))\n",
    "\n",
    "\n",
    "#plot the graph with the predicted value\n",
    "plt.figure(figsize=(12,8))\n",
    "plt.plot(df['Close'], color='blue')\n",
    "plt.plot(date_test[:len(prediction)], prediction, color='red')\n",
    "plt.legend(['actual','predicted'])\n",
    "plt.title(\"Hartalega Holdings Berhad\")\n",
    "plt.xlabel('Date')\n",
    "plt.ylabel('Price')\n",
    "\n",
    "\n",
    "plt.show()\n"
   ]
  },
  {
   "cell_type": "code",
   "execution_count": null,
   "metadata": {},
   "outputs": [],
   "source": [
    "#Calculate mean squared loss\n",
    "model.evaluate(test_generator)"
   ]
  },
  {
   "cell_type": "code",
   "execution_count": null,
   "metadata": {},
   "outputs": [],
   "source": [
    "close_data = close_data.reshape((-1))\n",
    "\n",
    "#forecasting by feed the model past n days (look_back) and get future's value, to get days after the predicted future, the model is feed in pat n-1 days of value along with the predicted value\n",
    "def predict(num_prediction, model):\n",
    "    prediction_list = close_data[-look_back:]\n",
    "    \n",
    "    for _ in range(num_prediction):\n",
    "        x = prediction_list[-look_back:]\n",
    "        x = x.reshape((1, look_back, 1))\n",
    "        out = model.predict(x)[0][0]\n",
    "        prediction_list = np.append(prediction_list, out)\n",
    "    prediction_list = prediction_list[look_back-1:]\n",
    "        \n",
    "    return prediction_list\n",
    "    \n",
    "def predict_dates(num_prediction):\n",
    "    last_date = df['Date'].values[-1]\n",
    "    prediction_dates = pd.date_range(last_date, periods=num_prediction+1).tolist()\n",
    "    return prediction_dates\n",
    "\n",
    "#predict 30 days\n",
    "num_prediction = 30\n",
    "forecast = predict(num_prediction, model)\n",
    "forecast_dates = predict_dates(num_prediction)"
   ]
  },
  {
   "cell_type": "code",
   "execution_count": null,
   "metadata": {},
   "outputs": [],
   "source": [
    "#plot the data with the predicted 30 days\n",
    "plt.figure(figsize=(12,8))\n",
    "plt.plot(df['Close'], color='blue')\n",
    "plt.plot(forecast_dates[:len(forecast)],forecast,color='orange')\n",
    "plt.legend(['actual','forecasted'])\n",
    "plt.title(\"Hartalega Holdings Berhad\")\n",
    "plt.xlabel('Date')\n",
    "plt.ylabel('Price')\n",
    "plt.show()"
   ]
  },
  {
   "cell_type": "code",
   "execution_count": null,
   "metadata": {},
   "outputs": [],
   "source": [
    "#get the prediction for 1 year\n",
    "for i in range(12):\n",
    "    num_prediction = 30\n",
    "    forecast = predict(num_prediction, model)\n",
    "    forecast_dates = predict_dates(num_prediction)\n",
    "\n",
    "forecast[-1]"
   ]
  },
  {
   "cell_type": "markdown",
   "metadata": {},
   "source": [
    "## Predict using LSTM (IHH)"
   ]
  },
  {
   "cell_type": "code",
   "execution_count": null,
   "metadata": {},
   "outputs": [],
   "source": [
    "import numpy as np\n",
    "import math\n",
    "import datetime\n",
    "import matplotlib.pyplot as plt\n",
    "from sklearn.linear_model import LinearRegression\n",
    "from sklearn.model_selection import train_test_split\n",
    "from sklearn.metrics import mean_squared_error,confusion_matrix, classification_report\n",
    "\n",
    "import keras\n",
    "from keras.preprocessing.sequence import TimeseriesGenerator\n",
    "import tensorflow as tf\n",
    "\n",
    "import pandas as pd\n",
    "import pandas_datareader as web"
   ]
  },
  {
   "cell_type": "code",
   "execution_count": null,
   "metadata": {},
   "outputs": [],
   "source": [
    "#Start data and end date\n",
    "start = datetime.datetime(2019,3,9)\n",
    "end = datetime.datetime(2020,3,12)\n",
    "\n",
    "#load the dataset\n",
    "df = web.DataReader('5225.KL','yahoo',start,end)\n",
    "df.to_csv('stock2_IHH.csv')\n",
    "df = pd.read_csv('stock2_IHH.csv')\n",
    "\n",
    "df.tail()"
   ]
  },
  {
   "cell_type": "code",
   "execution_count": null,
   "metadata": {},
   "outputs": [],
   "source": [
    "#Find the row with max close price for documentation\n",
    "df.iloc[df['Close'].idxmax()]"
   ]
  },
  {
   "cell_type": "code",
   "execution_count": null,
   "metadata": {},
   "outputs": [],
   "source": [
    "#Find the row with minimum close price for documentation\n",
    "df.iloc[df['Close'].idxmin()]"
   ]
  },
  {
   "cell_type": "code",
   "execution_count": null,
   "metadata": {},
   "outputs": [],
   "source": [
    "#convert date column to datetitme and set axis to date and drop all other columns except close and date\n",
    "df['Date'] = pd.to_datetime(df['Date'])\n",
    "df.set_axis(df['Date'], inplace=True)\n",
    "df.drop(columns=['Open', 'High', 'Low', 'Volume'], inplace=True)"
   ]
  },
  {
   "cell_type": "code",
   "execution_count": null,
   "metadata": {},
   "outputs": [],
   "source": [
    "from pandas.plotting import register_matplotlib_converters\n",
    "register_matplotlib_converters()\n",
    "#plot the data\n",
    "plt.figure(figsize=(12,8))\n",
    "plt.plot(df['Close'])\n",
    "plt.title(\"IHH Healthcare Berhad\")\n",
    "plt.xlabel('Date')\n",
    "plt.ylabel('Price')\n",
    "plt.show()"
   ]
  },
  {
   "cell_type": "code",
   "execution_count": null,
   "metadata": {},
   "outputs": [],
   "source": [
    "#get the values of close column and reshape it into an array\n",
    "close_data = df['Close'].values\n",
    "close_data = close_data.reshape((-1,1))\n",
    "#set split percentage to 80%\n",
    "split_percent = 0.80\n",
    "split = int(split_percent*len(close_data))\n",
    "#split close column\n",
    "close_train = close_data[:split]\n",
    "close_test = close_data[split:]\n",
    "#split date column\n",
    "date_train = df['Date'][:split]\n",
    "date_test = df['Date'][split:]\n",
    "\n",
    "print(len(close_train))\n",
    "print(len(close_test))"
   ]
  },
  {
   "cell_type": "code",
   "execution_count": null,
   "metadata": {},
   "outputs": [],
   "source": [
    "#number of previous days' data to use, to predict the value for the next day\n",
    "look_back = 15\n",
    "\n",
    "#TimeseriesGenerator is function takes in data points and generate batches of temporal data for training or validation.\n",
    "train_generator = TimeseriesGenerator(close_train, close_train, length=look_back, batch_size=20)     \n",
    "test_generator = TimeseriesGenerator(close_test, close_test, length=look_back, batch_size=1)\n"
   ]
  },
  {
   "cell_type": "code",
   "execution_count": null,
   "metadata": {},
   "outputs": [],
   "source": [
    "from keras.models import Sequential\n",
    "from keras.layers import LSTM, Dense\n",
    "\n",
    "model = Sequential()\n",
    "model.add(\n",
    "    LSTM(10,\n",
    "        activation='relu',\n",
    "        input_shape=(look_back,1))\n",
    ")\n",
    "model.add(Dense(1))\n",
    "#use adam optimiser and mean squared loss function for 25 epochs\n",
    "model.compile(optimizer='adam', loss='mse')\n",
    "\n",
    "num_epochs = 25\n",
    "#use fit_generator as data generator is used\n",
    "model.fit_generator(train_generator, epochs=num_epochs, verbose=1)"
   ]
  },
  {
   "cell_type": "code",
   "execution_count": null,
   "metadata": {},
   "outputs": [],
   "source": [
    "prediction = model.predict_generator(test_generator)\n",
    "\n",
    "#reshape it back for plotting\n",
    "close_train = close_train.reshape((-1))\n",
    "close_test = close_test.reshape((-1))\n",
    "prediction = prediction.reshape((-1))\n",
    "\n",
    "#plot the graph with the predicted value\n",
    "plt.figure(figsize=(12,8))\n",
    "plt.plot(df['Close'], color='blue')\n",
    "plt.plot(date_test[:len(prediction)], prediction, color='red')\n",
    "plt.legend(['actual','predicted'])\n",
    "plt.title(\"IHH Healthcare Berhad\")\n",
    "plt.xlabel('Date')\n",
    "plt.ylabel('Price')\n",
    "#plt.plot(date_test[:len(close_test)], close_test, color='green')\n",
    "\n",
    "\n",
    "plt.show()\n"
   ]
  },
  {
   "cell_type": "code",
   "execution_count": null,
   "metadata": {},
   "outputs": [],
   "source": [
    "#Calculate mean squared loss\n",
    "model.evaluate(test_generator)"
   ]
  },
  {
   "cell_type": "code",
   "execution_count": null,
   "metadata": {},
   "outputs": [],
   "source": [
    "close_data = close_data.reshape((-1))\n",
    "#forecasting by feed the model past n days (look_back) and get future's value, to get days after the predicted future, the model is feed in pat n-1 days of value along with the predicted value\n",
    "def predict(num_prediction, model):\n",
    "    prediction_list = close_data[-look_back:]\n",
    "    \n",
    "    for _ in range(num_prediction):\n",
    "        x = prediction_list[-look_back:]\n",
    "        x = x.reshape((1, look_back, 1))\n",
    "        out = model.predict(x)[0][0]\n",
    "        prediction_list = np.append(prediction_list, out)\n",
    "    prediction_list = prediction_list[look_back-1:]\n",
    "        \n",
    "    return prediction_list\n",
    "    \n",
    "def predict_dates(num_prediction):\n",
    "    last_date = df['Date'].values[-1]\n",
    "    prediction_dates = pd.date_range(last_date, periods=num_prediction+1).tolist()\n",
    "    return prediction_dates\n",
    "\n",
    "#predict 30 days\n",
    "num_prediction = 30\n",
    "forecast = predict(num_prediction, model)\n",
    "forecast_dates = predict_dates(num_prediction)"
   ]
  },
  {
   "cell_type": "code",
   "execution_count": null,
   "metadata": {},
   "outputs": [],
   "source": [
    "#plot the data with the predicted 30 days\n",
    "plt.figure(figsize=(12,8))\n",
    "plt.plot(df['Close'], color='blue')\n",
    "plt.plot(forecast_dates[:len(forecast)],forecast,color='orange')\n",
    "plt.legend(['actual','forecasted'])\n",
    "plt.title(\"IHH Healthcare Berhad\")\n",
    "plt.xlabel('Date')\n",
    "plt.ylabel('Price')\n",
    "plt.show()"
   ]
  },
  {
   "cell_type": "code",
   "execution_count": null,
   "metadata": {},
   "outputs": [],
   "source": [
    "#get the prediction for 1 year\n",
    "num_prediction = 365\n",
    "forecast = predict(num_prediction, model)\n",
    "forecast_dates = predict_dates(num_prediction)\n",
    "    \n",
    "forecast[-1]"
   ]
  },
  {
   "cell_type": "markdown",
   "metadata": {},
   "source": [
    "## Predict Using Linear Regression (Petronas Chemicals)"
   ]
  },
  {
   "cell_type": "code",
   "execution_count": null,
   "metadata": {},
   "outputs": [],
   "source": [
    "#Importing the required libraries \n",
    "import pandas as pd\n",
    "import math\n",
    "import numpy as np\n",
    "import matplotlib.pyplot as plt\n",
    "import pandas_datareader as web\n",
    "from sklearn import metrics\n",
    "from sklearn.linear_model import LinearRegression\n",
    "from sklearn.model_selection import train_test_split"
   ]
  },
  {
   "cell_type": "markdown",
   "metadata": {},
   "source": [
    "# Analysis"
   ]
  },
  {
   "cell_type": "code",
   "execution_count": null,
   "metadata": {},
   "outputs": [],
   "source": [
    "#Reads the data and changes it into a dataframe\n",
    "df5183 = web.DataReader('5183.KL', data_source='yahoo', start='2011-03-12',end='2020-03-12')"
   ]
  },
  {
   "cell_type": "code",
   "execution_count": null,
   "metadata": {},
   "outputs": [],
   "source": [
    "#Creates a new column to show the difference between the open and close of the data (how much it rises or falls in a day)\n",
    "df5183['Difference'] = df5183['Open'] - df5183['Close']\n",
    "df5183.head()"
   ]
  },
  {
   "cell_type": "code",
   "execution_count": null,
   "metadata": {},
   "outputs": [],
   "source": [
    "df5183.tail()"
   ]
  },
  {
   "cell_type": "code",
   "execution_count": null,
   "metadata": {},
   "outputs": [],
   "source": [
    "# Highest changes in stock price\n",
    "print(\"Max increase in MYR: RM\", round(df5183['Difference'].max(), 2))\n",
    "print(\"Max decrease in MYR: RM\",round(df5183['Difference'].min(), 2))"
   ]
  },
  {
   "cell_type": "code",
   "execution_count": null,
   "metadata": {},
   "outputs": [],
   "source": [
    "# Max and min stock price\n",
    "print(\"Max stock price: MYR\", round(df5183['Adj Close'].max(), 2))\n",
    "print(\"Min stock price: MYR\", round(df5183['Adj Close'].min(), 2))"
   ]
  },
  {
   "cell_type": "code",
   "execution_count": null,
   "metadata": {},
   "outputs": [],
   "source": [
    "# Moving average of stock price\n",
    "print(\"The moving average of stock price: \")\n",
    "df5183['Adj Close'].sum() / len(df5183['Adj Close'])"
   ]
  },
  {
   "cell_type": "code",
   "execution_count": null,
   "metadata": {},
   "outputs": [],
   "source": [
    "#Plots the figure based on adjusted close \n",
    "plt.figure(figsize = (12,8))\n",
    "plt.plot(df5183['Adj Close'])\n",
    "plt.xlabel(\"Year\")\n",
    "plt.ylabel(\"Price\")\n",
    "plt.show()"
   ]
  },
  {
   "cell_type": "code",
   "execution_count": null,
   "metadata": {},
   "outputs": [],
   "source": [
    "#Creates a csv for the dataframe\n",
    "df5183.to_csv('pchem.csv')"
   ]
  },
  {
   "cell_type": "markdown",
   "metadata": {},
   "source": [
    "# Training"
   ]
  },
  {
   "cell_type": "code",
   "execution_count": null,
   "metadata": {},
   "outputs": [],
   "source": [
    "#Creates a new list called dfPre, this is where we do the predictions\n",
    "dfPre = []\n",
    "dfPre = df5183[['Adj Close']]"
   ]
  },
  {
   "cell_type": "code",
   "execution_count": null,
   "metadata": {},
   "outputs": [],
   "source": [
    "print(dfPre.head())"
   ]
  },
  {
   "cell_type": "code",
   "execution_count": null,
   "metadata": {},
   "outputs": [],
   "source": [
    "#predict n days into the future, in this case, 30\n",
    "forecast_out = 30 \n",
    "#Creates a new column that is shifted based on the forecast_out\n",
    "dfPre['Prediction'] = dfPre[['Adj Close']].shift(-forecast_out) \n",
    "print(dfPre.head())"
   ]
  },
  {
   "cell_type": "code",
   "execution_count": null,
   "metadata": {},
   "outputs": [],
   "source": [
    "X = np.array(dfPre.drop(['Prediction'], 1))\n",
    "len(X)  #Checks the amount of data"
   ]
  },
  {
   "cell_type": "code",
   "execution_count": null,
   "metadata": {},
   "outputs": [],
   "source": [
    "#reserving 60 data for testing\n",
    "X_new = X[0:2165] #Creates a new X ommitting 60 units of the data\n",
    "len(X_new) + 60 #Check if the amount of data is correct "
   ]
  },
  {
   "cell_type": "code",
   "execution_count": null,
   "metadata": {},
   "outputs": [],
   "source": [
    "y = np.array(dfPre['Prediction']) #Creates a y with only the prediction column\n",
    "y_new = y[:-60] #Takes away the last 60 columns \n",
    "len(y_new)"
   ]
  },
  {
   "cell_type": "code",
   "execution_count": null,
   "metadata": {},
   "outputs": [],
   "source": [
    "#Split the data into train and test with a ratio of 1:5\n",
    "X_train, X_test, y_train, y_test = train_test_split(X_new, y_new, test_size = 0.2) "
   ]
  },
  {
   "cell_type": "code",
   "execution_count": null,
   "metadata": {},
   "outputs": [],
   "source": [
    "y = np.array(dfPre['Prediction'])\n",
    "y = y[:-forecast_out] #Takes away the last n columns which were supposed to be predicted\n",
    "print(y)\n",
    "len(y)"
   ]
  },
  {
   "cell_type": "code",
   "execution_count": null,
   "metadata": {},
   "outputs": [],
   "source": [
    "lr = LinearRegression() #Creates the model\n",
    "lr.fit(X_train, y_train) #Trains the model"
   ]
  },
  {
   "cell_type": "markdown",
   "metadata": {},
   "source": [
    "# Testing"
   ]
  },
  {
   "cell_type": "code",
   "execution_count": null,
   "metadata": {},
   "outputs": [],
   "source": [
    "y_pre = lr.predict(X[2195:2225]) #Creates a list that stores the predictions of the last 30 days\n",
    "print(\"Predicted last 30 days\")\n",
    "print(y_pre)"
   ]
  },
  {
   "cell_type": "code",
   "execution_count": null,
   "metadata": {},
   "outputs": [],
   "source": [
    "confidence = lr.score(X_test, y_test) #Checks the confidence score\n",
    "print(\"Confidence Score: \", confidence)"
   ]
  },
  {
   "cell_type": "code",
   "execution_count": null,
   "metadata": {},
   "outputs": [],
   "source": [
    "x_forecast = np.array(dfPre.drop(['Prediction'], 1))[-forecast_out:] #Checks the actual last 30 days\n",
    "print(\"Actual last 30 days: \")\n",
    "print(x_forecast)"
   ]
  },
  {
   "cell_type": "code",
   "execution_count": null,
   "metadata": {},
   "outputs": [],
   "source": [
    "#Creates a graph that compares the actual with predicted results\n",
    "plt.figure(figsize = (12,8))\n",
    "plt.plot(y_pre, color='r')\n",
    "plt.plot(x_forecast, color='b')\n",
    "plt.legend(['Forecasted', 'Actual'])\n",
    "plt.xlabel(\"Days\")\n",
    "plt.ylabel(\"Price\")"
   ]
  },
  {
   "cell_type": "code",
   "execution_count": null,
   "metadata": {},
   "outputs": [],
   "source": [
    "print(\"Mean Squared Error: \", metrics.mean_squared_error(y_pre, x_forecast)) #Checks the mse"
   ]
  },
  {
   "cell_type": "markdown",
   "metadata": {},
   "source": [
    "# Prediction"
   ]
  },
  {
   "cell_type": "code",
   "execution_count": null,
   "metadata": {},
   "outputs": [],
   "source": [
    "y_pre2 = [] \n",
    "y_pre2.append(np.array(y_pre)) #Creates 12 months worth of predicted data to predict a year into the future\n",
    "for x in range(11): \n",
    "    y_pre_alt = y_pre2[x]\n",
    "    y_pre_in = lr.predict(y_pre_alt.reshape(-1, 1))\n",
    "    y_pre2.append(np.array(y_pre_in))"
   ]
  },
  {
   "cell_type": "code",
   "execution_count": null,
   "metadata": {},
   "outputs": [],
   "source": [
    "forward = []\n",
    "for x in y_pre2: #Takes the 12 months of data and changes them from a 2-D list to a 1-D list\n",
    "    for y in x:\n",
    "        forward.append(y)"
   ]
  },
  {
   "cell_type": "code",
   "execution_count": null,
   "metadata": {},
   "outputs": [],
   "source": [
    "#The stock prices predicted from 1 day into the future, to a year into the future\n",
    "plt.figure(figsize = (12,8))\n",
    "plt.plot(forward)\n",
    "plt.xlabel(\"Days into the Future\")\n",
    "plt.ylabel(\"Price\")"
   ]
  },
  {
   "cell_type": "code",
   "execution_count": null,
   "metadata": {},
   "outputs": [],
   "source": [
    "print(\"Final Value: \")\n",
    "print(forward[len(forward)-1])"
   ]
  },
  {
   "cell_type": "markdown",
   "metadata": {},
   "source": [
    "## Predict Using Linear Regression (Maxis Communications)"
   ]
  },
  {
   "cell_type": "code",
   "execution_count": null,
   "metadata": {},
   "outputs": [],
   "source": [
    "#Importing the required libraries \n",
    "import pandas as pd\n",
    "import math\n",
    "import numpy as np\n",
    "import matplotlib.pyplot as plt\n",
    "import pandas_datareader as web\n",
    "from sklearn.linear_model import LinearRegression\n",
    "from sklearn.model_selection import train_test_split\n",
    "from sklearn import metrics"
   ]
  },
  {
   "cell_type": "markdown",
   "metadata": {},
   "source": [
    "# Analysis"
   ]
  },
  {
   "cell_type": "code",
   "execution_count": null,
   "metadata": {},
   "outputs": [],
   "source": [
    "#Reads the data and changes it into a dataframe\n",
    "df6012 = web.DataReader('6012.KL', data_source='yahoo', start='2011-03-12',end='2020-03-12') "
   ]
  },
  {
   "cell_type": "code",
   "execution_count": null,
   "metadata": {},
   "outputs": [],
   "source": [
    "#Creates a new column to show the difference between the open and close of the data (how much it rises or falls in a day)\n",
    "df6012['Difference'] = df6012['Open'] - df6012['Close']\n",
    "df6012.head()"
   ]
  },
  {
   "cell_type": "code",
   "execution_count": null,
   "metadata": {},
   "outputs": [],
   "source": [
    "df6012.tail()"
   ]
  },
  {
   "cell_type": "code",
   "execution_count": null,
   "metadata": {},
   "outputs": [],
   "source": [
    "# Highest changes in stock price\n",
    "print(\"Max increase in MYR: RM\", round(df6012['Difference'].max(), 2))\n",
    "print(\"Max decrease in MYR: RM\",round(df6012['Difference'].min(), 2))"
   ]
  },
  {
   "cell_type": "code",
   "execution_count": null,
   "metadata": {},
   "outputs": [],
   "source": [
    "# Max and min stock price\n",
    "print(\"Max stock price: MYR\", round(df6012['Adj Close'].max(), 2))\n",
    "print(\"Min stock price: MYR\", round(df6012['Adj Close'].min(), 2))"
   ]
  },
  {
   "cell_type": "code",
   "execution_count": null,
   "metadata": {},
   "outputs": [],
   "source": [
    "# Moving average of stock price\n",
    "print(\"The moving average of stock price: \")\n",
    "df6012['Adj Close'].sum() / len(df6012['Adj Close'])"
   ]
  },
  {
   "cell_type": "code",
   "execution_count": null,
   "metadata": {},
   "outputs": [],
   "source": [
    "#Plots the figure based on adjusted close \n",
    "plt.figure(figsize = (12,8))\n",
    "plt.plot(df6012['Adj Close'])\n",
    "plt.xlabel(\"Year\")\n",
    "plt.ylabel(\"Price\")\n",
    "plt.show()"
   ]
  },
  {
   "cell_type": "code",
   "execution_count": null,
   "metadata": {},
   "outputs": [],
   "source": [
    "#Creates a csv for the dataframe\n",
    "df6012.to_csv('maxis.csv')"
   ]
  },
  {
   "cell_type": "markdown",
   "metadata": {},
   "source": [
    "# Training"
   ]
  },
  {
   "cell_type": "code",
   "execution_count": null,
   "metadata": {},
   "outputs": [],
   "source": [
    "#Creates a new list called dfPre, this is where we do the predictions\n",
    "dfPre = []\n",
    "dfPre = df6012[['Adj Close']]"
   ]
  },
  {
   "cell_type": "code",
   "execution_count": null,
   "metadata": {},
   "outputs": [],
   "source": [
    "print(dfPre.head())"
   ]
  },
  {
   "cell_type": "code",
   "execution_count": null,
   "metadata": {},
   "outputs": [],
   "source": [
    "#predict n days into the future, in this case, 30\n",
    "forecast_out = 30 \n",
    "#Creates a new column that is shifted based on the forecast_out\n",
    "dfPre['Prediction'] = dfPre[['Adj Close']].shift(-forecast_out) \n",
    "print(dfPre.head())"
   ]
  },
  {
   "cell_type": "code",
   "execution_count": null,
   "metadata": {},
   "outputs": [],
   "source": [
    "X = np.array(dfPre.drop(['Prediction'], 1))\n",
    "len(X) #Checks the amount of data"
   ]
  },
  {
   "cell_type": "code",
   "execution_count": null,
   "metadata": {},
   "outputs": [],
   "source": [
    "#reserving 60 data for testing\n",
    "X_new = X[0:2165] #Creates a new X ommitting 60 units of the data\n",
    "len(X_new) + 60 #Check if the amount of data is correct "
   ]
  },
  {
   "cell_type": "code",
   "execution_count": null,
   "metadata": {},
   "outputs": [],
   "source": [
    "y = np.array(dfPre['Prediction']) #Creates a y with only the prediction column\n",
    "y_new = y[:-60] #Takes away the last 60 columns \n",
    "len(y_new)"
   ]
  },
  {
   "cell_type": "code",
   "execution_count": null,
   "metadata": {},
   "outputs": [],
   "source": [
    "#Split the data into train and test with a ratio of 1:5\n",
    "X_train, X_test, y_train, y_test = train_test_split(X_new, y_new, test_size = 0.2) "
   ]
  },
  {
   "cell_type": "code",
   "execution_count": null,
   "metadata": {},
   "outputs": [],
   "source": [
    "y = np.array(dfPre['Prediction'])\n",
    "y = y[:-forecast_out] #Takes away the last n columns which were supposed to be predicted\n",
    "print(y)\n",
    "len(y)"
   ]
  },
  {
   "cell_type": "code",
   "execution_count": null,
   "metadata": {},
   "outputs": [],
   "source": [
    "lr = LinearRegression() #Creates the model\n",
    "lr.fit(X_train, y_train) #Trains the model"
   ]
  },
  {
   "cell_type": "markdown",
   "metadata": {},
   "source": [
    "# Testing"
   ]
  },
  {
   "cell_type": "code",
   "execution_count": null,
   "metadata": {},
   "outputs": [],
   "source": [
    "y_pre = lr.predict(X[2195:2225]) #Creates a list that stores the predictions of the last 30 days\n",
    "print(\"Predicted last 30 days\")\n",
    "print(y_pre)"
   ]
  },
  {
   "cell_type": "code",
   "execution_count": null,
   "metadata": {},
   "outputs": [],
   "source": [
    "confidence = lr.score(X_test, y_test) #Checks the confidence score\n",
    "print(\"Confidence Score: \", confidence) "
   ]
  },
  {
   "cell_type": "code",
   "execution_count": null,
   "metadata": {},
   "outputs": [],
   "source": [
    "x_forecast = np.array(dfPre.drop(['Prediction'], 1))[-forecast_out:] #Checks the actual last 30 days\n",
    "print(\"Actual last 30 days: \")\n",
    "print(x_forecast)"
   ]
  },
  {
   "cell_type": "code",
   "execution_count": null,
   "metadata": {},
   "outputs": [],
   "source": [
    "#Creates a graph that compares the actual with predicted results\n",
    "plt.figure(figsize = (12,8))\n",
    "plt.plot(y_pre, color='r')\n",
    "plt.plot(x_forecast, color='b') \n",
    "plt.legend(['Forecasted', 'Actual'])\n",
    "plt.xlabel(\"Days\")\n",
    "plt.ylabel(\"Price\")"
   ]
  },
  {
   "cell_type": "code",
   "execution_count": null,
   "metadata": {},
   "outputs": [],
   "source": [
    "print(\"Mean Squared Error: \", metrics.mean_squared_error(y_pre, x_forecast)) #Checks the mse"
   ]
  },
  {
   "cell_type": "markdown",
   "metadata": {},
   "source": [
    "# Prediction"
   ]
  },
  {
   "cell_type": "code",
   "execution_count": null,
   "metadata": {},
   "outputs": [],
   "source": [
    "y_pre2 = [] \n",
    "y_pre2.append(np.array(y_pre)) #Creates 12 months worth of predicted data to predict a year into the future\n",
    "for x in range(11):\n",
    "    y_pre_alt = y_pre2[x]\n",
    "    y_pre_in = lr.predict(y_pre_alt.reshape(-1, 1))\n",
    "    y_pre2.append(np.array(y_pre_in))"
   ]
  },
  {
   "cell_type": "code",
   "execution_count": null,
   "metadata": {},
   "outputs": [],
   "source": [
    "forward = []\n",
    "for x in y_pre2: #Takes the 12 months of data and changes them from a 2-D list to a 1-D list\n",
    "    for y in x:\n",
    "        forward.append(y)"
   ]
  },
  {
   "cell_type": "code",
   "execution_count": null,
   "metadata": {},
   "outputs": [],
   "source": [
    "#The stock prices predicted from 1 day into the future, to a year into the future\n",
    "plt.figure(figsize = (12,8))\n",
    "plt.plot(forward)\n",
    "plt.xlabel(\"Days into the Future\")\n",
    "plt.ylabel(\"Price\")"
   ]
  },
  {
   "cell_type": "code",
   "execution_count": null,
   "metadata": {},
   "outputs": [],
   "source": [
    "print(\"Final Value: \")\n",
    "print(forward[len(forward)-1])"
   ]
  },
  {
   "cell_type": "markdown",
   "metadata": {},
   "source": [
    "## Predict Using Linear Regression (Axiata)"
   ]
  },
  {
   "cell_type": "code",
   "execution_count": null,
   "metadata": {},
   "outputs": [],
   "source": [
    "import numpy as np\n",
    "import math\n",
    "import datetime\n",
    "import matplotlib.pyplot as plt\n",
    "from sklearn.linear_model import LinearRegression\n",
    "from sklearn.model_selection import train_test_split\n",
    "from sklearn.metrics import mean_squared_error,confusion_matrix, classification_report\n",
    "\n",
    "import pandas as pd\n",
    "import pandas_datareader as web"
   ]
  },
  {
   "cell_type": "code",
   "execution_count": null,
   "metadata": {},
   "outputs": [],
   "source": [
    "# Get and encode data\n",
    "df = web.DataReader('6888.KL', data_source='yahoo', start='2011-05-12',end='2020-05-12')\n",
    "df.to_csv('stock5.csv')\n",
    "df = pd.read_csv('stock5.csv')"
   ]
  },
  {
   "cell_type": "code",
   "execution_count": null,
   "metadata": {},
   "outputs": [],
   "source": [
    "# Set date as index\n",
    "df = df.set_index('Date')"
   ]
  },
  {
   "cell_type": "markdown",
   "metadata": {},
   "source": [
    "# Analysis"
   ]
  },
  {
   "cell_type": "code",
   "execution_count": null,
   "metadata": {},
   "outputs": [],
   "source": [
    "df.tail()"
   ]
  },
  {
   "cell_type": "code",
   "execution_count": null,
   "metadata": {},
   "outputs": [],
   "source": [
    "from pandas.plotting import register_matplotlib_converters\n",
    "register_matplotlib_converters()\n",
    "\n",
    "# Plotting the data\n",
    "plt.figure(figsize = (12,8))\n",
    "plt.plot(df['Adj Close'])\n",
    "plt.xlabel(\"Year\")\n",
    "plt.ylabel(\"Price\")\n",
    "plt.show()"
   ]
  },
  {
   "cell_type": "code",
   "execution_count": null,
   "metadata": {},
   "outputs": [],
   "source": [
    "# Highest changes in stock price\n",
    "df['New']=df['Open']-df['Close']\n",
    "print('Highest increase: MYR' + str(round(max(df['New']),2)) + ' on ' + df['New'].idxmax(axis = 1, skipna = True))\n",
    "print('Highest decrease: MYR' + str(round(min(df['New']),2)) + ' on ' + df['New'].idxmin(axis = 1, skipna = True)"
   ]
  },
  {
   "cell_type": "code",
   "execution_count": null,
   "metadata": {},
   "outputs": [],
   "source": [
    "# Max and min stock price\n",
    "print('Max: MYR' + str(round(max(df['Close']),2)))\n",
    "print('Min: MYR' + str(round(min(df['Close']),2)))"
   ]
  },
  {
   "cell_type": "code",
   "execution_count": null,
   "metadata": {},
   "outputs": [],
   "source": [
    "# Moving average of stock price\n",
    "df['Adj Close'].sum() / len(df['Adj Close'])"
   ]
  },
  {
   "cell_type": "markdown",
   "metadata": {},
   "source": [
    "# Train"
   ]
  },
  {
   "cell_type": "code",
   "execution_count": null,
   "metadata": {},
   "outputs": [],
   "source": [
    "# Creating the dataset for the model, extract only the needed variable from original dataset\n",
    "df2=[]\n",
    "df2 = df[['Adj Close']]\n",
    "\n",
    "print(df2.head())"
   ]
  },
  {
   "cell_type": "code",
   "execution_count": null,
   "metadata": {},
   "outputs": [],
   "source": [
    "# Generate new column for prediction (price 30 entries ahead)\n",
    "forecast_out = 30\n",
    "df2['Prediction'] = df2[['Adj Close']].shift(-forecast_out)\n",
    "\n",
    "print(df2.head())"
   ]
  },
  {
   "cell_type": "code",
   "execution_count": null,
   "metadata": {},
   "outputs": [],
   "source": [
    "# Setting close as X\n",
    "X = np.array(df2.drop(['Prediction'], 1))\n",
    "\n",
    "# Reserving 60 data for testing\n",
    "X_new = X[0:2123]"
   ]
  },
  {
   "cell_type": "code",
   "execution_count": null,
   "metadata": {},
   "outputs": [],
   "source": [
    "# Setting prediction as y\n",
    "y = np.array(df2['Prediction'])\n",
    "\n",
    "# Reserving 60 data for testing\n",
    "y_new = y[:-60]"
   ]
  },
  {
   "cell_type": "code",
   "execution_count": null,
   "metadata": {},
   "outputs": [],
   "source": [
    "# Splitting data in test and train in 80/20\n",
    "X_train, X_test, y_train, y_test = train_test_split(X_new, y_new, test_size = 0.2)"
   ]
  },
  {
   "cell_type": "code",
   "execution_count": null,
   "metadata": {},
   "outputs": [],
   "source": [
    "# Setting y as prediction, reserving last 30 for forecasting out\n",
    "y = np.array(df2['Prediction'])\n",
    "y = y[:-forecast_out]\n",
    "print(y)\n",
    "len(y)"
   ]
  },
  {
   "cell_type": "markdown",
   "metadata": {},
   "source": [
    "# Validation"
   ]
  },
  {
   "cell_type": "code",
   "execution_count": null,
   "metadata": {},
   "outputs": [],
   "source": [
    "# Training linear regression\n",
    "lr = LinearRegression()\n",
    "lr.fit(X_train, y_train)"
   ]
  },
  {
   "cell_type": "code",
   "execution_count": null,
   "metadata": {},
   "outputs": [],
   "source": [
    "# Predicting the last 30 days with the model \n",
    "y_pre = lr.predict(X[2153:2183])\n",
    "print(\"Predicted last 30 days\")\n",
    "print(y_pre)"
   ]
  },
  {
   "cell_type": "code",
   "execution_count": null,
   "metadata": {},
   "outputs": [],
   "source": [
    "# Calculating confidence score\n",
    "confidence = lr.score(X_test, y_test)\n",
    "print(\"Confidence Score: \", confidence)"
   ]
  },
  {
   "cell_type": "code",
   "execution_count": null,
   "metadata": {},
   "outputs": [],
   "source": [
    "# Actual data of last 30 days\n",
    "x_forecast = np.array(df2.drop(['Prediction'], 1))[-forecast_out:]"
   ]
  },
  {
   "cell_type": "code",
   "execution_count": null,
   "metadata": {},
   "outputs": [],
   "source": [
    "# PLotting the predicted values with the actual values\n",
    "plt.plot(y_pre, color='r')\n",
    "plt.plot(x_forecast, color='b')\n",
    "plt.legend(['Forecasted', 'Actual'])\n",
    "plt.xlabel(\"Days\")\n",
    "plt.ylabel(\"Price\")"
   ]
  },
  {
   "cell_type": "code",
   "execution_count": null,
   "metadata": {},
   "outputs": [],
   "source": [
    "# Calculate mse score\n",
    "print(\"Mean Squared Error: \", mean_squared_error(y_pre, x_forecast))"
   ]
  },
  {
   "cell_type": "markdown",
   "metadata": {},
   "source": [
    "# Prediction"
   ]
  },
  {
   "cell_type": "code",
   "execution_count": null,
   "metadata": {},
   "outputs": [],
   "source": [
    "# Repeat the prediction with the model 11 times\n",
    "y_pre2 = [] \n",
    "y_pre2.append(np.array(y_pre))\n",
    "for x in range(11):\n",
    "    y_pre_alt = y_pre2[x]\n",
    "    y_pre_in = lr.predict(y_pre_alt.reshape(-1, 1))\n",
    "    y_pre2.append(np.array(y_pre_in))"
   ]
  },
  {
   "cell_type": "code",
   "execution_count": null,
   "metadata": {},
   "outputs": [],
   "source": [
    "# Combine the predicted data into one list\n",
    "forward = []\n",
    "for x in y_pre2:\n",
    "    for y in x:\n",
    "        forward.append(y)"
   ]
  },
  {
   "cell_type": "code",
   "execution_count": null,
   "metadata": {},
   "outputs": [],
   "source": [
    "# Append the predicted data to previous data (for plotting comparison)\n",
    "xxx = np.append(X[1889:], forward)"
   ]
  },
  {
   "cell_type": "code",
   "execution_count": null,
   "metadata": {},
   "outputs": [],
   "source": [
    "#The stock prices predicted from 1 day into the future, to a year into the future\n",
    "plt.figure(figsize = (12,8))\n",
    "plt.plot(xxx, color='r')\n",
    "plt.plot(X[1889:], color='b')\n",
    "plt.xlabel(\"Days since 2019\")\n",
    "plt.ylabel(\"Price\")"
   ]
  }
 ],
 "metadata": {
  "kernelspec": {
   "display_name": "Python 3",
   "language": "python",
   "name": "python3"
  },
  "language_info": {
   "codemirror_mode": {
    "name": "ipython",
    "version": 3
   },
   "file_extension": ".py",
   "mimetype": "text/x-python",
   "name": "python",
   "nbconvert_exporter": "python",
   "pygments_lexer": "ipython3",
   "version": "3.7.6"
  }
 },
 "nbformat": 4,
 "nbformat_minor": 4
}
