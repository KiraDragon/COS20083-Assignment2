{
 "cells": [
  {
   "cell_type": "code",
   "execution_count": 1,
   "metadata": {},
   "outputs": [
    {
     "name": "stderr",
     "output_type": "stream",
     "text": [
      "C:\\Users\\ADMIN\\anaconda3\\lib\\site-packages\\pandas_datareader\\compat\\__init__.py:7: FutureWarning: pandas.util.testing is deprecated. Use the functions in the public API at pandas.testing instead.\n",
      "  from pandas.util.testing import assert_frame_equal\n"
     ]
    }
   ],
   "source": [
    "#Importing the required libraries \n",
    "import pandas as pd\n",
    "import math\n",
    "import numpy as np\n",
    "import matplotlib.pyplot as plt\n",
    "import pandas_datareader as web\n",
    "from sklearn import metrics\n",
    "from sklearn.linear_model import LinearRegression\n",
    "from sklearn.model_selection import train_test_split"
   ]
  },
  {
   "cell_type": "code",
   "execution_count": 2,
   "metadata": {},
   "outputs": [],
   "source": [
    "#Importing the required libraries for web scraping\n",
    "import requests\n",
    "from bs4 import BeautifulSoup\n",
    "import bs4\n",
    "from fastnumbers import isfloat \n",
    "from fastnumbers import fast_float\n",
    "from multiprocessing.dummy import Pool as ThreadPool "
   ]
  },
  {
   "cell_type": "markdown",
   "metadata": {},
   "source": [
    "# Web Scraping"
   ]
  },
  {
   "cell_type": "code",
   "execution_count": 3,
   "metadata": {},
   "outputs": [],
   "source": [
    "#Data cleaning functions for web scraping\n",
    "\n",
    "def ffloat(string): #Cleans the commas and % from the string given\n",
    "    if string is None:\n",
    "        return np.nan\n",
    "    if type(string)==float or type(string)==np.float64:\n",
    "        return string\n",
    "    if type(string)==int or type(string)==np.int64:\n",
    "        return string\n",
    "    return fast_float(string.split(\" \")[0].replace(',','').replace('%',''),\n",
    "                      default=np.nan)\n",
    "\n",
    "def ffloat_list(string_list): #Cleans the string from a whole list of string\n",
    "    return list(map(ffloat,string_list))\n",
    "\n",
    "def remove_multiple_spaces(string): #Strips the spaces from string\n",
    "    if type(string)==str:\n",
    "        return ' '.join(string.split())\n",
    "    return string\n",
    "\n",
    "def get_children(html_content): #Gets the child content from the html tag, usually for tables where <td> is a child of <tr>\n",
    "    return [item for item in html_content.children if \n",
    "            type(item)==bs4.element.Tag or \n",
    "            len(str(item).replace(\"\\n\",\"\").strip())>0]"
   ]
  },
  {
   "cell_type": "code",
   "execution_count": 4,
   "metadata": {},
   "outputs": [
    {
     "data": {
      "text/plain": [
       "200"
      ]
     },
     "execution_count": 4,
     "metadata": {},
     "output_type": "execute_result"
    }
   ],
   "source": [
    "response = requests.get(\"https://finance.yahoo.com/gainers\", timeout=240) #Establishes a connection to the website   \n",
    "response.status_code #If its more than 240, then the connection is not established"
   ]
  },
  {
   "cell_type": "code",
   "execution_count": 5,
   "metadata": {},
   "outputs": [],
   "source": [
    "html = BeautifulSoup(response.content, \"html.parser\") #Gets the html content of the page"
   ]
  },
  {
   "cell_type": "code",
   "execution_count": 6,
   "metadata": {},
   "outputs": [],
   "source": [
    "def get_table_simple(table,is_table_tag=True): #Changes the table data in the form of a list\n",
    "    elems = table.find_all('tr') if is_table_tag else get_children(table)\n",
    "    table_data = list()\n",
    "    for row in elems:\n",
    "        row_data = list()\n",
    "        row_elems = get_children(row)\n",
    "        for elem in row_elems:\n",
    "            text = elem.text.strip().replace(\"\\n\",\"\")\n",
    "            text = remove_multiple_spaces(text)\n",
    "            if len(text)==0:\n",
    "                continue\n",
    "            row_data.append(text)\n",
    "        table_data.append(row_data)\n",
    "    return table_data"
   ]
  },
  {
   "cell_type": "code",
   "execution_count": 7,
   "metadata": {},
   "outputs": [
    {
     "name": "stdout",
     "output_type": "stream",
     "text": [
      "Top 5 gainers currently are: \n"
     ]
    },
    {
     "data": {
      "text/html": [
       "<div>\n",
       "<style scoped>\n",
       "    .dataframe tbody tr th:only-of-type {\n",
       "        vertical-align: middle;\n",
       "    }\n",
       "\n",
       "    .dataframe tbody tr th {\n",
       "        vertical-align: top;\n",
       "    }\n",
       "\n",
       "    .dataframe thead th {\n",
       "        text-align: right;\n",
       "    }\n",
       "</style>\n",
       "<table border=\"1\" class=\"dataframe\">\n",
       "  <thead>\n",
       "    <tr style=\"text-align: right;\">\n",
       "      <th></th>\n",
       "      <th>0</th>\n",
       "      <th>1</th>\n",
       "      <th>2</th>\n",
       "      <th>3</th>\n",
       "      <th>4</th>\n",
       "      <th>5</th>\n",
       "      <th>6</th>\n",
       "      <th>7</th>\n",
       "      <th>8</th>\n",
       "      <th>9</th>\n",
       "    </tr>\n",
       "  </thead>\n",
       "  <tbody>\n",
       "    <tr>\n",
       "      <th>0</th>\n",
       "      <td>Symbol</td>\n",
       "      <td>Name</td>\n",
       "      <td>Price (Intraday)</td>\n",
       "      <td>Change</td>\n",
       "      <td>% Change</td>\n",
       "      <td>Volume</td>\n",
       "      <td>Avg Vol (3 month)</td>\n",
       "      <td>Market Cap</td>\n",
       "      <td>PE Ratio (TTM)</td>\n",
       "      <td>52 Week Range</td>\n",
       "    </tr>\n",
       "    <tr>\n",
       "      <th>1</th>\n",
       "      <td>ZS</td>\n",
       "      <td>Zscaler, Inc.</td>\n",
       "      <td>98.09</td>\n",
       "      <td>+22.29</td>\n",
       "      <td>+29.41%</td>\n",
       "      <td>22.809M</td>\n",
       "      <td>3.35M</td>\n",
       "      <td>12.688B</td>\n",
       "      <td>N/A</td>\n",
       "      <td>None</td>\n",
       "    </tr>\n",
       "    <tr>\n",
       "      <th>2</th>\n",
       "      <td>PTKFF</td>\n",
       "      <td>PT Kalbe Farma Tbk.</td>\n",
       "      <td>0.1020</td>\n",
       "      <td>+0.0220</td>\n",
       "      <td>+27.50%</td>\n",
       "      <td>5.158M</td>\n",
       "      <td>381,555</td>\n",
       "      <td>5.58B</td>\n",
       "      <td>N/A</td>\n",
       "      <td>None</td>\n",
       "    </tr>\n",
       "    <tr>\n",
       "      <th>3</th>\n",
       "      <td>TBVPF</td>\n",
       "      <td>Thai Beverage Public Company Limited</td>\n",
       "      <td>0.5500</td>\n",
       "      <td>+0.1150</td>\n",
       "      <td>+26.44%</td>\n",
       "      <td>25,909</td>\n",
       "      <td>101,382</td>\n",
       "      <td>14.231B</td>\n",
       "      <td>25.00</td>\n",
       "      <td>None</td>\n",
       "    </tr>\n",
       "    <tr>\n",
       "      <th>4</th>\n",
       "      <td>PTXKY</td>\n",
       "      <td>PT XL Axiata Tbk</td>\n",
       "      <td>3.8000</td>\n",
       "      <td>+0.7200</td>\n",
       "      <td>+23.38%</td>\n",
       "      <td>47,587</td>\n",
       "      <td>8,388</td>\n",
       "      <td>2.266B</td>\n",
       "      <td>N/A</td>\n",
       "      <td>None</td>\n",
       "    </tr>\n",
       "    <tr>\n",
       "      <th>5</th>\n",
       "      <td>NWAU</td>\n",
       "      <td>Consumer Automotive Finance, Inc.</td>\n",
       "      <td>0.0225</td>\n",
       "      <td>+0.0028</td>\n",
       "      <td>+14.21%</td>\n",
       "      <td>549,897</td>\n",
       "      <td>523,927</td>\n",
       "      <td>39.381B</td>\n",
       "      <td>N/A</td>\n",
       "      <td>None</td>\n",
       "    </tr>\n",
       "  </tbody>\n",
       "</table>\n",
       "</div>"
      ],
      "text/plain": [
       "        0                                     1                 2        3  \\\n",
       "0  Symbol                                  Name  Price (Intraday)   Change   \n",
       "1      ZS                         Zscaler, Inc.             98.09   +22.29   \n",
       "2   PTKFF                   PT Kalbe Farma Tbk.            0.1020  +0.0220   \n",
       "3   TBVPF  Thai Beverage Public Company Limited            0.5500  +0.1150   \n",
       "4   PTXKY                      PT XL Axiata Tbk            3.8000  +0.7200   \n",
       "5    NWAU     Consumer Automotive Finance, Inc.            0.0225  +0.0028   \n",
       "\n",
       "          4        5                  6           7               8  \\\n",
       "0  % Change   Volume  Avg Vol (3 month)  Market Cap  PE Ratio (TTM)   \n",
       "1   +29.41%  22.809M              3.35M     12.688B             N/A   \n",
       "2   +27.50%   5.158M            381,555       5.58B             N/A   \n",
       "3   +26.44%   25,909            101,382     14.231B           25.00   \n",
       "4   +23.38%   47,587              8,388      2.266B             N/A   \n",
       "5   +14.21%  549,897            523,927     39.381B             N/A   \n",
       "\n",
       "               9  \n",
       "0  52 Week Range  \n",
       "1           None  \n",
       "2           None  \n",
       "3           None  \n",
       "4           None  \n",
       "5           None  "
      ]
     },
     "execution_count": 7,
     "metadata": {},
     "output_type": "execute_result"
    }
   ],
   "source": [
    "init_list = get_table_simple(html) #Gets the table from top gained and saves it as init_list\n",
    "top5list = [] #Creates an empty list\n",
    "for x in range(6): #Selects the top 5 of the table from top gained (0-5 as 0 is the headings and labels)\n",
    "    top5list.append(init_list[x]) #appends it to the top5 list\n",
    "dftop5gainers = pd.DataFrame.from_records(top5list) #Change the list into a dataframe\n",
    "print(\"Top 5 gainers currently are: \")\n",
    "dftop5gainers"
   ]
  },
  {
   "cell_type": "markdown",
   "metadata": {},
   "source": [
    "# Analysis"
   ]
  },
  {
   "cell_type": "code",
   "execution_count": 8,
   "metadata": {},
   "outputs": [],
   "source": [
    "#Reads the data and changes it into a dataframe\n",
    "df5183 = web.DataReader('5183.KL', data_source='yahoo', start='2011-03-12',end='2020-03-12')"
   ]
  },
  {
   "cell_type": "code",
   "execution_count": 9,
   "metadata": {},
   "outputs": [
    {
     "data": {
      "text/html": [
       "<div>\n",
       "<style scoped>\n",
       "    .dataframe tbody tr th:only-of-type {\n",
       "        vertical-align: middle;\n",
       "    }\n",
       "\n",
       "    .dataframe tbody tr th {\n",
       "        vertical-align: top;\n",
       "    }\n",
       "\n",
       "    .dataframe thead th {\n",
       "        text-align: right;\n",
       "    }\n",
       "</style>\n",
       "<table border=\"1\" class=\"dataframe\">\n",
       "  <thead>\n",
       "    <tr style=\"text-align: right;\">\n",
       "      <th></th>\n",
       "      <th>High</th>\n",
       "      <th>Low</th>\n",
       "      <th>Open</th>\n",
       "      <th>Close</th>\n",
       "      <th>Volume</th>\n",
       "      <th>Adj Close</th>\n",
       "      <th>Difference</th>\n",
       "    </tr>\n",
       "    <tr>\n",
       "      <th>Date</th>\n",
       "      <th></th>\n",
       "      <th></th>\n",
       "      <th></th>\n",
       "      <th></th>\n",
       "      <th></th>\n",
       "      <th></th>\n",
       "      <th></th>\n",
       "    </tr>\n",
       "  </thead>\n",
       "  <tbody>\n",
       "    <tr>\n",
       "      <th>2011-03-14</th>\n",
       "      <td>6.82</td>\n",
       "      <td>6.47</td>\n",
       "      <td>6.52</td>\n",
       "      <td>6.75</td>\n",
       "      <td>17068200.0</td>\n",
       "      <td>5.005249</td>\n",
       "      <td>-0.23</td>\n",
       "    </tr>\n",
       "    <tr>\n",
       "      <th>2011-03-15</th>\n",
       "      <td>6.77</td>\n",
       "      <td>6.56</td>\n",
       "      <td>6.75</td>\n",
       "      <td>6.59</td>\n",
       "      <td>17123100.0</td>\n",
       "      <td>4.886606</td>\n",
       "      <td>0.16</td>\n",
       "    </tr>\n",
       "    <tr>\n",
       "      <th>2011-03-16</th>\n",
       "      <td>6.67</td>\n",
       "      <td>6.58</td>\n",
       "      <td>6.62</td>\n",
       "      <td>6.63</td>\n",
       "      <td>13315400.0</td>\n",
       "      <td>4.916266</td>\n",
       "      <td>-0.01</td>\n",
       "    </tr>\n",
       "    <tr>\n",
       "      <th>2011-03-17</th>\n",
       "      <td>6.65</td>\n",
       "      <td>6.58</td>\n",
       "      <td>6.63</td>\n",
       "      <td>6.63</td>\n",
       "      <td>7634200.0</td>\n",
       "      <td>4.916266</td>\n",
       "      <td>0.00</td>\n",
       "    </tr>\n",
       "    <tr>\n",
       "      <th>2011-03-18</th>\n",
       "      <td>6.71</td>\n",
       "      <td>6.62</td>\n",
       "      <td>6.66</td>\n",
       "      <td>6.70</td>\n",
       "      <td>13221200.0</td>\n",
       "      <td>4.968173</td>\n",
       "      <td>-0.04</td>\n",
       "    </tr>\n",
       "  </tbody>\n",
       "</table>\n",
       "</div>"
      ],
      "text/plain": [
       "            High   Low  Open  Close      Volume  Adj Close  Difference\n",
       "Date                                                                  \n",
       "2011-03-14  6.82  6.47  6.52   6.75  17068200.0   5.005249       -0.23\n",
       "2011-03-15  6.77  6.56  6.75   6.59  17123100.0   4.886606        0.16\n",
       "2011-03-16  6.67  6.58  6.62   6.63  13315400.0   4.916266       -0.01\n",
       "2011-03-17  6.65  6.58  6.63   6.63   7634200.0   4.916266        0.00\n",
       "2011-03-18  6.71  6.62  6.66   6.70  13221200.0   4.968173       -0.04"
      ]
     },
     "execution_count": 9,
     "metadata": {},
     "output_type": "execute_result"
    }
   ],
   "source": [
    "#Creates a new column to show the difference between the open and close of the data (how much it rises or falls in a day)\n",
    "df5183['Difference'] = df5183['Open'] - df5183['Close']\n",
    "df5183.head()"
   ]
  },
  {
   "cell_type": "code",
   "execution_count": 10,
   "metadata": {},
   "outputs": [
    {
     "data": {
      "text/html": [
       "<div>\n",
       "<style scoped>\n",
       "    .dataframe tbody tr th:only-of-type {\n",
       "        vertical-align: middle;\n",
       "    }\n",
       "\n",
       "    .dataframe tbody tr th {\n",
       "        vertical-align: top;\n",
       "    }\n",
       "\n",
       "    .dataframe thead th {\n",
       "        text-align: right;\n",
       "    }\n",
       "</style>\n",
       "<table border=\"1\" class=\"dataframe\">\n",
       "  <thead>\n",
       "    <tr style=\"text-align: right;\">\n",
       "      <th></th>\n",
       "      <th>High</th>\n",
       "      <th>Low</th>\n",
       "      <th>Open</th>\n",
       "      <th>Close</th>\n",
       "      <th>Volume</th>\n",
       "      <th>Adj Close</th>\n",
       "      <th>Difference</th>\n",
       "    </tr>\n",
       "    <tr>\n",
       "      <th>Date</th>\n",
       "      <th></th>\n",
       "      <th></th>\n",
       "      <th></th>\n",
       "      <th></th>\n",
       "      <th></th>\n",
       "      <th></th>\n",
       "      <th></th>\n",
       "    </tr>\n",
       "  </thead>\n",
       "  <tbody>\n",
       "    <tr>\n",
       "      <th>2020-03-06</th>\n",
       "      <td>5.67</td>\n",
       "      <td>5.52</td>\n",
       "      <td>5.64</td>\n",
       "      <td>5.65</td>\n",
       "      <td>3884700.0</td>\n",
       "      <td>5.566207</td>\n",
       "      <td>-0.01</td>\n",
       "    </tr>\n",
       "    <tr>\n",
       "      <th>2020-03-09</th>\n",
       "      <td>5.35</td>\n",
       "      <td>4.40</td>\n",
       "      <td>5.35</td>\n",
       "      <td>4.40</td>\n",
       "      <td>25781200.0</td>\n",
       "      <td>4.334746</td>\n",
       "      <td>0.95</td>\n",
       "    </tr>\n",
       "    <tr>\n",
       "      <th>2020-03-10</th>\n",
       "      <td>4.63</td>\n",
       "      <td>4.24</td>\n",
       "      <td>4.30</td>\n",
       "      <td>4.35</td>\n",
       "      <td>15704300.0</td>\n",
       "      <td>4.285487</td>\n",
       "      <td>-0.05</td>\n",
       "    </tr>\n",
       "    <tr>\n",
       "      <th>2020-03-11</th>\n",
       "      <td>4.79</td>\n",
       "      <td>4.38</td>\n",
       "      <td>4.45</td>\n",
       "      <td>4.72</td>\n",
       "      <td>13616300.0</td>\n",
       "      <td>4.650000</td>\n",
       "      <td>-0.27</td>\n",
       "    </tr>\n",
       "    <tr>\n",
       "      <th>2020-03-12</th>\n",
       "      <td>4.70</td>\n",
       "      <td>4.45</td>\n",
       "      <td>4.54</td>\n",
       "      <td>4.65</td>\n",
       "      <td>10009100.0</td>\n",
       "      <td>4.650000</td>\n",
       "      <td>-0.11</td>\n",
       "    </tr>\n",
       "  </tbody>\n",
       "</table>\n",
       "</div>"
      ],
      "text/plain": [
       "            High   Low  Open  Close      Volume  Adj Close  Difference\n",
       "Date                                                                  \n",
       "2020-03-06  5.67  5.52  5.64   5.65   3884700.0   5.566207       -0.01\n",
       "2020-03-09  5.35  4.40  5.35   4.40  25781200.0   4.334746        0.95\n",
       "2020-03-10  4.63  4.24  4.30   4.35  15704300.0   4.285487       -0.05\n",
       "2020-03-11  4.79  4.38  4.45   4.72  13616300.0   4.650000       -0.27\n",
       "2020-03-12  4.70  4.45  4.54   4.65  10009100.0   4.650000       -0.11"
      ]
     },
     "execution_count": 10,
     "metadata": {},
     "output_type": "execute_result"
    }
   ],
   "source": [
    "df5183.tail()"
   ]
  },
  {
   "cell_type": "code",
   "execution_count": 11,
   "metadata": {},
   "outputs": [
    {
     "name": "stdout",
     "output_type": "stream",
     "text": [
      "Max increase in MYR: RM 0.95\n",
      "Max decrease in MYR: RM -0.46\n"
     ]
    }
   ],
   "source": [
    "# Highest changes in stock price\n",
    "print(\"Max increase in MYR: RM\", round(df5183['Difference'].max(), 2))\n",
    "print(\"Max decrease in MYR: RM\",round(df5183['Difference'].min(), 2))"
   ]
  },
  {
   "cell_type": "code",
   "execution_count": 12,
   "metadata": {},
   "outputs": [
    {
     "name": "stdout",
     "output_type": "stream",
     "text": [
      "Max stock price: MYR 9.22\n",
      "Min stock price: MYR 3.96\n"
     ]
    }
   ],
   "source": [
    "# Max and min stock price\n",
    "print(\"Max stock price: MYR\", round(df5183['Adj Close'].max(), 2))\n",
    "print(\"Min stock price: MYR\", round(df5183['Adj Close'].min(), 2))"
   ]
  },
  {
   "cell_type": "code",
   "execution_count": 13,
   "metadata": {},
   "outputs": [
    {
     "name": "stdout",
     "output_type": "stream",
     "text": [
      "The moving average of stock price: \n"
     ]
    },
    {
     "data": {
      "text/plain": [
       "6.088083837273415"
      ]
     },
     "execution_count": 13,
     "metadata": {},
     "output_type": "execute_result"
    }
   ],
   "source": [
    "# Moving average of stock price\n",
    "print(\"The moving average of stock price: \")\n",
    "df5183['Adj Close'].sum() / len(df5183['Adj Close'])"
   ]
  },
  {
   "cell_type": "code",
   "execution_count": 14,
   "metadata": {},
   "outputs": [
    {
     "data": {
      "image/png": "[encoded data removed]",
      "text/plain": [
       "<Figure size 864x576 with 1 Axes>"
      ]
     },
     "metadata": {
      "needs_background": "light"
     },
     "output_type": "display_data"
    }
   ],
   "source": [
    "#Plots the figure based on adjusted close \n",
    "plt.figure(figsize = (12,8))\n",
    "plt.plot(df5183['Adj Close'])\n",
    "plt.xlabel(\"Year\")\n",
    "plt.ylabel(\"Price\")\n",
    "plt.show()"
   ]
  },
  {
   "cell_type": "code",
   "execution_count": 15,
   "metadata": {},
   "outputs": [],
   "source": [
    "#Creates a csv for the dataframe\n",
    "df5183.to_csv('pchem.csv')"
   ]
  },
  {
   "cell_type": "markdown",
   "metadata": {},
   "source": [
    "# Training"
   ]
  },
  {
   "cell_type": "code",
   "execution_count": 16,
   "metadata": {},
   "outputs": [],
   "source": [
    "#Creates a new list called dfPre, this is where we do the predictions\n",
    "dfPre = []\n",
    "dfPre = df5183[['Adj Close']]"
   ]
  },
  {
   "cell_type": "code",
   "execution_count": 17,
   "metadata": {},
   "outputs": [
    {
     "name": "stdout",
     "output_type": "stream",
     "text": [
      "            Adj Close\n",
      "Date                 \n",
      "2011-03-14   5.005249\n",
      "2011-03-15   4.886606\n",
      "2011-03-16   4.916266\n",
      "2011-03-17   4.916266\n",
      "2011-03-18   4.968173\n"
     ]
    }
   ],
   "source": [
    "print(dfPre.head())"
   ]
  },
  {
   "cell_type": "code",
   "execution_count": 18,
   "metadata": {},
   "outputs": [
    {
     "name": "stdout",
     "output_type": "stream",
     "text": [
      "            Adj Close  Prediction\n",
      "Date                             \n",
      "2011-03-14   5.005249    5.376008\n",
      "2011-03-15   4.886606    5.361178\n",
      "2011-03-16   4.916266    5.353763\n",
      "2011-03-17   4.916266    5.346348\n",
      "2011-03-18   4.968173    5.361178\n"
     ]
    },
    {
     "name": "stderr",
     "output_type": "stream",
     "text": [
      "C:\\Users\\ADMIN\\anaconda3\\lib\\site-packages\\ipykernel_launcher.py:4: SettingWithCopyWarning: \n",
      "A value is trying to be set on a copy of a slice from a DataFrame.\n",
      "Try using .loc[row_indexer,col_indexer] = value instead\n",
      "\n",
      "See the caveats in the documentation: https://pandas.pydata.org/pandas-docs/stable/user_guide/indexing.html#returning-a-view-versus-a-copy\n",
      "  after removing the cwd from sys.path.\n"
     ]
    }
   ],
   "source": [
    "#predict n days into the future, in this case, 30\n",
    "forecast_out = 30 \n",
    "#Creates a new column that is shifted based on the forecast_out\n",
    "dfPre['Prediction'] = dfPre[['Adj Close']].shift(-forecast_out) \n",
    "print(dfPre.head())"
   ]
  },
  {
   "cell_type": "code",
   "execution_count": 19,
   "metadata": {},
   "outputs": [
    {
     "data": {
      "text/plain": [
       "2225"
      ]
     },
     "execution_count": 19,
     "metadata": {},
     "output_type": "execute_result"
    }
   ],
   "source": [
    "X = np.array(dfPre.drop(['Prediction'], 1))\n",
    "len(X)  #Checks the amount of data"
   ]
  },
  {
   "cell_type": "code",
   "execution_count": 20,
   "metadata": {},
   "outputs": [
    {
     "data": {
      "text/plain": [
       "2225"
      ]
     },
     "execution_count": 20,
     "metadata": {},
     "output_type": "execute_result"
    }
   ],
   "source": [
    "#reserving 60 data for testing\n",
    "X_new = X[0:2165] #Creates a new X ommitting 60 units of the data\n",
    "len(X_new) + 60 #Check if the amount of data is correct "
   ]
  },
  {
   "cell_type": "code",
   "execution_count": 21,
   "metadata": {},
   "outputs": [
    {
     "data": {
      "text/plain": [
       "2165"
      ]
     },
     "execution_count": 21,
     "metadata": {},
     "output_type": "execute_result"
    }
   ],
   "source": [
    "y = np.array(dfPre['Prediction']) #Creates a y with only the prediction column\n",
    "y_new = y[:-60] #Takes away the last 60 columns \n",
    "len(y_new)"
   ]
  },
  {
   "cell_type": "code",
   "execution_count": 22,
   "metadata": {},
   "outputs": [],
   "source": [
    "#Split the data into train and test with a ratio of 1:5\n",
    "X_train, X_test, y_train, y_test = train_test_split(X_new, y_new, test_size = 0.2) "
   ]
  },
  {
   "cell_type": "code",
   "execution_count": 23,
   "metadata": {},
   "outputs": [
    {
     "name": "stdout",
     "output_type": "stream",
     "text": [
      "[5.37600803 5.36117792 5.35376263 ... 4.28548717 4.64999962 4.6500001 ]\n"
     ]
    },
    {
     "data": {
      "text/plain": [
       "2195"
      ]
     },
     "execution_count": 23,
     "metadata": {},
     "output_type": "execute_result"
    }
   ],
   "source": [
    "y = np.array(dfPre['Prediction'])\n",
    "y = y[:-forecast_out] #Takes away the last n columns which were supposed to be predicted\n",
    "print(y)\n",
    "len(y)"
   ]
  },
  {
   "cell_type": "code",
   "execution_count": 24,
   "metadata": {},
   "outputs": [
    {
     "data": {
      "text/plain": [
       "LinearRegression(copy_X=True, fit_intercept=True, n_jobs=None, normalize=False)"
      ]
     },
     "execution_count": 24,
     "metadata": {},
     "output_type": "execute_result"
    }
   ],
   "source": [
    "lr = LinearRegression() #Creates the model\n",
    "lr.fit(X_train, y_train) #Trains the model"
   ]
  },
  {
   "cell_type": "markdown",
   "metadata": {},
   "source": [
    "# Testing"
   ]
  },
  {
   "cell_type": "code",
   "execution_count": 25,
   "metadata": {},
   "outputs": [
    {
     "name": "stdout",
     "output_type": "stream",
     "text": [
      "Predicted last 30 days\n",
      "[6.12128605 6.09273666 6.35919599 6.34967937 6.41629432 6.36871215\n",
      " 6.31161382 6.56855654 6.4353271  6.41629432 6.41629432 6.46387649\n",
      " 6.39726154 6.45435988 6.46387649 6.36871215 6.28306488 6.32113044\n",
      " 5.79772885 5.75014713 5.3694916  5.18867999 5.27432772 5.46465548\n",
      " 5.61691724 5.60740108 4.41785276 4.37027059 4.72237673 4.72237719]\n"
     ]
    }
   ],
   "source": [
    "y_pre = lr.predict(X[2195:2225]) #Creates a list that stores the predictions of the last 30 days\n",
    "print(\"Predicted last 30 days\")\n",
    "print(y_pre)"
   ]
  },
  {
   "cell_type": "code",
   "execution_count": 26,
   "metadata": {},
   "outputs": [
    {
     "name": "stdout",
     "output_type": "stream",
     "text": [
      "Confidence Score:  0.9273631565222775\n"
     ]
    }
   ],
   "source": [
    "confidence = lr.score(X_test, y_test) #Checks the confidence score\n",
    "print(\"Confidence Score: \", confidence)"
   ]
  },
  {
   "cell_type": "code",
   "execution_count": 27,
   "metadata": {},
   "outputs": [
    {
     "name": "stdout",
     "output_type": "stream",
     "text": [
      "Actual last 30 days: \n",
      "[[6.09819889]\n",
      " [6.06864357]\n",
      " [6.34449148]\n",
      " [6.33463955]\n",
      " [6.40360165]\n",
      " [6.35434294]\n",
      " [6.29523277]\n",
      " [6.56122875]\n",
      " [6.42330503]\n",
      " [6.40360165]\n",
      " [6.40360165]\n",
      " [6.45286036]\n",
      " [6.38389826]\n",
      " [6.44300842]\n",
      " [6.45286036]\n",
      " [6.35434294]\n",
      " [6.26567793]\n",
      " [6.30508471]\n",
      " [5.76324129]\n",
      " [5.71398306]\n",
      " [5.31991529]\n",
      " [5.13273287]\n",
      " [5.22139835]\n",
      " [5.41843224]\n",
      " [5.57605886]\n",
      " [5.56620741]\n",
      " [4.33474588]\n",
      " [4.28548717]\n",
      " [4.64999962]\n",
      " [4.6500001 ]]\n"
     ]
    }
   ],
   "source": [
    "x_forecast = np.array(dfPre.drop(['Prediction'], 1))[-forecast_out:] #Checks the actual last 30 days\n",
    "print(\"Actual last 30 days: \")\n",
    "print(x_forecast)"
   ]
  },
  {
   "cell_type": "code",
   "execution_count": 28,
   "metadata": {},
   "outputs": [
    {
     "data": {
      "text/plain": [
       "Text(0, 0.5, 'Price')"
      ]
     },
     "execution_count": 28,
     "metadata": {},
     "output_type": "execute_result"
    },
    {
     "data": {
      "image/png": "[encoded data removed]",
      "text/plain": [
       "<Figure size 864x576 with 1 Axes>"
      ]
     },
     "metadata": {
      "needs_background": "light"
     },
     "output_type": "display_data"
    }
   ],
   "source": [
    "#Creates a graph that compares the actual with predicted results\n",
    "plt.figure(figsize = (12,8))\n",
    "plt.plot(y_pre, color='r')\n",
    "plt.plot(x_forecast, color='b')\n",
    "plt.legend(['Forecasted', 'Actual'])\n",
    "plt.xlabel(\"Days\")\n",
    "plt.ylabel(\"Price\")"
   ]
  },
  {
   "cell_type": "code",
   "execution_count": 29,
   "metadata": {},
   "outputs": [
    {
     "name": "stdout",
     "output_type": "stream",
     "text": [
      "Mean Squared Error:  0.0014996692433451287\n"
     ]
    }
   ],
   "source": [
    "print(\"Mean Squared Error: \", metrics.mean_squared_error(y_pre, x_forecast)) #Checks the mse"
   ]
  },
  {
   "cell_type": "markdown",
   "metadata": {},
   "source": [
    "# Prediction"
   ]
  },
  {
   "cell_type": "code",
   "execution_count": 30,
   "metadata": {},
   "outputs": [],
   "source": [
    "y_pre2 = [] \n",
    "y_pre2.append(np.array(y_pre)) #Creates 12 months worth of predicted data to predict a year into the future\n",
    "for x in range(11): \n",
    "    y_pre_alt = y_pre2[x]\n",
    "    y_pre_in = lr.predict(y_pre_alt.reshape(-1, 1))\n",
    "    y_pre2.append(np.array(y_pre_in))"
   ]
  },
  {
   "cell_type": "code",
   "execution_count": 31,
   "metadata": {},
   "outputs": [],
   "source": [
    "forward = []\n",
    "for x in y_pre2: #Takes the 12 months of data and changes them from a 2-D list to a 1-D list\n",
    "    for y in x:\n",
    "        forward.append(y)"
   ]
  },
  {
   "cell_type": "code",
   "execution_count": 32,
   "metadata": {
    "scrolled": false
   },
   "outputs": [
    {
     "data": {
      "text/plain": [
       "Text(0, 0.5, 'Price')"
      ]
     },
     "execution_count": 32,
     "metadata": {},
     "output_type": "execute_result"
    },
    {
     "data": {
      "image/png": "[encoded data removed]",
      "text/plain": [
       "<Figure size 864x576 with 1 Axes>"
      ]
     },
     "metadata": {
      "needs_background": "light"
     },
     "output_type": "display_data"
    }
   ],
   "source": [
    "#The stock prices predicted from 1 day into the future, to a year into the future\n",
    "plt.figure(figsize = (12,8))\n",
    "plt.plot(forward)\n",
    "plt.xlabel(\"Days into the Future\")\n",
    "plt.ylabel(\"Price\")"
   ]
  },
  {
   "cell_type": "code",
   "execution_count": 36,
   "metadata": {},
   "outputs": [
    {
     "name": "stdout",
     "output_type": "stream",
     "text": [
      "Final Value: \n",
      "5.373048880123909\n"
     ]
    }
   ],
   "source": [
    "print(\"Final Value: \")\n",
    "print(forward[len(forward)-1])"
   ]
  }
 ],
 "metadata": {
  "kernelspec": {
   "display_name": "Python 3",
   "language": "python",
   "name": "python3"
  },
  "language_info": {
   "codemirror_mode": {
    "name": "ipython",
    "version": 3
   },
   "file_extension": ".py",
   "mimetype": "text/x-python",
   "name": "python",
   "nbconvert_exporter": "python",
   "pygments_lexer": "ipython3",
   "version": "3.7.6"
  }
 },
 "nbformat": 4,
 "nbformat_minor": 4
}
