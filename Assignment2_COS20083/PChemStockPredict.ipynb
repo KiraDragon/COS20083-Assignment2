{
 "cells": [
  {
   "cell_type": "code",
   "execution_count": 7,
   "metadata": {},
   "outputs": [],
   "source": [
    "import pandas as pd\n",
    "import math\n",
    "import numpy as np\n",
    "import matplotlib.pyplot as plt\n",
    "import pandas_datareader as web\n",
    "from sklearn import metrics\n",
    "from sklearn.linear_model import LinearRegression\n",
    "from sklearn.model_selection import train_test_split"
   ]
  },
  {
   "cell_type": "code",
   "execution_count": 8,
   "metadata": {},
   "outputs": [],
   "source": [
    "import requests\n",
    "from bs4 import BeautifulSoup\n",
    "import bs4\n",
    "from fastnumbers import isfloat \n",
    "from fastnumbers import fast_float\n",
    "from multiprocessing.dummy import Pool as ThreadPool "
   ]
  },
  {
   "cell_type": "code",
   "execution_count": 9,
   "metadata": {},
   "outputs": [],
   "source": [
    "def ffloat(string):\n",
    "    if string is None:\n",
    "        return np.nan\n",
    "    if type(string)==float or type(string)==np.float64:\n",
    "        return string\n",
    "    if type(string)==int or type(string)==np.int64:\n",
    "        return string\n",
    "    return fast_float(string.split(\" \")[0].replace(',','').replace('%',''),\n",
    "                      default=np.nan)\n",
    "\n",
    "def ffloat_list(string_list):\n",
    "    return list(map(ffloat,string_list))\n",
    "\n",
    "def remove_multiple_spaces(string):\n",
    "    if type(string)==str:\n",
    "        return ' '.join(string.split())\n",
    "    return string\n",
    "\n",
    "def get_children(html_content):\n",
    "    return [item for item in html_content.children if \n",
    "            type(item)==bs4.element.Tag or \n",
    "            len(str(item).replace(\"\\n\",\"\").strip())>0]"
   ]
  },
  {
   "cell_type": "code",
   "execution_count": 10,
   "metadata": {},
   "outputs": [
    {
     "data": {
      "text/plain": [
       "200"
      ]
     },
     "execution_count": 10,
     "metadata": {},
     "output_type": "execute_result"
    }
   ],
   "source": [
    "response = requests.get(\"https://finance.yahoo.com/gainers\", timeout=240)\n",
    "response.status_code"
   ]
  },
  {
   "cell_type": "code",
   "execution_count": 11,
   "metadata": {},
   "outputs": [],
   "source": [
    "html = BeautifulSoup(response.content, \"html.parser\")"
   ]
  },
  {
   "cell_type": "code",
   "execution_count": 12,
   "metadata": {},
   "outputs": [
    {
     "data": {
      "text/html": [
       "<div>\n",
       "<style scoped>\n",
       "    .dataframe tbody tr th:only-of-type {\n",
       "        vertical-align: middle;\n",
       "    }\n",
       "\n",
       "    .dataframe tbody tr th {\n",
       "        vertical-align: top;\n",
       "    }\n",
       "\n",
       "    .dataframe thead th {\n",
       "        text-align: right;\n",
       "    }\n",
       "</style>\n",
       "<table border=\"1\" class=\"dataframe\">\n",
       "  <thead>\n",
       "    <tr style=\"text-align: right;\">\n",
       "      <th></th>\n",
       "      <th>0</th>\n",
       "      <th>1</th>\n",
       "      <th>2</th>\n",
       "      <th>3</th>\n",
       "      <th>4</th>\n",
       "      <th>5</th>\n",
       "      <th>6</th>\n",
       "      <th>7</th>\n",
       "      <th>8</th>\n",
       "      <th>9</th>\n",
       "    </tr>\n",
       "  </thead>\n",
       "  <tbody>\n",
       "    <tr>\n",
       "      <th>0</th>\n",
       "      <td>Symbol</td>\n",
       "      <td>Name</td>\n",
       "      <td>Price (Intraday)</td>\n",
       "      <td>Change</td>\n",
       "      <td>% Change</td>\n",
       "      <td>Volume</td>\n",
       "      <td>Avg Vol (3 month)</td>\n",
       "      <td>Market Cap</td>\n",
       "      <td>PE Ratio (TTM)</td>\n",
       "      <td>52 Week Range</td>\n",
       "    </tr>\n",
       "    <tr>\n",
       "      <th>1</th>\n",
       "      <td>ZS</td>\n",
       "      <td>Zscaler, Inc.</td>\n",
       "      <td>98.09</td>\n",
       "      <td>+22.29</td>\n",
       "      <td>+29.41%</td>\n",
       "      <td>22.809M</td>\n",
       "      <td>3.037M</td>\n",
       "      <td>12.688B</td>\n",
       "      <td>N/A</td>\n",
       "      <td>None</td>\n",
       "    </tr>\n",
       "    <tr>\n",
       "      <th>2</th>\n",
       "      <td>PTKFF</td>\n",
       "      <td>PT Kalbe Farma Tbk.</td>\n",
       "      <td>0.1020</td>\n",
       "      <td>+0.0220</td>\n",
       "      <td>+27.50%</td>\n",
       "      <td>5.158M</td>\n",
       "      <td>304,519</td>\n",
       "      <td>5.58B</td>\n",
       "      <td>N/A</td>\n",
       "      <td>None</td>\n",
       "    </tr>\n",
       "    <tr>\n",
       "      <th>3</th>\n",
       "      <td>TBVPF</td>\n",
       "      <td>Thai Beverage Public Company Limited</td>\n",
       "      <td>0.5500</td>\n",
       "      <td>+0.1150</td>\n",
       "      <td>+26.44%</td>\n",
       "      <td>25,909</td>\n",
       "      <td>102,600</td>\n",
       "      <td>14.231B</td>\n",
       "      <td>25.00</td>\n",
       "      <td>None</td>\n",
       "    </tr>\n",
       "    <tr>\n",
       "      <th>4</th>\n",
       "      <td>PTXKY</td>\n",
       "      <td>PT XL Axiata Tbk</td>\n",
       "      <td>3.8000</td>\n",
       "      <td>+0.7200</td>\n",
       "      <td>+23.38%</td>\n",
       "      <td>47,587</td>\n",
       "      <td>7,756</td>\n",
       "      <td>2.266B</td>\n",
       "      <td>N/A</td>\n",
       "      <td>None</td>\n",
       "    </tr>\n",
       "    <tr>\n",
       "      <th>5</th>\n",
       "      <td>NWAU</td>\n",
       "      <td>Consumer Automotive Finance, Inc.</td>\n",
       "      <td>0.0225</td>\n",
       "      <td>+0.0028</td>\n",
       "      <td>+14.21%</td>\n",
       "      <td>549,897</td>\n",
       "      <td>523,927</td>\n",
       "      <td>39.381B</td>\n",
       "      <td>N/A</td>\n",
       "      <td>None</td>\n",
       "    </tr>\n",
       "  </tbody>\n",
       "</table>\n",
       "</div>"
      ],
      "text/plain": [
       "        0                                     1                 2        3  \\\n",
       "0  Symbol                                  Name  Price (Intraday)   Change   \n",
       "1      ZS                         Zscaler, Inc.             98.09   +22.29   \n",
       "2   PTKFF                   PT Kalbe Farma Tbk.            0.1020  +0.0220   \n",
       "3   TBVPF  Thai Beverage Public Company Limited            0.5500  +0.1150   \n",
       "4   PTXKY                      PT XL Axiata Tbk            3.8000  +0.7200   \n",
       "5    NWAU     Consumer Automotive Finance, Inc.            0.0225  +0.0028   \n",
       "\n",
       "          4        5                  6           7               8  \\\n",
       "0  % Change   Volume  Avg Vol (3 month)  Market Cap  PE Ratio (TTM)   \n",
       "1   +29.41%  22.809M             3.037M     12.688B             N/A   \n",
       "2   +27.50%   5.158M            304,519       5.58B             N/A   \n",
       "3   +26.44%   25,909            102,600     14.231B           25.00   \n",
       "4   +23.38%   47,587              7,756      2.266B             N/A   \n",
       "5   +14.21%  549,897            523,927     39.381B             N/A   \n",
       "\n",
       "               9  \n",
       "0  52 Week Range  \n",
       "1           None  \n",
       "2           None  \n",
       "3           None  \n",
       "4           None  \n",
       "5           None  "
      ]
     },
     "execution_count": 12,
     "metadata": {},
     "output_type": "execute_result"
    }
   ],
   "source": [
    "init_list = get_table_simple(html)\n",
    "top5list = []\n",
    "for x in range(6):\n",
    "    top5list.append(init_list[x])\n",
    "dftop5gainers = pd.DataFrame.from_records(top5list)\n",
    "dftop5gainers"
   ]
  },
  {
   "cell_type": "code",
   "execution_count": 5,
   "metadata": {},
   "outputs": [],
   "source": [
    "df5183 = web.DataReader('5183.KL', data_source='yahoo', start='2011-03-12',end='2020-03-12')"
   ]
  },
  {
   "cell_type": "code",
   "execution_count": 6,
   "metadata": {},
   "outputs": [
    {
     "data": {
      "text/html": [
       "<div>\n",
       "<style scoped>\n",
       "    .dataframe tbody tr th:only-of-type {\n",
       "        vertical-align: middle;\n",
       "    }\n",
       "\n",
       "    .dataframe tbody tr th {\n",
       "        vertical-align: top;\n",
       "    }\n",
       "\n",
       "    .dataframe thead th {\n",
       "        text-align: right;\n",
       "    }\n",
       "</style>\n",
       "<table border=\"1\" class=\"dataframe\">\n",
       "  <thead>\n",
       "    <tr style=\"text-align: right;\">\n",
       "      <th></th>\n",
       "      <th>High</th>\n",
       "      <th>Low</th>\n",
       "      <th>Open</th>\n",
       "      <th>Close</th>\n",
       "      <th>Volume</th>\n",
       "      <th>Adj Close</th>\n",
       "      <th>Difference</th>\n",
       "    </tr>\n",
       "    <tr>\n",
       "      <th>Date</th>\n",
       "      <th></th>\n",
       "      <th></th>\n",
       "      <th></th>\n",
       "      <th></th>\n",
       "      <th></th>\n",
       "      <th></th>\n",
       "      <th></th>\n",
       "    </tr>\n",
       "  </thead>\n",
       "  <tbody>\n",
       "    <tr>\n",
       "      <th>2011-03-14</th>\n",
       "      <td>6.82</td>\n",
       "      <td>6.47</td>\n",
       "      <td>6.52</td>\n",
       "      <td>6.75</td>\n",
       "      <td>17068200.0</td>\n",
       "      <td>5.005249</td>\n",
       "      <td>-0.23</td>\n",
       "    </tr>\n",
       "    <tr>\n",
       "      <th>2011-03-15</th>\n",
       "      <td>6.77</td>\n",
       "      <td>6.56</td>\n",
       "      <td>6.75</td>\n",
       "      <td>6.59</td>\n",
       "      <td>17123100.0</td>\n",
       "      <td>4.886606</td>\n",
       "      <td>0.16</td>\n",
       "    </tr>\n",
       "    <tr>\n",
       "      <th>2011-03-16</th>\n",
       "      <td>6.67</td>\n",
       "      <td>6.58</td>\n",
       "      <td>6.62</td>\n",
       "      <td>6.63</td>\n",
       "      <td>13315400.0</td>\n",
       "      <td>4.916266</td>\n",
       "      <td>-0.01</td>\n",
       "    </tr>\n",
       "    <tr>\n",
       "      <th>2011-03-17</th>\n",
       "      <td>6.65</td>\n",
       "      <td>6.58</td>\n",
       "      <td>6.63</td>\n",
       "      <td>6.63</td>\n",
       "      <td>7634200.0</td>\n",
       "      <td>4.916266</td>\n",
       "      <td>0.00</td>\n",
       "    </tr>\n",
       "    <tr>\n",
       "      <th>2011-03-18</th>\n",
       "      <td>6.71</td>\n",
       "      <td>6.62</td>\n",
       "      <td>6.66</td>\n",
       "      <td>6.70</td>\n",
       "      <td>13221200.0</td>\n",
       "      <td>4.968173</td>\n",
       "      <td>-0.04</td>\n",
       "    </tr>\n",
       "  </tbody>\n",
       "</table>\n",
       "</div>"
      ],
      "text/plain": [
       "            High   Low  Open  Close      Volume  Adj Close  Difference\n",
       "Date                                                                  \n",
       "2011-03-14  6.82  6.47  6.52   6.75  17068200.0   5.005249       -0.23\n",
       "2011-03-15  6.77  6.56  6.75   6.59  17123100.0   4.886606        0.16\n",
       "2011-03-16  6.67  6.58  6.62   6.63  13315400.0   4.916266       -0.01\n",
       "2011-03-17  6.65  6.58  6.63   6.63   7634200.0   4.916266        0.00\n",
       "2011-03-18  6.71  6.62  6.66   6.70  13221200.0   4.968173       -0.04"
      ]
     },
     "execution_count": 6,
     "metadata": {},
     "output_type": "execute_result"
    }
   ],
   "source": [
    "df5183['Difference'] = df5183['Open'] - df5183['Close']\n",
    "df5183.head()"
   ]
  },
  {
   "cell_type": "code",
   "execution_count": 7,
   "metadata": {},
   "outputs": [
    {
     "data": {
      "text/html": [
       "<div>\n",
       "<style scoped>\n",
       "    .dataframe tbody tr th:only-of-type {\n",
       "        vertical-align: middle;\n",
       "    }\n",
       "\n",
       "    .dataframe tbody tr th {\n",
       "        vertical-align: top;\n",
       "    }\n",
       "\n",
       "    .dataframe thead th {\n",
       "        text-align: right;\n",
       "    }\n",
       "</style>\n",
       "<table border=\"1\" class=\"dataframe\">\n",
       "  <thead>\n",
       "    <tr style=\"text-align: right;\">\n",
       "      <th></th>\n",
       "      <th>High</th>\n",
       "      <th>Low</th>\n",
       "      <th>Open</th>\n",
       "      <th>Close</th>\n",
       "      <th>Volume</th>\n",
       "      <th>Adj Close</th>\n",
       "      <th>Difference</th>\n",
       "    </tr>\n",
       "    <tr>\n",
       "      <th>Date</th>\n",
       "      <th></th>\n",
       "      <th></th>\n",
       "      <th></th>\n",
       "      <th></th>\n",
       "      <th></th>\n",
       "      <th></th>\n",
       "      <th></th>\n",
       "    </tr>\n",
       "  </thead>\n",
       "  <tbody>\n",
       "    <tr>\n",
       "      <th>2020-03-06</th>\n",
       "      <td>5.67</td>\n",
       "      <td>5.52</td>\n",
       "      <td>5.64</td>\n",
       "      <td>5.65</td>\n",
       "      <td>3884700.0</td>\n",
       "      <td>5.566207</td>\n",
       "      <td>-0.01</td>\n",
       "    </tr>\n",
       "    <tr>\n",
       "      <th>2020-03-09</th>\n",
       "      <td>5.35</td>\n",
       "      <td>4.40</td>\n",
       "      <td>5.35</td>\n",
       "      <td>4.40</td>\n",
       "      <td>25781200.0</td>\n",
       "      <td>4.334746</td>\n",
       "      <td>0.95</td>\n",
       "    </tr>\n",
       "    <tr>\n",
       "      <th>2020-03-10</th>\n",
       "      <td>4.63</td>\n",
       "      <td>4.24</td>\n",
       "      <td>4.30</td>\n",
       "      <td>4.35</td>\n",
       "      <td>15704300.0</td>\n",
       "      <td>4.285487</td>\n",
       "      <td>-0.05</td>\n",
       "    </tr>\n",
       "    <tr>\n",
       "      <th>2020-03-11</th>\n",
       "      <td>4.79</td>\n",
       "      <td>4.38</td>\n",
       "      <td>4.45</td>\n",
       "      <td>4.72</td>\n",
       "      <td>13616300.0</td>\n",
       "      <td>4.650000</td>\n",
       "      <td>-0.27</td>\n",
       "    </tr>\n",
       "    <tr>\n",
       "      <th>2020-03-12</th>\n",
       "      <td>4.70</td>\n",
       "      <td>4.45</td>\n",
       "      <td>4.54</td>\n",
       "      <td>4.65</td>\n",
       "      <td>10009100.0</td>\n",
       "      <td>4.650000</td>\n",
       "      <td>-0.11</td>\n",
       "    </tr>\n",
       "  </tbody>\n",
       "</table>\n",
       "</div>"
      ],
      "text/plain": [
       "            High   Low  Open  Close      Volume  Adj Close  Difference\n",
       "Date                                                                  \n",
       "2020-03-06  5.67  5.52  5.64   5.65   3884700.0   5.566207       -0.01\n",
       "2020-03-09  5.35  4.40  5.35   4.40  25781200.0   4.334746        0.95\n",
       "2020-03-10  4.63  4.24  4.30   4.35  15704300.0   4.285487       -0.05\n",
       "2020-03-11  4.79  4.38  4.45   4.72  13616300.0   4.650000       -0.27\n",
       "2020-03-12  4.70  4.45  4.54   4.65  10009100.0   4.650000       -0.11"
      ]
     },
     "execution_count": 7,
     "metadata": {},
     "output_type": "execute_result"
    }
   ],
   "source": [
    "df5183.tail()"
   ]
  },
  {
   "cell_type": "code",
   "execution_count": 8,
   "metadata": {},
   "outputs": [
    {
     "data": {
      "image/png": "[encoded data removed]",
      "text/plain": [
       "<Figure size 864x576 with 1 Axes>"
      ]
     },
     "metadata": {
      "needs_background": "light"
     },
     "output_type": "display_data"
    }
   ],
   "source": [
    "plt.figure(figsize = (12,8))\n",
    "plt.plot(df5183['Adj Close'])\n",
    "plt.xlabel(\"Year\")\n",
    "plt.ylabel(\"Price\")\n",
    "plt.show()"
   ]
  },
  {
   "cell_type": "code",
   "execution_count": 9,
   "metadata": {},
   "outputs": [],
   "source": [
    "df5183.to_csv('pchem.csv')"
   ]
  },
  {
   "cell_type": "code",
   "execution_count": 10,
   "metadata": {},
   "outputs": [],
   "source": [
    "dfPre = []\n",
    "dfPre = df5183[['Adj Close']]"
   ]
  },
  {
   "cell_type": "code",
   "execution_count": 11,
   "metadata": {},
   "outputs": [
    {
     "name": "stdout",
     "output_type": "stream",
     "text": [
      "            Adj Close\n",
      "Date                 \n",
      "2011-03-14   5.005249\n",
      "2011-03-15   4.886606\n",
      "2011-03-16   4.916266\n",
      "2011-03-17   4.916266\n",
      "2011-03-18   4.968173\n"
     ]
    }
   ],
   "source": [
    "print(dfPre.head())"
   ]
  },
  {
   "cell_type": "code",
   "execution_count": 12,
   "metadata": {},
   "outputs": [
    {
     "name": "stdout",
     "output_type": "stream",
     "text": [
      "            Adj Close  Prediction\n",
      "Date                             \n",
      "2011-03-14   5.005249    5.376008\n",
      "2011-03-15   4.886606    5.361178\n",
      "2011-03-16   4.916266    5.353763\n",
      "2011-03-17   4.916266    5.346348\n",
      "2011-03-18   4.968173    5.361178\n"
     ]
    },
    {
     "name": "stderr",
     "output_type": "stream",
     "text": [
      "C:\\Users\\ADMIN\\anaconda3\\lib\\site-packages\\ipykernel_launcher.py:2: SettingWithCopyWarning: \n",
      "A value is trying to be set on a copy of a slice from a DataFrame.\n",
      "Try using .loc[row_indexer,col_indexer] = value instead\n",
      "\n",
      "See the caveats in the documentation: https://pandas.pydata.org/pandas-docs/stable/user_guide/indexing.html#returning-a-view-versus-a-copy\n",
      "  \n"
     ]
    }
   ],
   "source": [
    "forecast_out = 30 #predict n days into the future, in this case, 30\n",
    "dfPre['Prediction'] = dfPre[['Adj Close']].shift(-forecast_out)\n",
    "print(dfPre.head())"
   ]
  },
  {
   "cell_type": "code",
   "execution_count": 13,
   "metadata": {},
   "outputs": [
    {
     "data": {
      "text/plain": [
       "2225"
      ]
     },
     "execution_count": 13,
     "metadata": {},
     "output_type": "execute_result"
    }
   ],
   "source": [
    "X = np.array(dfPre.drop(['Prediction'], 1))\n",
    "len(X)"
   ]
  },
  {
   "cell_type": "code",
   "execution_count": 14,
   "metadata": {},
   "outputs": [
    {
     "data": {
      "text/plain": [
       "2225"
      ]
     },
     "execution_count": 14,
     "metadata": {},
     "output_type": "execute_result"
    }
   ],
   "source": [
    "#reserving 60 data for testing\n",
    "X_new = X[0:2165]\n",
    "len(X_new) + 60"
   ]
  },
  {
   "cell_type": "code",
   "execution_count": 15,
   "metadata": {},
   "outputs": [
    {
     "data": {
      "text/plain": [
       "array([[5.00524902],\n",
       "       [4.88660622],\n",
       "       [4.91626644],\n",
       "       [4.91626644],\n",
       "       [4.96817255],\n",
       "       [4.97558975],\n",
       "       [4.99783373],\n",
       "       [4.99041843],\n",
       "       [5.01266384],\n",
       "       [5.06456995]])"
      ]
     },
     "execution_count": 15,
     "metadata": {},
     "output_type": "execute_result"
    }
   ],
   "source": [
    "X_new[0:10]"
   ]
  },
  {
   "cell_type": "code",
   "execution_count": 16,
   "metadata": {},
   "outputs": [
    {
     "data": {
      "text/plain": [
       "2165"
      ]
     },
     "execution_count": 16,
     "metadata": {},
     "output_type": "execute_result"
    }
   ],
   "source": [
    "y = np.array(dfPre['Prediction'])\n",
    "y_new = y[:-60]\n",
    "len(y_new)"
   ]
  },
  {
   "cell_type": "code",
   "execution_count": 17,
   "metadata": {},
   "outputs": [
    {
     "data": {
      "text/plain": [
       "array([5.37600803, 5.36117792, 5.35376263, 5.34634781, 5.36117792,\n",
       "       5.35376263, 5.32410097, 5.24994993, 5.13130713, 5.09423065])"
      ]
     },
     "execution_count": 17,
     "metadata": {},
     "output_type": "execute_result"
    }
   ],
   "source": [
    "y_new[0:10]"
   ]
  },
  {
   "cell_type": "code",
   "execution_count": 18,
   "metadata": {},
   "outputs": [],
   "source": [
    "X_train, X_test, y_train, y_test = train_test_split(X_new, y_new, test_size = 0.2)"
   ]
  },
  {
   "cell_type": "code",
   "execution_count": 19,
   "metadata": {},
   "outputs": [
    {
     "name": "stdout",
     "output_type": "stream",
     "text": [
      "[5.37600803 5.36117792 5.35376263 ... 4.28548717 4.64999962 4.6500001 ]\n"
     ]
    },
    {
     "data": {
      "text/plain": [
       "2195"
      ]
     },
     "execution_count": 19,
     "metadata": {},
     "output_type": "execute_result"
    }
   ],
   "source": [
    "y = np.array(dfPre['Prediction'])\n",
    "y = y[:-forecast_out]\n",
    "print(y)\n",
    "len(y)"
   ]
  },
  {
   "cell_type": "code",
   "execution_count": 20,
   "metadata": {},
   "outputs": [
    {
     "data": {
      "text/plain": [
       "LinearRegression(copy_X=True, fit_intercept=True, n_jobs=None, normalize=False)"
      ]
     },
     "execution_count": 20,
     "metadata": {},
     "output_type": "execute_result"
    }
   ],
   "source": [
    "lr = LinearRegression()\n",
    "lr.fit(X_train, y_train)"
   ]
  },
  {
   "cell_type": "code",
   "execution_count": 21,
   "metadata": {},
   "outputs": [
    {
     "name": "stdout",
     "output_type": "stream",
     "text": [
      "Predicted last 30 days\n",
      "[6.12006924 6.09174246 6.35612402 6.34668161 6.41277711 6.36556597\n",
      " 6.30891288 6.56385203 6.43166148 6.41277711 6.41277711 6.45998825\n",
      " 6.39389275 6.45054584 6.45998825 6.36556597 6.28058656 6.31835529\n",
      " 5.79903504 5.75182436 5.37413707 5.19473538 5.27971525 5.46855889\n",
      " 5.61963335 5.6101914  4.42991885 4.38270771 4.73206823 4.73206868]\n"
     ]
    }
   ],
   "source": [
    "y_pre = lr.predict(X[2195:2225])\n",
    "print(\"Predicted last 30 days\")\n",
    "print(y_pre)"
   ]
  },
  {
   "cell_type": "code",
   "execution_count": 22,
   "metadata": {},
   "outputs": [
    {
     "name": "stdout",
     "output_type": "stream",
     "text": [
      "Confidence Score:  0.9275446135023543\n"
     ]
    }
   ],
   "source": [
    "confidence = lr.score(X_test, y_test)\n",
    "print(\"Confidence Score: \", confidence)"
   ]
  },
  {
   "cell_type": "code",
   "execution_count": 23,
   "metadata": {},
   "outputs": [
    {
     "name": "stdout",
     "output_type": "stream",
     "text": [
      "Actual last 30 days: \n",
      "[[6.09819889]\n",
      " [6.06864357]\n",
      " [6.34449148]\n",
      " [6.33463955]\n",
      " [6.40360165]\n",
      " [6.35434294]\n",
      " [6.29523277]\n",
      " [6.56122875]\n",
      " [6.42330503]\n",
      " [6.40360165]\n",
      " [6.40360165]\n",
      " [6.45286036]\n",
      " [6.38389826]\n",
      " [6.44300842]\n",
      " [6.45286036]\n",
      " [6.35434294]\n",
      " [6.26567793]\n",
      " [6.30508471]\n",
      " [5.76324129]\n",
      " [5.71398306]\n",
      " [5.31991529]\n",
      " [5.13273287]\n",
      " [5.22139835]\n",
      " [5.41843224]\n",
      " [5.57605886]\n",
      " [5.56620741]\n",
      " [4.33474588]\n",
      " [4.28548717]\n",
      " [4.64999962]\n",
      " [4.6500001 ]]\n"
     ]
    }
   ],
   "source": [
    "x_forecast = np.array(dfPre.drop(['Prediction'], 1))[-forecast_out:]\n",
    "print(\"Actual last 30 days: \")\n",
    "print(x_forecast)"
   ]
  },
  {
   "cell_type": "code",
   "execution_count": 24,
   "metadata": {},
   "outputs": [
    {
     "data": {
      "text/plain": [
       "Text(0, 0.5, 'Price')"
      ]
     },
     "execution_count": 24,
     "metadata": {},
     "output_type": "execute_result"
    },
    {
     "data": {
      "image/png": "[encoded data removed]",
      "text/plain": [
       "<Figure size 864x576 with 1 Axes>"
      ]
     },
     "metadata": {
      "needs_background": "light"
     },
     "output_type": "display_data"
    }
   ],
   "source": [
    "plt.figure(figsize = (12,8))\n",
    "plt.plot(y_pre, color='r')\n",
    "plt.plot(x_forecast, color='b')\n",
    "plt.legend(['Forecasted', 'Actual'])\n",
    "plt.xlabel(\"Days\")\n",
    "plt.ylabel(\"Price\")"
   ]
  },
  {
   "cell_type": "code",
   "execution_count": 25,
   "metadata": {},
   "outputs": [
    {
     "name": "stdout",
     "output_type": "stream",
     "text": [
      "Mean Squared Error:  0.001798060160948857\n"
     ]
    }
   ],
   "source": [
    "print(\"Mean Squared Error: \", metrics.mean_squared_error(y_pre, x_forecast))"
   ]
  },
  {
   "cell_type": "code",
   "execution_count": 26,
   "metadata": {},
   "outputs": [],
   "source": [
    "y_pre2 = [] \n",
    "y_pre2.append(np.array(y_pre))\n",
    "for x in range(11):\n",
    "    y_pre_alt = y_pre2[x]\n",
    "    y_pre_in = lr.predict(y_pre_alt.reshape(-1, 1))\n",
    "    y_pre2.append(np.array(y_pre_in))"
   ]
  },
  {
   "cell_type": "code",
   "execution_count": 27,
   "metadata": {},
   "outputs": [
    {
     "name": "stdout",
     "output_type": "stream",
     "text": [
      "[array([6.12006924, 6.09174246, 6.35612402, 6.34668161, 6.41277711,\n",
      "       6.36556597, 6.30891288, 6.56385203, 6.43166148, 6.41277711,\n",
      "       6.41277711, 6.45998825, 6.39389275, 6.45054584, 6.45998825,\n",
      "       6.36556597, 6.28058656, 6.31835529, 5.79903504, 5.75182436,\n",
      "       5.37413707, 5.19473538, 5.27971525, 5.46855889, 5.61963335,\n",
      "       5.6101914 , 4.42991885, 4.38270771, 4.73206823, 4.73206868]), array([6.14103049, 6.11388119, 6.36727302, 6.35822311, 6.42157118,\n",
      "       6.3763225 , 6.32202434, 6.56636626, 6.43967056, 6.42157118,\n",
      "       6.42157118, 6.46681986, 6.40347179, 6.45776995, 6.46681986,\n",
      "       6.3763225 , 6.29487548, 6.33107425, 5.83334093, 5.78809269,\n",
      "       5.42610498, 5.2541606 , 5.33560805, 5.51660191, 5.66139655,\n",
      "       5.65234708, 4.52113571, 4.47588702, 4.81072543, 4.81072587]), array([6.16112042, 6.13509966, 6.37795859, 6.36928486, 6.42999969,\n",
      "       6.38663189, 6.33459079, 6.56877599, 6.44734673, 6.42999969,\n",
      "       6.42999969, 6.4733675 , 6.41265266, 6.46469377, 6.4733675 ,\n",
      "       6.38663189, 6.30857044, 6.34326451, 5.86622081, 5.82285342,\n",
      "       5.4759127 , 5.31111564, 5.38917752, 5.56264788, 5.70142375,\n",
      "       5.69275044, 4.60856089, 4.56519308, 4.88611305, 4.88611347]), array([6.18037527, 6.15543613, 6.38819998, 6.37988679, 6.43807786,\n",
      "       6.39651275, 6.34663487, 6.57108554, 6.45470382, 6.43807786,\n",
      "       6.43807786, 6.47964296, 6.4214519 , 6.47132978, 6.47964296,\n",
      "       6.39651275, 6.32169613, 6.35494805, 5.89773394, 5.85616924,\n",
      "       5.52365003, 5.3657032 , 5.44052023, 5.60677983, 5.73978711,\n",
      "       5.73147433, 4.692352  , 4.6507869 , 4.95836697, 4.95836737]), array([6.19882973, 6.17492725, 6.39801565, 6.39004803, 6.44582023,\n",
      "       6.40598289, 6.35817832, 6.57329909, 6.46175509, 6.44582023,\n",
      "       6.44582023, 6.48565757, 6.42988537, 6.47768995, 6.48565757,\n",
      "       6.40598289, 6.33427622, 6.36614594, 5.92793715, 5.88810019,\n",
      "       5.56940303, 5.41802169, 5.48972874, 5.64907732, 5.7765558 ,\n",
      "       5.76858856, 4.77266012, 4.73282278, 5.02761747, 5.02761785]), array([6.21651709, 6.19360818, 6.40742332, 6.39978689, 6.45324077,\n",
      "       6.41505938, 6.36924193, 6.57542064, 6.46851325, 6.45324077,\n",
      "       6.45324077, 6.49142216, 6.43796829, 6.48378574, 6.49142216,\n",
      "       6.41505938, 6.34633339, 6.37687835, 5.95688488, 5.91870385,\n",
      "       5.61325419, 5.46816541, 5.53689177, 5.6896166 , 5.8117961 ,\n",
      "       5.80416004, 4.84963002, 4.81144863, 5.09398938, 5.09398975]), array([6.23346923, 6.21151259, 6.41643993, 6.40912093, 6.46035285,\n",
      "       6.42375857, 6.37984565, 6.57745399, 6.4749905 , 6.46035285,\n",
      "       6.46035285, 6.49694714, 6.44571521, 6.48962814, 6.49694714,\n",
      "       6.42375857, 6.35788936, 6.38716464, 5.98462932, 5.94803539,\n",
      "       5.65528255, 5.51622478, 5.58209434, 5.72847076, 5.84557154,\n",
      "       5.8382529 , 4.92340046, 4.88680618, 5.15760237, 5.15760273]), array([6.2497167 , 6.22867275, 6.42508174, 6.41806697, 6.46716931,\n",
      "       6.43209616, 6.3900086 , 6.57940282, 6.4811985 , 6.46716931,\n",
      "       6.46716931, 6.50224245, 6.45314012, 6.49522768, 6.50224245,\n",
      "       6.43209616, 6.36896498, 6.39702336, 6.01122049, 5.97614768,\n",
      "       5.6955639 , 5.56228643, 5.62541795, 5.76570984, 5.87794302,\n",
      "       5.87092859, 4.99410443, 4.95903129, 5.21857112, 5.21857146]), array([6.26528881, 6.2451196 , 6.43336433, 6.42664115, 6.47370241,\n",
      "       6.44008718, 6.39974909, 6.58127064, 6.48714844, 6.47370241,\n",
      "       6.47370241, 6.50731765, 6.46025639, 6.50059447, 6.50731765,\n",
      "       6.44008718, 6.37958021, 6.40647227, 6.03670632, 6.00309141,\n",
      "       5.73417084, 5.6064334 , 5.6669407 , 5.80140098, 5.90896889,\n",
      "       5.90224603, 5.06186941, 5.02825417, 5.27700554, 5.27700587]), array([6.28021362, 6.2608828 , 6.44130263, 6.43485892, 6.47996396,\n",
      "       6.44774603, 6.4090847 , 6.58306083, 6.49285107, 6.47996396,\n",
      "       6.47996396, 6.51218188, 6.46707685, 6.50573817, 6.51218188,\n",
      "       6.44774603, 6.3897542 , 6.41552841, 6.06113277, 6.02891515,\n",
      "       5.77117298, 5.64874529, 5.70673744, 5.83560853, 5.93870508,\n",
      "       5.93226168, 5.12681755, 5.09459962, 5.33301098, 5.33301129]), array([6.29451804, 6.27599076, 6.44891096, 6.4427351 , 6.48596522,\n",
      "       6.45508652, 6.41803225, 6.58477659, 6.49831664, 6.48596522,\n",
      "       6.48596522, 6.51684393, 6.4736138 , 6.51066806, 6.51684393,\n",
      "       6.45508652, 6.39950527, 6.42420811, 6.08454387, 6.05366546,\n",
      "       5.80663703, 5.68929838, 5.74487992, 5.86839414, 5.96720521,\n",
      "       5.96102965, 5.18906595, 5.15818725, 5.3866884 , 5.3866887 ]), array([6.30822786, 6.29047071, 6.45620302, 6.45028388, 6.49171703,\n",
      "       6.46212188, 6.42660787, 6.58642104, 6.50355503, 6.49171703,\n",
      "       6.49171703, 6.52131218, 6.47987903, 6.51539303, 6.52131218,\n",
      "       6.46212188, 6.40885101, 6.43252702, 6.10698182, 6.07738696,\n",
      "       5.84062692, 5.72816576, 5.78143692, 5.89981693, 5.99452066,\n",
      "       5.9886018 , 5.24872683, 5.21913168, 5.43813457, 5.43813486])]\n",
      "[6.120069237479866, 6.091742462394041, 6.356124020802513, 6.346681610101855, 6.41277711395801, 6.365565974487021, 6.308912881331524, 6.563852029039337, 6.431661478343177, 6.41277711395801, 6.41277711395801, 6.4599882534290005, 6.393892749572845, 6.450545842728342, 6.4599882534290005, 6.365565974487021, 6.28058656326185, 6.318355292032182, 5.799035042932048, 5.751824360477209, 5.374137072773895, 5.194735382606744, 5.279715250848065, 5.468558894699723, 5.619633352764898, 5.61019139908039, 4.429918853515606, 4.382707714044616, 4.732068226662108, 4.732068683678259, 6.141030485037728, 6.113881187832375, 6.367273022345785, 6.358223110604315, 6.421571178737431, 6.376322496068198, 6.322024339676551, 6.566366262448491, 6.439670564201315, 6.421571178737431, 6.421571178737431, 6.466819861406666, 6.40347179327355, 6.457769949665197, 6.466819861406666, 6.376322496068198, 6.294875480490256, 6.331074251418021, 5.833340932151728, 5.788092687501551, 5.426104978223905, 5.254160597307494, 5.335608050904493, 5.516601905543316, 5.661396551235318, 5.652347077512905, 4.5211357050297885, 4.4758870223605545, 4.810725434432849, 4.810725872451906, 6.161120422491573, 6.135099658161311, 6.377958585934444, 6.369284857887147, 6.429999694783337, 6.386631894170113, 6.334590785321218, 6.568775985047054, 6.447346731066302, 6.429999694783337, 6.429999694783337, 6.4733674953965625, 6.412652658500373, 6.464693767349267, 6.4733674953965625, 6.386631894170113, 6.308570440802585, 6.343264513368515, 5.866220805681174, 5.822853424879577, 5.475912699220286, 5.311115644626308, 5.389177517805463, 5.562647880635109, 5.701423751087197, 5.692750442851529, 4.608560885072056, 4.565193084458831, 4.886113045787862, 4.88611346559949, 6.180375268167398, 6.155436126236404, 6.38819997560186, 6.379886794171182, 6.4380778571028054, 6.396512754671499, 6.346634873170552, 6.5710855411053295, 6.4547038176031215, 6.4380778571028054, 6.4380778571028054, 6.479642959534114, 6.421451896602491, 6.471329778103438, 6.479642959534114, 6.396512754671499, 6.321696133600598, 6.35494805460123, 5.897733939662037, 5.856169239591768, 5.523650029585461, 5.365703203651945, 5.4405202270838835, 5.606779832087038, 5.7397871137285215, 5.731474334658883, 4.692352004569692, 4.650786902138384, 4.958366970213699, 4.958367372574737, 6.198829734879982, 6.174927254831349, 6.39801565462053, 6.3900480327257085, 6.445820229081961, 6.405982890879521, 6.358178316418088, 6.573299094312447, 6.4617550872357725, 6.445820229081961, 6.445820229081961, 6.485657567284403, 6.429885370928152, 6.477689945389583, 6.485657567284403, 6.405982890879521, 6.334276222005287, 6.366145938312909, 5.927937146265201, 5.88810019369859, 5.569403030622378, 5.418021685343261, 5.489728739853324, 5.649077321391431, 5.776555800986085, 5.768588564727095, 4.772660122931845, 4.732822784729404, 5.027617467756985, 5.027617853392815, 6.216517092513465, 6.193608182733965, 6.407423318787835, 6.399786892326051, 6.45324076874098, 6.415059375643769, 6.369241925690621, 6.575420635282707, 6.468513252058697, 6.45324076874098, 6.45324076874098, 6.491422161838195, 6.437968285423266, 6.483785735376413, 6.491422161838195, 6.415059375643769, 6.346333385516972, 6.376878352152404, 5.956884876112299, 5.9187038526209355, 5.613254186266624, 5.4681654099454, 5.536891769678045, 5.689616602855201, 5.811796099791076, 5.804160042935143, 4.849630020380842, 4.811448627283629, 5.0939893838584425, 5.093989753464292, 6.23346922800061, 6.211512588094732, 6.416439928328189, 6.40912093027883, 6.460352853897742, 6.42375857213535, 6.379845646565793, 6.577453988749891, 6.474990495754262, 6.460352853897742, 6.460352853897742, 6.496947135660138, 6.445715212041225, 6.48962813761078, 6.496947135660138, 6.42375857213535, 6.3578893609021145, 6.387164644615152, 5.984629316439797, 5.9480353889196005, 5.655282551789234, 5.51622477703121, 5.5820943425066405, 5.728470761071825, 5.845571541681774, 5.8382528978746135, 4.9234004589633145, 4.88680617720092, 5.1576023744254105, 5.157602728667609, 6.24971670280886, 6.228672749142073, 6.425081738469089, 6.418066974074434, 6.467169306285481, 6.432096163346567, 6.390008595530172, 6.5794028204625326, 6.481198495557614, 6.467169306285481, 6.467169306285481, 6.502242449224398, 6.453140117013351, 6.495227684829745, 6.502242449224398, 6.432096163346567, 6.3689649813805636, 6.397023359924827, 6.011220485182629, 5.9761476817608905, 5.695563896318267, 5.562286428474431, 5.625417949957609, 5.765709842678922, 5.8779430173387945, 5.8709285924613175, 4.994104432711706, 4.959031289772789, 5.218571121548628, 5.218571461065805, 6.265288808036836, 6.245119602373846, 6.433364328746192, 6.426641151723781, 6.473702414667926, 6.440087180364362, 6.399749094442623, 6.581270643792559, 6.487148443308507, 6.473702414667926, 6.473702414667926, 6.507317648971495, 6.460256386027349, 6.500594471949086, 6.507317648971495, 6.440087180364362, 6.379580214183876, 6.406472271465034, 6.036706321146995, 6.00309141224767, 5.734170839436094, 5.606433404648474, 5.6669406962331985, 5.801400982638987, 5.908968886359377, 5.902246034741208, 5.061869407407152, 5.028254173103585, 5.277005540252173, 5.277005865656413, 6.2802136172206, 6.260882798329945, 6.4413026310902435, 6.434858920834043, 6.479963956993602, 6.447746029468498, 6.409084703565135, 6.583060826069233, 6.492851065628058, 6.479963956993602, 6.479963956993602, 6.512181884518711, 6.4670768483591505, 6.505738174262511, 6.512181884518711, 6.447746029468498, 6.3897541965524285, 6.415528413821336, 6.061132770434888, 6.028915154787729, 5.771172982098657, 5.6487452941323735, 5.706737438926388, 5.835608525270924, 5.938705082468607, 5.932261684090353, 5.126817550375977, 5.09459962285087, 5.3330109766492875, 5.333011288527234, 6.294518036944889, 6.275990755046575, 6.448910956746504, 6.442735096475763, 6.485965221629221, 6.455086518103338, 6.418032253220616, 6.584776594649805, 6.498316643256795, 6.485965221629221, 6.485965221629221, 6.516843925155108, 6.473613800001649, 6.510668064884368, 6.516843925155108, 6.455086518103338, 6.3995052702362125, 6.424208113491359, 6.0845438692761515, 6.053665464664175, 5.806637032112719, 5.689298377193823, 5.744879923974854, 5.868394140250582, 5.967205214357256, 5.961029653000424, 5.189065950734079, 5.158187247208193, 5.386688397861335, 5.386688696775244, 6.308227855350556, 6.290470709288547, 6.456203022075194, 6.450283877891605, 6.491717027710454, 6.462121879770027, 6.4266078741347625, 6.586421042737821, 6.503555029588877, 6.491717027710454, 6.491717027710454, 6.521312175650884, 6.479879025832035, 6.515393031467297, 6.521312175650884, 6.462121879770027, 6.4088510145615105, 6.4325270183183525, 6.106981823417406, 6.077386961965733, 5.840626924397319, 5.728165763307945, 5.781436915005214, 5.899816933789421, 5.994520662328031, 5.988601804633199, 5.248726830476285, 5.219131682535856, 5.438134574042261, 5.438134860531016]\n"
     ]
    }
   ],
   "source": [
    "forward = []\n",
    "for x in y_pre2:\n",
    "    for y in x:\n",
    "        forward.append(y)\n",
    "\n",
    "print(y_pre2)\n",
    "print(forward)"
   ]
  },
  {
   "cell_type": "code",
   "execution_count": 28,
   "metadata": {},
   "outputs": [
    {
     "data": {
      "text/plain": [
       "Text(0, 0.5, 'Price')"
      ]
     },
     "execution_count": 28,
     "metadata": {},
     "output_type": "execute_result"
    },
    {
     "data": {
      "image/png": "[encoded data removed]",
      "text/plain": [
       "<Figure size 864x576 with 1 Axes>"
      ]
     },
     "metadata": {
      "needs_background": "light"
     },
     "output_type": "display_data"
    }
   ],
   "source": [
    "#The stock prices predicted from 1 day into the future, to a year into the future\n",
    "plt.figure(figsize = (12,8))\n",
    "plt.plot(forward)\n",
    "plt.xlabel(\"Days into the Future\")\n",
    "plt.ylabel(\"Price\")"
   ]
  },
  {
   "cell_type": "code",
   "execution_count": null,
   "metadata": {},
   "outputs": [],
   "source": []
  },
  {
   "cell_type": "code",
   "execution_count": null,
   "metadata": {},
   "outputs": [],
   "source": []
  },
  {
   "cell_type": "code",
   "execution_count": null,
   "metadata": {},
   "outputs": [],
   "source": []
  }
 ],
 "metadata": {
  "kernelspec": {
   "display_name": "Python 3",
   "language": "python",
   "name": "python3"
  },
  "language_info": {
   "codemirror_mode": {
    "name": "ipython",
    "version": 3
   },
   "file_extension": ".py",
   "mimetype": "text/x-python",
   "name": "python",
   "nbconvert_exporter": "python",
   "pygments_lexer": "ipython3",
   "version": "3.7.6"
  }
 },
 "nbformat": 4,
 "nbformat_minor": 4
}
