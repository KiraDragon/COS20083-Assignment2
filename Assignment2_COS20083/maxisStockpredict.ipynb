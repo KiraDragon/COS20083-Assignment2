{
 "cells": [
  {
   "cell_type": "code",
   "execution_count": 1,
   "metadata": {},
   "outputs": [
    {
     "name": "stderr",
     "output_type": "stream",
     "text": [
      "C:\\Users\\ADMIN\\anaconda3\\lib\\site-packages\\pandas_datareader\\compat\\__init__.py:7: FutureWarning: pandas.util.testing is deprecated. Use the functions in the public API at pandas.testing instead.\n",
      "  from pandas.util.testing import assert_frame_equal\n"
     ]
    }
   ],
   "source": [
    "import pandas as pd\n",
    "import math\n",
    "import numpy as np\n",
    "import matplotlib.pyplot as plt\n",
    "import pandas_datareader as web\n",
    "from sklearn.linear_model import LinearRegression\n",
    "from sklearn.model_selection import train_test_split"
   ]
  },
  {
   "cell_type": "code",
   "execution_count": 2,
   "metadata": {},
   "outputs": [],
   "source": [
    "df6012 = web.DataReader('6012.KL', data_source='yahoo', start='2010-05-01',end='2020-05-01')"
   ]
  },
  {
   "cell_type": "code",
   "execution_count": 3,
   "metadata": {},
   "outputs": [
    {
     "data": {
      "text/html": [
       "<div>\n",
       "<style scoped>\n",
       "    .dataframe tbody tr th:only-of-type {\n",
       "        vertical-align: middle;\n",
       "    }\n",
       "\n",
       "    .dataframe tbody tr th {\n",
       "        vertical-align: top;\n",
       "    }\n",
       "\n",
       "    .dataframe thead th {\n",
       "        text-align: right;\n",
       "    }\n",
       "</style>\n",
       "<table border=\"1\" class=\"dataframe\">\n",
       "  <thead>\n",
       "    <tr style=\"text-align: right;\">\n",
       "      <th></th>\n",
       "      <th>High</th>\n",
       "      <th>Low</th>\n",
       "      <th>Open</th>\n",
       "      <th>Close</th>\n",
       "      <th>Volume</th>\n",
       "      <th>Adj Close</th>\n",
       "      <th>Difference</th>\n",
       "    </tr>\n",
       "    <tr>\n",
       "      <th>Date</th>\n",
       "      <th></th>\n",
       "      <th></th>\n",
       "      <th></th>\n",
       "      <th></th>\n",
       "      <th></th>\n",
       "      <th></th>\n",
       "      <th></th>\n",
       "    </tr>\n",
       "  </thead>\n",
       "  <tbody>\n",
       "    <tr>\n",
       "      <th>2010-05-03</th>\n",
       "      <td>5.32</td>\n",
       "      <td>5.30</td>\n",
       "      <td>5.30</td>\n",
       "      <td>5.32</td>\n",
       "      <td>2204400.0</td>\n",
       "      <td>3.305936</td>\n",
       "      <td>-0.02</td>\n",
       "    </tr>\n",
       "    <tr>\n",
       "      <th>2010-05-04</th>\n",
       "      <td>5.33</td>\n",
       "      <td>5.30</td>\n",
       "      <td>5.32</td>\n",
       "      <td>5.30</td>\n",
       "      <td>2266000.0</td>\n",
       "      <td>3.293509</td>\n",
       "      <td>0.02</td>\n",
       "    </tr>\n",
       "    <tr>\n",
       "      <th>2010-05-05</th>\n",
       "      <td>5.31</td>\n",
       "      <td>5.28</td>\n",
       "      <td>5.29</td>\n",
       "      <td>5.31</td>\n",
       "      <td>5072800.0</td>\n",
       "      <td>3.299722</td>\n",
       "      <td>-0.02</td>\n",
       "    </tr>\n",
       "    <tr>\n",
       "      <th>2010-05-06</th>\n",
       "      <td>5.31</td>\n",
       "      <td>5.27</td>\n",
       "      <td>5.28</td>\n",
       "      <td>5.31</td>\n",
       "      <td>7349400.0</td>\n",
       "      <td>3.299722</td>\n",
       "      <td>-0.03</td>\n",
       "    </tr>\n",
       "    <tr>\n",
       "      <th>2010-05-07</th>\n",
       "      <td>5.29</td>\n",
       "      <td>5.24</td>\n",
       "      <td>5.28</td>\n",
       "      <td>5.26</td>\n",
       "      <td>9684200.0</td>\n",
       "      <td>3.268651</td>\n",
       "      <td>0.02</td>\n",
       "    </tr>\n",
       "  </tbody>\n",
       "</table>\n",
       "</div>"
      ],
      "text/plain": [
       "            High   Low  Open  Close     Volume  Adj Close  Difference\n",
       "Date                                                                 \n",
       "2010-05-03  5.32  5.30  5.30   5.32  2204400.0   3.305936       -0.02\n",
       "2010-05-04  5.33  5.30  5.32   5.30  2266000.0   3.293509        0.02\n",
       "2010-05-05  5.31  5.28  5.29   5.31  5072800.0   3.299722       -0.02\n",
       "2010-05-06  5.31  5.27  5.28   5.31  7349400.0   3.299722       -0.03\n",
       "2010-05-07  5.29  5.24  5.28   5.26  9684200.0   3.268651        0.02"
      ]
     },
     "execution_count": 3,
     "metadata": {},
     "output_type": "execute_result"
    }
   ],
   "source": [
    "df6012['Difference'] = df6012['Open'] - df6012['Close']\n",
    "df6012.head()"
   ]
  },
  {
   "cell_type": "code",
   "execution_count": 4,
   "metadata": {},
   "outputs": [
    {
     "data": {
      "text/html": [
       "<div>\n",
       "<style scoped>\n",
       "    .dataframe tbody tr th:only-of-type {\n",
       "        vertical-align: middle;\n",
       "    }\n",
       "\n",
       "    .dataframe tbody tr th {\n",
       "        vertical-align: top;\n",
       "    }\n",
       "\n",
       "    .dataframe thead th {\n",
       "        text-align: right;\n",
       "    }\n",
       "</style>\n",
       "<table border=\"1\" class=\"dataframe\">\n",
       "  <thead>\n",
       "    <tr style=\"text-align: right;\">\n",
       "      <th></th>\n",
       "      <th>High</th>\n",
       "      <th>Low</th>\n",
       "      <th>Open</th>\n",
       "      <th>Close</th>\n",
       "      <th>Volume</th>\n",
       "      <th>Adj Close</th>\n",
       "      <th>Difference</th>\n",
       "    </tr>\n",
       "    <tr>\n",
       "      <th>Date</th>\n",
       "      <th></th>\n",
       "      <th></th>\n",
       "      <th></th>\n",
       "      <th></th>\n",
       "      <th></th>\n",
       "      <th></th>\n",
       "      <th></th>\n",
       "    </tr>\n",
       "  </thead>\n",
       "  <tbody>\n",
       "    <tr>\n",
       "      <th>2020-03-06</th>\n",
       "      <td>5.45</td>\n",
       "      <td>5.36</td>\n",
       "      <td>5.37</td>\n",
       "      <td>5.43</td>\n",
       "      <td>1813100.0</td>\n",
       "      <td>5.43</td>\n",
       "      <td>-0.06</td>\n",
       "    </tr>\n",
       "    <tr>\n",
       "      <th>2020-03-09</th>\n",
       "      <td>5.46</td>\n",
       "      <td>5.30</td>\n",
       "      <td>5.38</td>\n",
       "      <td>5.31</td>\n",
       "      <td>3013200.0</td>\n",
       "      <td>5.31</td>\n",
       "      <td>0.07</td>\n",
       "    </tr>\n",
       "    <tr>\n",
       "      <th>2020-03-10</th>\n",
       "      <td>5.37</td>\n",
       "      <td>5.25</td>\n",
       "      <td>5.29</td>\n",
       "      <td>5.25</td>\n",
       "      <td>3148600.0</td>\n",
       "      <td>5.25</td>\n",
       "      <td>0.04</td>\n",
       "    </tr>\n",
       "    <tr>\n",
       "      <th>2020-03-11</th>\n",
       "      <td>5.31</td>\n",
       "      <td>5.21</td>\n",
       "      <td>5.27</td>\n",
       "      <td>5.27</td>\n",
       "      <td>3875400.0</td>\n",
       "      <td>5.27</td>\n",
       "      <td>0.00</td>\n",
       "    </tr>\n",
       "    <tr>\n",
       "      <th>2020-03-12</th>\n",
       "      <td>5.31</td>\n",
       "      <td>5.20</td>\n",
       "      <td>5.25</td>\n",
       "      <td>5.25</td>\n",
       "      <td>2038200.0</td>\n",
       "      <td>5.25</td>\n",
       "      <td>0.00</td>\n",
       "    </tr>\n",
       "  </tbody>\n",
       "</table>\n",
       "</div>"
      ],
      "text/plain": [
       "            High   Low  Open  Close     Volume  Adj Close  Difference\n",
       "Date                                                                 \n",
       "2020-03-06  5.45  5.36  5.37   5.43  1813100.0       5.43       -0.06\n",
       "2020-03-09  5.46  5.30  5.38   5.31  3013200.0       5.31        0.07\n",
       "2020-03-10  5.37  5.25  5.29   5.25  3148600.0       5.25        0.04\n",
       "2020-03-11  5.31  5.21  5.27   5.27  3875400.0       5.27        0.00\n",
       "2020-03-12  5.31  5.20  5.25   5.25  2038200.0       5.25        0.00"
      ]
     },
     "execution_count": 4,
     "metadata": {},
     "output_type": "execute_result"
    }
   ],
   "source": [
    "df6012.tail()"
   ]
  },
  {
   "cell_type": "code",
   "execution_count": 5,
   "metadata": {},
   "outputs": [
    {
     "data": {
      "image/png": "[encoded data removed]",
      "text/plain": [
       "<Figure size 864x576 with 1 Axes>"
      ]
     },
     "metadata": {
      "needs_background": "light"
     },
     "output_type": "display_data"
    }
   ],
   "source": [
    "plt.figure(figsize = (12,8))\n",
    "plt.plot(df6012['Adj Close'])\n",
    "plt.xlabel(\"Year\")\n",
    "plt.ylabel(\"Price\")\n",
    "plt.show()"
   ]
  },
  {
   "cell_type": "code",
   "execution_count": 6,
   "metadata": {},
   "outputs": [],
   "source": [
    "df6012.to_csv('maxis.csv')"
   ]
  },
  {
   "cell_type": "code",
   "execution_count": 6,
   "metadata": {},
   "outputs": [],
   "source": [
    "dfPre = []\n",
    "dfPre = df6012[['Adj Close']]"
   ]
  },
  {
   "cell_type": "code",
   "execution_count": 8,
   "metadata": {},
   "outputs": [
    {
     "name": "stdout",
     "output_type": "stream",
     "text": [
      "            Adj Close\n",
      "Date                 \n",
      "2010-05-03   3.305936\n",
      "2010-05-04   3.293509\n",
      "2010-05-05   3.299722\n",
      "2010-05-06   3.299722\n",
      "2010-05-07   3.268651\n"
     ]
    }
   ],
   "source": [
    "print(dfPre.head())"
   ]
  },
  {
   "cell_type": "code",
   "execution_count": 10,
   "metadata": {},
   "outputs": [
    {
     "name": "stdout",
     "output_type": "stream",
     "text": [
      "            Adj Close  Prediction\n",
      "Date                             \n",
      "2010-05-03   3.305936    3.350196\n",
      "2010-05-04   3.293509    3.343888\n",
      "2010-05-05   3.299722    3.343888\n",
      "2010-05-06   3.299722    3.350196\n",
      "2010-05-07   3.268651    3.356505\n"
     ]
    },
    {
     "name": "stderr",
     "output_type": "stream",
     "text": [
      "C:\\Users\\ADMIN\\anaconda3\\lib\\site-packages\\ipykernel_launcher.py:2: SettingWithCopyWarning: \n",
      "A value is trying to be set on a copy of a slice from a DataFrame.\n",
      "Try using .loc[row_indexer,col_indexer] = value instead\n",
      "\n",
      "See the caveats in the documentation: https://pandas.pydata.org/pandas-docs/stable/user_guide/indexing.html#returning-a-view-versus-a-copy\n",
      "  \n"
     ]
    }
   ],
   "source": [
    "forecast_out = 30 #predict n days into the future, in this case, 30\n",
    "dfPre['Prediction'] = dfPre[['Adj Close']].shift(-forecast_out)\n",
    "print(dfPre.head())"
   ]
  },
  {
   "cell_type": "code",
   "execution_count": 11,
   "metadata": {},
   "outputs": [
    {
     "data": {
      "text/plain": [
       "2437"
      ]
     },
     "execution_count": 11,
     "metadata": {},
     "output_type": "execute_result"
    }
   ],
   "source": [
    "X = np.array(dfPre.drop(['Prediction'], 1))\n",
    "len(X)"
   ]
  },
  {
   "cell_type": "code",
   "execution_count": 12,
   "metadata": {},
   "outputs": [
    {
     "data": {
      "text/plain": [
       "2437"
      ]
     },
     "execution_count": 12,
     "metadata": {},
     "output_type": "execute_result"
    }
   ],
   "source": [
    "#reserving 60 data for testing\n",
    "X_new = X[0:2377]\n",
    "len(X_new) + 60"
   ]
  },
  {
   "cell_type": "code",
   "execution_count": 15,
   "metadata": {},
   "outputs": [
    {
     "data": {
      "text/plain": [
       "array([[3.3059361 ],\n",
       "       [3.29350901],\n",
       "       [3.29972196],\n",
       "       [3.29972196],\n",
       "       [3.26865149],\n",
       "       [3.29350901],\n",
       "       [3.31215048],\n",
       "       [3.31215048],\n",
       "       [3.31215048],\n",
       "       [3.31215048]])"
      ]
     },
     "execution_count": 15,
     "metadata": {},
     "output_type": "execute_result"
    }
   ],
   "source": [
    "X_new[0:10]"
   ]
  },
  {
   "cell_type": "code",
   "execution_count": 16,
   "metadata": {},
   "outputs": [
    {
     "data": {
      "text/plain": [
       "2377"
      ]
     },
     "execution_count": 16,
     "metadata": {},
     "output_type": "execute_result"
    }
   ],
   "source": [
    "y = np.array(dfPre['Prediction'])\n",
    "y_new = y[:-60]\n",
    "len(y_new)"
   ]
  },
  {
   "cell_type": "code",
   "execution_count": 17,
   "metadata": {},
   "outputs": [
    {
     "data": {
      "text/plain": [
       "array([3.35019565, 3.34388781, 3.34388781, 3.35019565, 3.35650492,\n",
       "       3.32495856, 3.35650492, 3.3628509 , 3.35650444, 3.35016036])"
      ]
     },
     "execution_count": 17,
     "metadata": {},
     "output_type": "execute_result"
    }
   ],
   "source": [
    "y_new[0:10]"
   ]
  },
  {
   "cell_type": "code",
   "execution_count": 18,
   "metadata": {},
   "outputs": [],
   "source": [
    "X_train, X_test, y_train, y_test = train_test_split(X_new, y_new, test_size = 0.2)"
   ]
  },
  {
   "cell_type": "code",
   "execution_count": 21,
   "metadata": {},
   "outputs": [
    {
     "name": "stdout",
     "output_type": "stream",
     "text": [
      "[3.35019565 3.34388781 3.34388781 ... 5.25       5.26999998 5.25      ]\n"
     ]
    },
    {
     "data": {
      "text/plain": [
       "2407"
      ]
     },
     "execution_count": 21,
     "metadata": {},
     "output_type": "execute_result"
    }
   ],
   "source": [
    "y = np.array(dfPre['Prediction'])\n",
    "y = y[:-forecast_out]\n",
    "print(y)\n",
    "len(y)"
   ]
  },
  {
   "cell_type": "code",
   "execution_count": 22,
   "metadata": {},
   "outputs": [
    {
     "data": {
      "text/plain": [
       "LinearRegression(copy_X=True, fit_intercept=True, n_jobs=None, normalize=False)"
      ]
     },
     "execution_count": 22,
     "metadata": {},
     "output_type": "execute_result"
    }
   ],
   "source": [
    "lr = LinearRegression()\n",
    "lr.fit(X_train, y_train)"
   ]
  },
  {
   "cell_type": "code",
   "execution_count": 23,
   "metadata": {},
   "outputs": [
    {
     "name": "stdout",
     "output_type": "stream",
     "text": [
      "Predicted last 30 days\n",
      "[5.31460604 5.36094345 5.43508296 5.43508296 5.39801321 5.44435018\n",
      " 5.40728042 5.39801321 5.5648271  5.49068759 5.61116452 5.47215272\n",
      " 5.35167579 5.37021067 5.39801321 5.43508296 5.38874555 5.44435018\n",
      " 5.37021067 5.49995525 5.4258153  5.44435018 5.37947833 5.44435018\n",
      " 5.37947833 5.4258153  5.31460604 5.2590014  5.27753628 5.2590014 ]\n"
     ]
    }
   ],
   "source": [
    "y_pre = lr.predict(X[2407:2437])\n",
    "print(\"Predicted last 30 days\")\n",
    "print(y_pre)"
   ]
  },
  {
   "cell_type": "code",
   "execution_count": 25,
   "metadata": {},
   "outputs": [
    {
     "name": "stdout",
     "output_type": "stream",
     "text": [
      "Confidence Score:  0.9215180447100499\n"
     ]
    }
   ],
   "source": [
    "confidence = lr.score(X_test, y_test)\n",
    "print(\"Confidence Score: \", confidence)"
   ]
  },
  {
   "cell_type": "code",
   "execution_count": 27,
   "metadata": {},
   "outputs": [
    {
     "name": "stdout",
     "output_type": "stream",
     "text": [
      "Actual last 30 days: \n",
      "[[5.30999994]\n",
      " [5.36000013]\n",
      " [5.44000006]\n",
      " [5.44000006]\n",
      " [5.4000001 ]\n",
      " [5.44999981]\n",
      " [5.40999985]\n",
      " [5.4000001 ]\n",
      " [5.57999992]\n",
      " [5.5       ]\n",
      " [5.63000011]\n",
      " [5.48000002]\n",
      " [5.3499999 ]\n",
      " [5.36999989]\n",
      " [5.4000001 ]\n",
      " [5.44000006]\n",
      " [5.38999987]\n",
      " [5.44999981]\n",
      " [5.36999989]\n",
      " [5.51000023]\n",
      " [5.42999983]\n",
      " [5.44999981]\n",
      " [5.38000011]\n",
      " [5.44999981]\n",
      " [5.38000011]\n",
      " [5.42999983]\n",
      " [5.30999994]\n",
      " [5.25      ]\n",
      " [5.26999998]\n",
      " [5.25      ]]\n"
     ]
    }
   ],
   "source": [
    "x_forecast = np.array(dfPre.drop(['Prediction'], 1))[-forcast_out:]\n",
    "print(\"Actual last 30 days: \")\n",
    "print(x_forecast)"
   ]
  },
  {
   "cell_type": "code",
   "execution_count": 28,
   "metadata": {},
   "outputs": [
    {
     "data": {
      "text/plain": [
       "Text(0, 0.5, 'Price')"
      ]
     },
     "execution_count": 28,
     "metadata": {},
     "output_type": "execute_result"
    },
    {
     "data": {
      "image/png": "[encoded data removed]",
      "text/plain": [
       "<Figure size 432x288 with 1 Axes>"
      ]
     },
     "metadata": {
      "needs_background": "light"
     },
     "output_type": "display_data"
    }
   ],
   "source": [
    "plt.plot(y_pre, color='r')\n",
    "plt.plot(x_forecast, color='b')\n",
    "plt.legend(['Forecasted', 'Actual'])\n",
    "plt.xlabel(\"Days\")\n",
    "plt.ylabel(\"Price\")"
   ]
  },
  {
   "cell_type": "code",
   "execution_count": null,
   "metadata": {},
   "outputs": [],
   "source": []
  }
 ],
 "metadata": {
  "kernelspec": {
   "display_name": "Python 3",
   "language": "python",
   "name": "python3"
  },
  "language_info": {
   "codemirror_mode": {
    "name": "ipython",
    "version": 3
   },
   "file_extension": ".py",
   "mimetype": "text/x-python",
   "name": "python",
   "nbconvert_exporter": "python",
   "pygments_lexer": "ipython3",
   "version": "3.7.6"
  }
 },
 "nbformat": 4,
 "nbformat_minor": 4
}
