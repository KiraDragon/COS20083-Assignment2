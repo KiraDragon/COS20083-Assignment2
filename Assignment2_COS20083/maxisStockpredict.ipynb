{
 "cells": [
  {
   "cell_type": "code",
   "execution_count": 55,
   "metadata": {},
   "outputs": [],
   "source": [
    "import pandas as pd\n",
    "import math\n",
    "import numpy as np\n",
    "import matplotlib.pyplot as plt\n",
    "import pandas_datareader as web\n",
    "from sklearn.linear_model import LinearRegression\n",
    "from sklearn.model_selection import train_test_split\n",
    "from sklearn import metrics"
   ]
  },
  {
   "cell_type": "code",
   "execution_count": 56,
   "metadata": {},
   "outputs": [],
   "source": [
    "import requests\n",
    "from bs4 import BeautifulSoup\n",
    "import bs4\n",
    "from fastnumbers import isfloat \n",
    "from fastnumbers import fast_float\n",
    "from multiprocessing.dummy import Pool as ThreadPool "
   ]
  },
  {
   "cell_type": "code",
   "execution_count": 57,
   "metadata": {},
   "outputs": [],
   "source": [
    "def ffloat(string):\n",
    "    if string is None:\n",
    "        return np.nan\n",
    "    if type(string)==float or type(string)==np.float64:\n",
    "        return string\n",
    "    if type(string)==int or type(string)==np.int64:\n",
    "        return string\n",
    "    return fast_float(string.split(\" \")[0].replace(',','').replace('%',''),\n",
    "                      default=np.nan)\n",
    "\n",
    "def ffloat_list(string_list):\n",
    "    return list(map(ffloat,string_list))\n",
    "\n",
    "def remove_multiple_spaces(string):\n",
    "    if type(string)==str:\n",
    "        return ' '.join(string.split())\n",
    "    return string\n",
    "\n",
    "def get_children(html_content):\n",
    "    return [item for item in html_content.children if \n",
    "            type(item)==bs4.element.Tag or \n",
    "            len(str(item).replace(\"\\n\",\"\").strip())>0]"
   ]
  },
  {
   "cell_type": "code",
   "execution_count": 58,
   "metadata": {},
   "outputs": [
    {
     "data": {
      "text/plain": [
       "200"
      ]
     },
     "execution_count": 58,
     "metadata": {},
     "output_type": "execute_result"
    }
   ],
   "source": [
    "response = requests.get(\"https://finance.yahoo.com/gainers\", timeout=240)\n",
    "response.status_code"
   ]
  },
  {
   "cell_type": "code",
   "execution_count": 59,
   "metadata": {},
   "outputs": [],
   "source": [
    "def get_table_simple(table,is_table_tag=True):\n",
    "    elems = table.find_all('tr') if is_table_tag else get_children(table)\n",
    "    table_data = list()\n",
    "    for row in elems:\n",
    "        row_data = list()\n",
    "        row_elems = get_children(row)\n",
    "        for elem in row_elems:\n",
    "            text = elem.text.strip().replace(\"\\n\",\"\")\n",
    "            text = remove_multiple_spaces(text)\n",
    "            if len(text)==0:\n",
    "                continue\n",
    "            row_data.append(text)\n",
    "        table_data.append(row_data)\n",
    "    return table_data"
   ]
  },
  {
   "cell_type": "code",
   "execution_count": 60,
   "metadata": {},
   "outputs": [],
   "source": [
    "html = BeautifulSoup(response.content, \"html.parser\")"
   ]
  },
  {
   "cell_type": "code",
   "execution_count": 61,
   "metadata": {},
   "outputs": [
    {
     "data": {
      "text/html": [
       "<div>\n",
       "<style scoped>\n",
       "    .dataframe tbody tr th:only-of-type {\n",
       "        vertical-align: middle;\n",
       "    }\n",
       "\n",
       "    .dataframe tbody tr th {\n",
       "        vertical-align: top;\n",
       "    }\n",
       "\n",
       "    .dataframe thead th {\n",
       "        text-align: right;\n",
       "    }\n",
       "</style>\n",
       "<table border=\"1\" class=\"dataframe\">\n",
       "  <thead>\n",
       "    <tr style=\"text-align: right;\">\n",
       "      <th></th>\n",
       "      <th>0</th>\n",
       "      <th>1</th>\n",
       "      <th>2</th>\n",
       "      <th>3</th>\n",
       "      <th>4</th>\n",
       "      <th>5</th>\n",
       "      <th>6</th>\n",
       "      <th>7</th>\n",
       "      <th>8</th>\n",
       "      <th>9</th>\n",
       "    </tr>\n",
       "  </thead>\n",
       "  <tbody>\n",
       "    <tr>\n",
       "      <th>0</th>\n",
       "      <td>Symbol</td>\n",
       "      <td>Name</td>\n",
       "      <td>Price (Intraday)</td>\n",
       "      <td>Change</td>\n",
       "      <td>% Change</td>\n",
       "      <td>Volume</td>\n",
       "      <td>Avg Vol (3 month)</td>\n",
       "      <td>Market Cap</td>\n",
       "      <td>PE Ratio (TTM)</td>\n",
       "      <td>52 Week Range</td>\n",
       "    </tr>\n",
       "    <tr>\n",
       "      <th>1</th>\n",
       "      <td>ZS</td>\n",
       "      <td>Zscaler, Inc.</td>\n",
       "      <td>98.09</td>\n",
       "      <td>+22.29</td>\n",
       "      <td>+29.41%</td>\n",
       "      <td>22.809M</td>\n",
       "      <td>3.037M</td>\n",
       "      <td>12.688B</td>\n",
       "      <td>N/A</td>\n",
       "      <td>None</td>\n",
       "    </tr>\n",
       "    <tr>\n",
       "      <th>2</th>\n",
       "      <td>PTKFF</td>\n",
       "      <td>PT Kalbe Farma Tbk.</td>\n",
       "      <td>0.1020</td>\n",
       "      <td>+0.0220</td>\n",
       "      <td>+27.50%</td>\n",
       "      <td>5.158M</td>\n",
       "      <td>304,519</td>\n",
       "      <td>5.58B</td>\n",
       "      <td>N/A</td>\n",
       "      <td>None</td>\n",
       "    </tr>\n",
       "    <tr>\n",
       "      <th>3</th>\n",
       "      <td>TBVPF</td>\n",
       "      <td>Thai Beverage Public Company Limited</td>\n",
       "      <td>0.5500</td>\n",
       "      <td>+0.1150</td>\n",
       "      <td>+26.44%</td>\n",
       "      <td>25,909</td>\n",
       "      <td>102,600</td>\n",
       "      <td>14.231B</td>\n",
       "      <td>25.00</td>\n",
       "      <td>None</td>\n",
       "    </tr>\n",
       "    <tr>\n",
       "      <th>4</th>\n",
       "      <td>PTXKY</td>\n",
       "      <td>PT XL Axiata Tbk</td>\n",
       "      <td>3.8000</td>\n",
       "      <td>+0.7200</td>\n",
       "      <td>+23.38%</td>\n",
       "      <td>47,587</td>\n",
       "      <td>7,756</td>\n",
       "      <td>2.266B</td>\n",
       "      <td>N/A</td>\n",
       "      <td>None</td>\n",
       "    </tr>\n",
       "    <tr>\n",
       "      <th>5</th>\n",
       "      <td>NWAU</td>\n",
       "      <td>Consumer Automotive Finance, Inc.</td>\n",
       "      <td>0.0225</td>\n",
       "      <td>+0.0028</td>\n",
       "      <td>+14.21%</td>\n",
       "      <td>549,897</td>\n",
       "      <td>523,927</td>\n",
       "      <td>39.381B</td>\n",
       "      <td>N/A</td>\n",
       "      <td>None</td>\n",
       "    </tr>\n",
       "  </tbody>\n",
       "</table>\n",
       "</div>"
      ],
      "text/plain": [
       "        0                                     1                 2        3  \\\n",
       "0  Symbol                                  Name  Price (Intraday)   Change   \n",
       "1      ZS                         Zscaler, Inc.             98.09   +22.29   \n",
       "2   PTKFF                   PT Kalbe Farma Tbk.            0.1020  +0.0220   \n",
       "3   TBVPF  Thai Beverage Public Company Limited            0.5500  +0.1150   \n",
       "4   PTXKY                      PT XL Axiata Tbk            3.8000  +0.7200   \n",
       "5    NWAU     Consumer Automotive Finance, Inc.            0.0225  +0.0028   \n",
       "\n",
       "          4        5                  6           7               8  \\\n",
       "0  % Change   Volume  Avg Vol (3 month)  Market Cap  PE Ratio (TTM)   \n",
       "1   +29.41%  22.809M             3.037M     12.688B             N/A   \n",
       "2   +27.50%   5.158M            304,519       5.58B             N/A   \n",
       "3   +26.44%   25,909            102,600     14.231B           25.00   \n",
       "4   +23.38%   47,587              7,756      2.266B             N/A   \n",
       "5   +14.21%  549,897            523,927     39.381B             N/A   \n",
       "\n",
       "               9  \n",
       "0  52 Week Range  \n",
       "1           None  \n",
       "2           None  \n",
       "3           None  \n",
       "4           None  \n",
       "5           None  "
      ]
     },
     "execution_count": 61,
     "metadata": {},
     "output_type": "execute_result"
    }
   ],
   "source": [
    "init_list = get_table_simple(html)\n",
    "top5list = []\n",
    "for x in range(6):\n",
    "    top5list.append(init_list[x])\n",
    "dftop5gainers = pd.DataFrame.from_records(top5list)\n",
    "dftop5gainers"
   ]
  },
  {
   "cell_type": "code",
   "execution_count": 2,
   "metadata": {},
   "outputs": [],
   "source": [
    "df6012 = web.DataReader('6012.KL', data_source='yahoo', start='2011-03-12',end='2020-03-12')"
   ]
  },
  {
   "cell_type": "code",
   "execution_count": 3,
   "metadata": {},
   "outputs": [
    {
     "data": {
      "text/html": [
       "<div>\n",
       "<style scoped>\n",
       "    .dataframe tbody tr th:only-of-type {\n",
       "        vertical-align: middle;\n",
       "    }\n",
       "\n",
       "    .dataframe tbody tr th {\n",
       "        vertical-align: top;\n",
       "    }\n",
       "\n",
       "    .dataframe thead th {\n",
       "        text-align: right;\n",
       "    }\n",
       "</style>\n",
       "<table border=\"1\" class=\"dataframe\">\n",
       "  <thead>\n",
       "    <tr style=\"text-align: right;\">\n",
       "      <th></th>\n",
       "      <th>High</th>\n",
       "      <th>Low</th>\n",
       "      <th>Open</th>\n",
       "      <th>Close</th>\n",
       "      <th>Volume</th>\n",
       "      <th>Adj Close</th>\n",
       "      <th>Difference</th>\n",
       "    </tr>\n",
       "    <tr>\n",
       "      <th>Date</th>\n",
       "      <th></th>\n",
       "      <th></th>\n",
       "      <th></th>\n",
       "      <th></th>\n",
       "      <th></th>\n",
       "      <th></th>\n",
       "      <th></th>\n",
       "    </tr>\n",
       "  </thead>\n",
       "  <tbody>\n",
       "    <tr>\n",
       "      <th>2011-03-14</th>\n",
       "      <td>5.41</td>\n",
       "      <td>5.35</td>\n",
       "      <td>5.40</td>\n",
       "      <td>5.39</td>\n",
       "      <td>3479700.0</td>\n",
       "      <td>3.575402</td>\n",
       "      <td>0.01</td>\n",
       "    </tr>\n",
       "    <tr>\n",
       "      <th>2011-03-15</th>\n",
       "      <td>5.39</td>\n",
       "      <td>5.36</td>\n",
       "      <td>5.38</td>\n",
       "      <td>5.37</td>\n",
       "      <td>4481900.0</td>\n",
       "      <td>3.562135</td>\n",
       "      <td>0.01</td>\n",
       "    </tr>\n",
       "    <tr>\n",
       "      <th>2011-03-16</th>\n",
       "      <td>5.38</td>\n",
       "      <td>5.34</td>\n",
       "      <td>5.36</td>\n",
       "      <td>5.36</td>\n",
       "      <td>4017800.0</td>\n",
       "      <td>3.555503</td>\n",
       "      <td>0.00</td>\n",
       "    </tr>\n",
       "    <tr>\n",
       "      <th>2011-03-17</th>\n",
       "      <td>5.36</td>\n",
       "      <td>5.33</td>\n",
       "      <td>5.35</td>\n",
       "      <td>5.35</td>\n",
       "      <td>3148300.0</td>\n",
       "      <td>3.548868</td>\n",
       "      <td>0.00</td>\n",
       "    </tr>\n",
       "    <tr>\n",
       "      <th>2011-03-18</th>\n",
       "      <td>5.40</td>\n",
       "      <td>5.34</td>\n",
       "      <td>5.35</td>\n",
       "      <td>5.40</td>\n",
       "      <td>3830400.0</td>\n",
       "      <td>3.582035</td>\n",
       "      <td>-0.05</td>\n",
       "    </tr>\n",
       "  </tbody>\n",
       "</table>\n",
       "</div>"
      ],
      "text/plain": [
       "            High   Low  Open  Close     Volume  Adj Close  Difference\n",
       "Date                                                                 \n",
       "2011-03-14  5.41  5.35  5.40   5.39  3479700.0   3.575402        0.01\n",
       "2011-03-15  5.39  5.36  5.38   5.37  4481900.0   3.562135        0.01\n",
       "2011-03-16  5.38  5.34  5.36   5.36  4017800.0   3.555503        0.00\n",
       "2011-03-17  5.36  5.33  5.35   5.35  3148300.0   3.548868        0.00\n",
       "2011-03-18  5.40  5.34  5.35   5.40  3830400.0   3.582035       -0.05"
      ]
     },
     "execution_count": 3,
     "metadata": {},
     "output_type": "execute_result"
    }
   ],
   "source": [
    "df6012['Difference'] = df6012['Open'] - df6012['Close']\n",
    "df6012.head()"
   ]
  },
  {
   "cell_type": "code",
   "execution_count": 4,
   "metadata": {},
   "outputs": [
    {
     "data": {
      "text/html": [
       "<div>\n",
       "<style scoped>\n",
       "    .dataframe tbody tr th:only-of-type {\n",
       "        vertical-align: middle;\n",
       "    }\n",
       "\n",
       "    .dataframe tbody tr th {\n",
       "        vertical-align: top;\n",
       "    }\n",
       "\n",
       "    .dataframe thead th {\n",
       "        text-align: right;\n",
       "    }\n",
       "</style>\n",
       "<table border=\"1\" class=\"dataframe\">\n",
       "  <thead>\n",
       "    <tr style=\"text-align: right;\">\n",
       "      <th></th>\n",
       "      <th>High</th>\n",
       "      <th>Low</th>\n",
       "      <th>Open</th>\n",
       "      <th>Close</th>\n",
       "      <th>Volume</th>\n",
       "      <th>Adj Close</th>\n",
       "      <th>Difference</th>\n",
       "    </tr>\n",
       "    <tr>\n",
       "      <th>Date</th>\n",
       "      <th></th>\n",
       "      <th></th>\n",
       "      <th></th>\n",
       "      <th></th>\n",
       "      <th></th>\n",
       "      <th></th>\n",
       "      <th></th>\n",
       "    </tr>\n",
       "  </thead>\n",
       "  <tbody>\n",
       "    <tr>\n",
       "      <th>2020-03-06</th>\n",
       "      <td>5.45</td>\n",
       "      <td>5.36</td>\n",
       "      <td>5.37</td>\n",
       "      <td>5.43</td>\n",
       "      <td>1813100.0</td>\n",
       "      <td>5.43</td>\n",
       "      <td>-0.06</td>\n",
       "    </tr>\n",
       "    <tr>\n",
       "      <th>2020-03-09</th>\n",
       "      <td>5.46</td>\n",
       "      <td>5.30</td>\n",
       "      <td>5.38</td>\n",
       "      <td>5.31</td>\n",
       "      <td>3013200.0</td>\n",
       "      <td>5.31</td>\n",
       "      <td>0.07</td>\n",
       "    </tr>\n",
       "    <tr>\n",
       "      <th>2020-03-10</th>\n",
       "      <td>5.37</td>\n",
       "      <td>5.25</td>\n",
       "      <td>5.29</td>\n",
       "      <td>5.25</td>\n",
       "      <td>3148600.0</td>\n",
       "      <td>5.25</td>\n",
       "      <td>0.04</td>\n",
       "    </tr>\n",
       "    <tr>\n",
       "      <th>2020-03-11</th>\n",
       "      <td>5.31</td>\n",
       "      <td>5.21</td>\n",
       "      <td>5.27</td>\n",
       "      <td>5.27</td>\n",
       "      <td>3875400.0</td>\n",
       "      <td>5.27</td>\n",
       "      <td>0.00</td>\n",
       "    </tr>\n",
       "    <tr>\n",
       "      <th>2020-03-12</th>\n",
       "      <td>5.31</td>\n",
       "      <td>5.20</td>\n",
       "      <td>5.25</td>\n",
       "      <td>5.25</td>\n",
       "      <td>2038200.0</td>\n",
       "      <td>5.25</td>\n",
       "      <td>0.00</td>\n",
       "    </tr>\n",
       "  </tbody>\n",
       "</table>\n",
       "</div>"
      ],
      "text/plain": [
       "            High   Low  Open  Close     Volume  Adj Close  Difference\n",
       "Date                                                                 \n",
       "2020-03-06  5.45  5.36  5.37   5.43  1813100.0       5.43       -0.06\n",
       "2020-03-09  5.46  5.30  5.38   5.31  3013200.0       5.31        0.07\n",
       "2020-03-10  5.37  5.25  5.29   5.25  3148600.0       5.25        0.04\n",
       "2020-03-11  5.31  5.21  5.27   5.27  3875400.0       5.27        0.00\n",
       "2020-03-12  5.31  5.20  5.25   5.25  2038200.0       5.25        0.00"
      ]
     },
     "execution_count": 4,
     "metadata": {},
     "output_type": "execute_result"
    }
   ],
   "source": [
    "df6012.tail()"
   ]
  },
  {
   "cell_type": "code",
   "execution_count": 5,
   "metadata": {},
   "outputs": [
    {
     "data": {
      "image/png": "[encoded data removed]",
      "text/plain": [
       "<Figure size 864x576 with 1 Axes>"
      ]
     },
     "metadata": {
      "needs_background": "light"
     },
     "output_type": "display_data"
    }
   ],
   "source": [
    "plt.figure(figsize = (12,8))\n",
    "plt.plot(df6012['Adj Close'])\n",
    "plt.xlabel(\"Year\")\n",
    "plt.ylabel(\"Price\")\n",
    "plt.show()"
   ]
  },
  {
   "cell_type": "code",
   "execution_count": 6,
   "metadata": {},
   "outputs": [],
   "source": [
    "df6012.to_csv('maxis.csv')"
   ]
  },
  {
   "cell_type": "code",
   "execution_count": 7,
   "metadata": {},
   "outputs": [],
   "source": [
    "dfPre = []\n",
    "dfPre = df6012[['Adj Close']]"
   ]
  },
  {
   "cell_type": "code",
   "execution_count": 8,
   "metadata": {},
   "outputs": [
    {
     "name": "stdout",
     "output_type": "stream",
     "text": [
      "            Adj Close\n",
      "Date                 \n",
      "2011-03-14   3.575402\n",
      "2011-03-15   3.562135\n",
      "2011-03-16   3.555503\n",
      "2011-03-17   3.548868\n",
      "2011-03-18   3.582035\n"
     ]
    }
   ],
   "source": [
    "print(dfPre.head())"
   ]
  },
  {
   "cell_type": "code",
   "execution_count": 9,
   "metadata": {},
   "outputs": [
    {
     "name": "stdout",
     "output_type": "stream",
     "text": [
      "            Adj Close  Prediction\n",
      "Date                             \n",
      "2011-03-14   3.575402    3.555503\n",
      "2011-03-15   3.562135    3.562135\n",
      "2011-03-16   3.555503    3.568769\n",
      "2011-03-17   3.548868    3.562135\n",
      "2011-03-18   3.582035    3.562135\n"
     ]
    },
    {
     "name": "stderr",
     "output_type": "stream",
     "text": [
      "C:\\Users\\ADMIN\\anaconda3\\lib\\site-packages\\ipykernel_launcher.py:2: SettingWithCopyWarning: \n",
      "A value is trying to be set on a copy of a slice from a DataFrame.\n",
      "Try using .loc[row_indexer,col_indexer] = value instead\n",
      "\n",
      "See the caveats in the documentation: https://pandas.pydata.org/pandas-docs/stable/user_guide/indexing.html#returning-a-view-versus-a-copy\n",
      "  \n"
     ]
    }
   ],
   "source": [
    "forecast_out = 30 #predict n days into the future, in this case, 30\n",
    "dfPre['Prediction'] = dfPre[['Adj Close']].shift(-forecast_out)\n",
    "print(dfPre.head())"
   ]
  },
  {
   "cell_type": "code",
   "execution_count": 10,
   "metadata": {},
   "outputs": [
    {
     "data": {
      "text/plain": [
       "2225"
      ]
     },
     "execution_count": 10,
     "metadata": {},
     "output_type": "execute_result"
    }
   ],
   "source": [
    "X = np.array(dfPre.drop(['Prediction'], 1))\n",
    "len(X)"
   ]
  },
  {
   "cell_type": "code",
   "execution_count": 11,
   "metadata": {},
   "outputs": [
    {
     "data": {
      "text/plain": [
       "2225"
      ]
     },
     "execution_count": 11,
     "metadata": {},
     "output_type": "execute_result"
    }
   ],
   "source": [
    "#reserving 60 data for testing\n",
    "X_new = X[0:2165]\n",
    "len(X_new) + 60"
   ]
  },
  {
   "cell_type": "code",
   "execution_count": 12,
   "metadata": {},
   "outputs": [
    {
     "data": {
      "text/plain": [
       "array([[3.57540226],\n",
       "       [3.56213546],\n",
       "       [3.55550337],\n",
       "       [3.54886842],\n",
       "       [3.5820353 ],\n",
       "       [3.56876922],\n",
       "       [3.56876922],\n",
       "       [3.56876922],\n",
       "       [3.60193563],\n",
       "       [3.5820353 ]])"
      ]
     },
     "execution_count": 12,
     "metadata": {},
     "output_type": "execute_result"
    }
   ],
   "source": [
    "X_new[0:10]"
   ]
  },
  {
   "cell_type": "code",
   "execution_count": 13,
   "metadata": {},
   "outputs": [
    {
     "data": {
      "text/plain": [
       "2165"
      ]
     },
     "execution_count": 13,
     "metadata": {},
     "output_type": "execute_result"
    }
   ],
   "source": [
    "y = np.array(dfPre['Prediction'])\n",
    "y_new = y[:-60]\n",
    "len(y_new)"
   ]
  },
  {
   "cell_type": "code",
   "execution_count": 14,
   "metadata": {},
   "outputs": [
    {
     "data": {
      "text/plain": [
       "array([3.55550337, 3.56213546, 3.56876922, 3.56213546, 3.56213546,\n",
       "       3.57540226, 3.56876922, 3.56876922, 3.56213546, 3.56876922])"
      ]
     },
     "execution_count": 14,
     "metadata": {},
     "output_type": "execute_result"
    }
   ],
   "source": [
    "y_new[0:10]"
   ]
  },
  {
   "cell_type": "code",
   "execution_count": 15,
   "metadata": {},
   "outputs": [],
   "source": [
    "X_train, X_test, y_train, y_test = train_test_split(X_new, y_new, test_size = 0.2)"
   ]
  },
  {
   "cell_type": "code",
   "execution_count": 16,
   "metadata": {},
   "outputs": [
    {
     "name": "stdout",
     "output_type": "stream",
     "text": [
      "[3.55550337 3.56213546 3.56876922 ... 5.25       5.26999998 5.25      ]\n"
     ]
    },
    {
     "data": {
      "text/plain": [
       "2195"
      ]
     },
     "execution_count": 16,
     "metadata": {},
     "output_type": "execute_result"
    }
   ],
   "source": [
    "y = np.array(dfPre['Prediction'])\n",
    "y = y[:-forecast_out]\n",
    "print(y)\n",
    "len(y)"
   ]
  },
  {
   "cell_type": "code",
   "execution_count": 17,
   "metadata": {},
   "outputs": [
    {
     "data": {
      "text/plain": [
       "LinearRegression(copy_X=True, fit_intercept=True, n_jobs=None, normalize=False)"
      ]
     },
     "execution_count": 17,
     "metadata": {},
     "output_type": "execute_result"
    }
   ],
   "source": [
    "lr = LinearRegression()\n",
    "lr.fit(X_train, y_train)"
   ]
  },
  {
   "cell_type": "code",
   "execution_count": 18,
   "metadata": {},
   "outputs": [
    {
     "name": "stdout",
     "output_type": "stream",
     "text": [
      "Predicted last 30 days\n",
      "[5.32440639 5.36835577 5.43867444 5.43867444 5.40351511 5.44746407\n",
      " 5.41230473 5.40351511 5.56173212 5.49141345 5.6056815  5.47383378\n",
      " 5.35956572 5.37714539 5.40351511 5.43867444 5.39472506 5.44746407\n",
      " 5.37714539 5.50020349 5.4298844  5.44746407 5.38593544 5.44746407\n",
      " 5.38593544 5.4298844  5.32440639 5.27166738 5.28924705 5.27166738]\n"
     ]
    }
   ],
   "source": [
    "y_pre = lr.predict(X[2195:2225])\n",
    "print(\"Predicted last 30 days\")\n",
    "print(y_pre)"
   ]
  },
  {
   "cell_type": "code",
   "execution_count": 19,
   "metadata": {},
   "outputs": [
    {
     "name": "stdout",
     "output_type": "stream",
     "text": [
      "Confidence Score:  0.8435601479998545\n"
     ]
    }
   ],
   "source": [
    "confidence = lr.score(X_test, y_test)\n",
    "print(\"Confidence Score: \", confidence)"
   ]
  },
  {
   "cell_type": "code",
   "execution_count": 20,
   "metadata": {},
   "outputs": [
    {
     "name": "stdout",
     "output_type": "stream",
     "text": [
      "Actual last 30 days: \n",
      "[[5.30999994]\n",
      " [5.36000013]\n",
      " [5.44000006]\n",
      " [5.44000006]\n",
      " [5.4000001 ]\n",
      " [5.44999981]\n",
      " [5.40999985]\n",
      " [5.4000001 ]\n",
      " [5.57999992]\n",
      " [5.5       ]\n",
      " [5.63000011]\n",
      " [5.48000002]\n",
      " [5.3499999 ]\n",
      " [5.36999989]\n",
      " [5.4000001 ]\n",
      " [5.44000006]\n",
      " [5.38999987]\n",
      " [5.44999981]\n",
      " [5.36999989]\n",
      " [5.51000023]\n",
      " [5.42999983]\n",
      " [5.44999981]\n",
      " [5.38000011]\n",
      " [5.44999981]\n",
      " [5.38000011]\n",
      " [5.42999983]\n",
      " [5.30999994]\n",
      " [5.25      ]\n",
      " [5.26999998]\n",
      " [5.25      ]]\n"
     ]
    }
   ],
   "source": [
    "x_forecast = np.array(dfPre.drop(['Prediction'], 1))[-forecast_out:]\n",
    "print(\"Actual last 30 days: \")\n",
    "print(x_forecast)"
   ]
  },
  {
   "cell_type": "code",
   "execution_count": 21,
   "metadata": {},
   "outputs": [
    {
     "data": {
      "text/plain": [
       "Text(0, 0.5, 'Price')"
      ]
     },
     "execution_count": 21,
     "metadata": {},
     "output_type": "execute_result"
    },
    {
     "data": {
      "image/png": "[encoded data removed]",
      "text/plain": [
       "<Figure size 864x576 with 1 Axes>"
      ]
     },
     "metadata": {
      "needs_background": "light"
     },
     "output_type": "display_data"
    }
   ],
   "source": [
    "plt.figure(figsize = (12,8))\n",
    "plt.plot(y_pre, color='r')\n",
    "plt.plot(x_forecast, color='b')\n",
    "plt.legend(['Forecasted', 'Actual'])\n",
    "plt.xlabel(\"Days\")\n",
    "plt.ylabel(\"Price\")"
   ]
  },
  {
   "cell_type": "code",
   "execution_count": 22,
   "metadata": {},
   "outputs": [
    {
     "name": "stdout",
     "output_type": "stream",
     "text": [
      "Mean Squared Error:  0.00010956483712283828\n"
     ]
    }
   ],
   "source": [
    "print(\"Mean Squared Error: \", metrics.mean_squared_error(y_pre, x_forecast))"
   ]
  },
  {
   "cell_type": "code",
   "execution_count": 23,
   "metadata": {},
   "outputs": [],
   "source": [
    "y_pre2 = [] \n",
    "y_pre2.append(np.array(y_pre))\n",
    "for x in range(11):\n",
    "    y_pre_alt = y_pre2[x]\n",
    "    y_pre_in = lr.predict(y_pre_alt.reshape(-1, 1))\n",
    "    y_pre2.append(np.array(y_pre_in))"
   ]
  },
  {
   "cell_type": "code",
   "execution_count": 24,
   "metadata": {},
   "outputs": [
    {
     "name": "stdout",
     "output_type": "stream",
     "text": [
      "[array([5.32440639, 5.36835577, 5.43867444, 5.43867444, 5.40351511,\n",
      "       5.44746407, 5.41230473, 5.40351511, 5.56173212, 5.49141345,\n",
      "       5.6056815 , 5.47383378, 5.35956572, 5.37714539, 5.40351511,\n",
      "       5.43867444, 5.39472506, 5.44746407, 5.37714539, 5.50020349,\n",
      "       5.4298844 , 5.44746407, 5.38593544, 5.44746407, 5.38593544,\n",
      "       5.4298844 , 5.32440639, 5.27166738, 5.28924705, 5.27166738]), array([5.33706943, 5.37570024, 5.43750925, 5.43750925, 5.40660474,\n",
      "       5.44523519, 5.41433069, 5.40660474, 5.54567501, 5.483866  ,\n",
      "       5.58430583, 5.46841375, 5.36797393, 5.38342618, 5.40660474,\n",
      "       5.43750925, 5.39887843, 5.44523519, 5.38342618, 5.49159231,\n",
      "       5.42978294, 5.44523519, 5.39115249, 5.44523519, 5.39115249,\n",
      "       5.42978294, 5.33706943, 5.29071267, 5.30616492, 5.29071267]), array([5.34820004, 5.38215591, 5.43648506, 5.43648506, 5.40932049,\n",
      "       5.44327604, 5.41611147, 5.40932049, 5.53156106, 5.47723192,\n",
      "       5.56551694, 5.46364963, 5.37536461, 5.3889469 , 5.40932049,\n",
      "       5.43648506, 5.40252918, 5.44327604, 5.3889469 , 5.48402322,\n",
      "       5.42969375, 5.44327604, 5.3957382 , 5.44327604, 5.3957382 ,\n",
      "       5.42969375, 5.34820004, 5.30745318, 5.32103546, 5.30745318]), array([5.35798367, 5.38783035, 5.43558481, 5.43558481, 5.41170758,\n",
      "       5.44155398, 5.41767675, 5.41170758, 5.51915513, 5.47140066,\n",
      "       5.54900181, 5.45946205, 5.3818609 , 5.39379952, 5.41170758,\n",
      "       5.43558481, 5.40573813, 5.44155398, 5.39379952, 5.47737011,\n",
      "       5.42961536, 5.44155398, 5.39976897, 5.44155398, 5.39976897,\n",
      "       5.42961536, 5.35798367, 5.32216782, 5.33410644, 5.32216782]), array([5.36658333, 5.39281809, 5.43479351, 5.43479351, 5.4138058 ,\n",
      "       5.44004032, 5.41905261, 5.4138058 , 5.5082505 , 5.46627508,\n",
      "       5.53448527, 5.45578122, 5.38757104, 5.39806489, 5.4138058 ,\n",
      "       5.43479351, 5.40855875, 5.44004032, 5.39806489, 5.47152213,\n",
      "       5.42954646, 5.44004032, 5.40331195, 5.44004032, 5.40331195,\n",
      "       5.42954646, 5.36658333, 5.33510176, 5.34559562, 5.33510176]), array([5.37414229, 5.39720224, 5.43409797, 5.43409797, 5.4156501 ,\n",
      "       5.43870983, 5.42026196, 5.4156501 , 5.49866551, 5.46176977,\n",
      "       5.52172545, 5.45254584, 5.39259016, 5.40181409, 5.4156501 ,\n",
      "       5.43409797, 5.41103803, 5.43870983, 5.40181409, 5.46638185,\n",
      "       5.4294859 , 5.43870983, 5.40642617, 5.43870983, 5.40642617,\n",
      "       5.4294859 , 5.37414229, 5.34647049, 5.35569442, 5.34647049]), array([5.3807865 , 5.40105583, 5.4334866 , 5.4334866 , 5.41727122,\n",
      "       5.43754035, 5.42132497, 5.41727122, 5.49024045, 5.45780968,\n",
      "       5.51050978, 5.44970199, 5.39700189, 5.40510958, 5.41727122,\n",
      "       5.4334866 , 5.41321727, 5.43754035, 5.40510958, 5.46186362,\n",
      "       5.42943266, 5.43754035, 5.40916352, 5.43754035, 5.40916352,\n",
      "       5.42943266, 5.3807865 , 5.35646342, 5.36457112, 5.35646342]), array([5.38662666, 5.40444308, 5.43294922, 5.43294922, 5.41869615,\n",
      "       5.4365124 , 5.42225933, 5.41869615, 5.48283496, 5.45432882,\n",
      "       5.50065138, 5.44720229, 5.40087973, 5.40800626, 5.41869615,\n",
      "       5.43294922, 5.4151328 , 5.4365124 , 5.40800626, 5.45789217,\n",
      "       5.42938587, 5.4365124 , 5.41156961, 5.4365124 , 5.41156961,\n",
      "       5.42938587, 5.38662666, 5.36524706, 5.37237359, 5.36524706]), array([5.39176007, 5.40742042, 5.43247687, 5.43247687, 5.41994864,\n",
      "       5.43560885, 5.42308062, 5.41994864, 5.47632565, 5.4512692 ,\n",
      "       5.491986  , 5.44500509, 5.40428829, 5.4105524 , 5.41994864,\n",
      "       5.43247687, 5.41681651, 5.43560885, 5.4105524 , 5.45440133,\n",
      "       5.42934474, 5.43560885, 5.41368453, 5.43560885, 5.41368453,\n",
      "       5.42934474, 5.39176007, 5.37296773, 5.37923184, 5.37296773]), array([5.39627225, 5.41003745, 5.43206168, 5.43206168, 5.42104956,\n",
      "       5.43481464, 5.42380253, 5.42104956, 5.47060406, 5.44857984,\n",
      "       5.48436927, 5.44307379, 5.40728436, 5.41279042, 5.42104956,\n",
      "       5.43206168, 5.41829647, 5.43481464, 5.41279042, 5.45133294,\n",
      "       5.42930858, 5.43481464, 5.41554351, 5.43481464, 5.41554351,\n",
      "       5.42930858, 5.39627225, 5.37975408, 5.38526014, 5.37975408]), array([5.40023839, 5.41233778, 5.43169673, 5.43169673, 5.42201726,\n",
      "       5.43411654, 5.42443707, 5.42201726, 5.46557488, 5.44621594,\n",
      "       5.47767428, 5.4413762 , 5.40991786, 5.4147576 , 5.42201726,\n",
      "       5.43169673, 5.41959733, 5.43411654, 5.4147576 , 5.44863586,\n",
      "       5.4292768 , 5.43411654, 5.41717752, 5.43411654, 5.41717752,\n",
      "       5.4292768 , 5.40023839, 5.38571918, 5.39055891, 5.38571918]), array([5.40372456, 5.41435974, 5.43137595, 5.43137595, 5.42286784,\n",
      "       5.43350292, 5.42499482, 5.42286784, 5.46115431, 5.4441381 ,\n",
      "       5.47178949, 5.43988405, 5.41223266, 5.41648672, 5.42286784,\n",
      "       5.43137595, 5.42074077, 5.43350292, 5.41648672, 5.44626518,\n",
      "       5.42924887, 5.43350292, 5.41861379, 5.43350292, 5.41861379,\n",
      "       5.42924887, 5.40372456, 5.3909624 , 5.39521646, 5.3909624 ])]\n",
      "[5.324406387263749, 5.368355768141574, 5.438674442240206, 5.438674442240206, 5.403515105190889, 5.447464066936355, 5.4123047298870395, 5.403515105190889, 5.5617321219128115, 5.49141344781418, 5.605681502790636, 5.473833779289522, 5.359565724313065, 5.377145392837723, 5.403515105190889, 5.438674442240206, 5.394725061362381, 5.447464066936355, 5.377145392837723, 5.500203491642688, 5.429884398411697, 5.447464066936355, 5.385935436666232, 5.447464066936355, 5.385935436666232, 5.429884398411697, 5.324406387263749, 5.271667381689775, 5.289247050214433, 5.271667381689775, 5.337069425272726, 5.375700239498747, 5.437509247531781, 5.437509247531781, 5.406604743515263, 5.4452351893305355, 5.414330685314019, 5.406604743515263, 5.54567501158959, 5.483866003556557, 5.58430582581561, 5.468413751548297, 5.367973929289244, 5.3834261812975015, 5.406604743515263, 5.437509247531781, 5.39887843330576, 5.4452351893305355, 5.3834261812975015, 5.491592313766059, 5.429782937322277, 5.4452351893305355, 5.391152491507006, 5.4452351893305355, 5.391152491507006, 5.429782937322277, 5.337069425272726, 5.2907126692479505, 5.30616492125621, 5.2907126692479505, 5.348200036423353, 5.382155914252756, 5.436485059718, 5.436485059718, 5.409320486985377, 5.443276040987529, 5.416111468254908, 5.409320486985377, 5.531561064282176, 5.4772319188169325, 5.565516942111579, 5.463649632450621, 5.375364609155975, 5.3889468955222855, 5.409320486985377, 5.436485059718, 5.402529181888596, 5.443276040987529, 5.3889468955222855, 5.484023223913712, 5.429693754621218, 5.443276040987529, 5.395738200619067, 5.443276040987529, 5.395738200619067, 5.429693754621218, 5.348200036423353, 5.30745317732442, 5.321035463690731, 5.30745317732442, 5.357983668478995, 5.387830350778244, 5.435584814745796, 5.435584814745796, 5.411707582762019, 5.44155398042221, 5.417676748438435, 5.411707582762019, 5.51915512668901, 5.471400662721459, 5.549001808988259, 5.459462046729571, 5.381860900462771, 5.393799516454658, 5.411707582762019, 5.435584814745796, 5.4057381324465466, 5.44155398042221, 5.393799516454658, 5.4773701130369306, 5.429615364430322, 5.44155398042221, 5.399768966770132, 5.44155398042221, 5.399768966770132, 5.429615364430322, 5.357983668478995, 5.322167820503331, 5.33410643649522, 5.322167820503331, 5.3665833271055385, 5.392818091194038, 5.4347935135810355, 5.4347935135810355, 5.413805802387536, 5.440040316282783, 5.419052605089285, 5.413805802387536, 5.508250502758278, 5.4662750803712825, 5.534485266846778, 5.455781224774532, 5.387571038299037, 5.398064893895786, 5.413805802387536, 5.4347935135810355, 5.408558749492536, 5.440040316282783, 5.398064893895786, 5.471522133266282, 5.4295464606860335, 5.440040316282783, 5.403311946790788, 5.440040316282783, 5.403311946790788, 5.4295464606860335, 5.3665833271055385, 5.3351017603152915, 5.345595615912042, 5.3351017603152915, 5.374142291718322, 5.397202236534921, 5.434097972308733, 5.434097972308733, 5.415650104421825, 5.438709829322492, 5.420261961435587, 5.415650104421825, 5.4986655099129, 5.46176977413909, 5.5217254547294985, 5.452545840195636, 5.392590159605228, 5.40181409354868, 5.415650104421825, 5.434097972308733, 5.4110380274921335, 5.438709829322492, 5.40181409354868, 5.466381851068781, 5.429485895379039, 5.438709829322492, 5.406426170478374, 5.438709829322492, 5.406426170478374, 5.429485895379039, 5.374142291718322, 5.346470489887964, 5.355694423831418, 5.346470489887964, 5.380786502668854, 5.401055831302827, 5.433486602475069, 5.433486602475069, 5.417271216888947, 5.437540352220276, 5.421324966634156, 5.417271216888947, 5.490240452026491, 5.45780968085425, 5.510509780660464, 5.4497019880611886, 5.397001888254974, 5.405109581048034, 5.417271216888947, 5.433486602475069, 5.413217273841095, 5.437540352220276, 5.405109581048034, 5.461863623902101, 5.429432659427216, 5.437540352220276, 5.409163524095888, 5.437540352220276, 5.409163524095888, 5.429432659427216, 5.380786502668854, 5.356463424289672, 5.3645711170827335, 5.356463424289672, 5.3866266595443735, 5.404443080465566, 5.4329492180114904, 5.4329492180114904, 5.418696149238528, 5.436512400249739, 5.422259331476778, 5.418696149238528, 5.482834958716856, 5.454328821170932, 5.500651379638049, 5.447202286784451, 5.400879728317334, 5.4080062627038155, 5.418696149238528, 5.4329492180114904, 5.415132797090297, 5.436512400249739, 5.4080062627038155, 5.457892173319164, 5.429385865863258, 5.436512400249739, 5.4115696148520485, 5.436512400249739, 5.4115696148520485, 5.429385865863258, 5.3866266595443735, 5.36524705638493, 5.372373590771412, 5.36524705638493, 5.3917600655401525, 5.407420419179547, 5.43247686552402, 5.43247686552402, 5.419948642351783, 5.435608846642977, 5.423080623470742, 5.419948642351783, 5.476325646626844, 5.451269200282373, 5.491986000266239, 5.445005088696254, 5.4042882887123875, 5.4105524002985055, 5.419948642351783, 5.43247686552402, 5.416816511884624, 5.435608846642977, 5.4105524002985055, 5.454401330749532, 5.429344735056859, 5.435608846642977, 5.413684530765666, 5.435608846642977, 5.413684530765666, 5.429344735056859, 5.3917600655401525, 5.372967730781798, 5.379231842367917, 5.372967730781798, 5.3962722486337205, 5.410037453059216, 5.432061675120236, 5.432061675120236, 5.421049564089726, 5.434814637240504, 5.423802526209995, 5.421049564089726, 5.470604063727019, 5.4485798416660005, 5.484369268152516, 5.4430737861507446, 5.407284359664229, 5.412790415179484, 5.421049564089726, 5.432061675120236, 5.41829647069474, 5.434814637240504, 5.412790415179484, 5.451332935060987, 5.429308581725249, 5.434814637240504, 5.415543508574472, 5.434814637240504, 5.415543508574472, 5.429308581725249, 5.3962722486337205, 5.379754082087954, 5.38526013760321, 5.379754082087954, 5.400238386571498, 5.412337784659102, 5.43169672928854, 5.43169672928854, 5.422017256973821, 5.434116539673014, 5.424437067358295, 5.422017256973821, 5.4655748823900545, 5.446215937760618, 5.47767428047766, 5.441376201603258, 5.4099178588862165, 5.414757595043576, 5.422017256973821, 5.43169672928854, 5.419597331200936, 5.434116539673014, 5.414757595043576, 5.448635863533504, 5.429276803515655, 5.434116539673014, 5.4171775208164625, 5.434116539673014, 5.4171775208164625, 5.429276803515655, 5.400238386571498, 5.38571917809942, 5.390558914256779, 5.38571917809942, 5.403724559409632, 5.414359739938528, 5.431375947645086, 5.431375947645086, 5.422867843791807, 5.433502922896106, 5.424994819042828, 5.422867843791807, 5.4611543111315575, 5.4441381034250025, 5.471789491660456, 5.439884051498362, 5.41223266326291, 5.416486715189549, 5.422867843791807, 5.431375947645086, 5.420740767116189, 5.433502922896106, 5.416486715189549, 5.446265180100621, 5.429248870969467, 5.433502922896106, 5.418613791865169, 5.433502922896106, 5.418613791865169, 5.429248870969467, 5.403724559409632, 5.390962403629715, 5.395216455556354, 5.390962403629715]\n"
     ]
    }
   ],
   "source": [
    "forward = []\n",
    "for x in y_pre2:\n",
    "    for y in x:\n",
    "        forward.append(y)\n",
    "\n",
    "print(y_pre2)\n",
    "print(forward)"
   ]
  },
  {
   "cell_type": "code",
   "execution_count": 25,
   "metadata": {},
   "outputs": [
    {
     "data": {
      "text/plain": [
       "Text(0, 0.5, 'Price')"
      ]
     },
     "execution_count": 25,
     "metadata": {},
     "output_type": "execute_result"
    },
    {
     "data": {
      "image/png": "[encoded data removed]",
      "text/plain": [
       "<Figure size 864x576 with 1 Axes>"
      ]
     },
     "metadata": {
      "needs_background": "light"
     },
     "output_type": "display_data"
    }
   ],
   "source": [
    "#The stock prices predicted from 1 day into the future, to a year into the future\n",
    "plt.figure(figsize = (12,8))\n",
    "plt.plot(forward)\n",
    "plt.xlabel(\"Days into the Future\")\n",
    "plt.ylabel(\"Price\")"
   ]
  },
  {
   "cell_type": "code",
   "execution_count": null,
   "metadata": {},
   "outputs": [],
   "source": []
  },
  {
   "cell_type": "code",
   "execution_count": null,
   "metadata": {},
   "outputs": [],
   "source": []
  },
  {
   "cell_type": "code",
   "execution_count": null,
   "metadata": {},
   "outputs": [],
   "source": []
  }
 ],
 "metadata": {
  "kernelspec": {
   "display_name": "Python 3",
   "language": "python",
   "name": "python3"
  },
  "language_info": {
   "codemirror_mode": {
    "name": "ipython",
    "version": 3
   },
   "file_extension": ".py",
   "mimetype": "text/x-python",
   "name": "python",
   "nbconvert_exporter": "python",
   "pygments_lexer": "ipython3",
   "version": "3.7.6"
  }
 },
 "nbformat": 4,
 "nbformat_minor": 4
}
