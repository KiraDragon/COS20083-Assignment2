{
 "cells": [
  {
   "cell_type": "code",
   "execution_count": 1,
   "metadata": {},
   "outputs": [
    {
     "name": "stderr",
     "output_type": "stream",
     "text": [
      "C:\\Users\\ADMIN\\anaconda3\\lib\\site-packages\\pandas_datareader\\compat\\__init__.py:7: FutureWarning: pandas.util.testing is deprecated. Use the functions in the public API at pandas.testing instead.\n",
      "  from pandas.util.testing import assert_frame_equal\n"
     ]
    }
   ],
   "source": [
    "#Importing the required libraries \n",
    "import pandas as pd\n",
    "import math\n",
    "import numpy as np\n",
    "import matplotlib.pyplot as plt\n",
    "import pandas_datareader as web\n",
    "from sklearn.linear_model import LinearRegression\n",
    "from sklearn.model_selection import train_test_split\n",
    "from sklearn import metrics"
   ]
  },
  {
   "cell_type": "code",
   "execution_count": 2,
   "metadata": {},
   "outputs": [],
   "source": [
    "#Importing the required libraries for web scraping\n",
    "import requests\n",
    "from bs4 import BeautifulSoup\n",
    "import bs4\n",
    "from fastnumbers import isfloat \n",
    "from fastnumbers import fast_float\n",
    "from multiprocessing.dummy import Pool as ThreadPool "
   ]
  },
  {
   "cell_type": "markdown",
   "metadata": {},
   "source": [
    "# Web Scraping"
   ]
  },
  {
   "cell_type": "code",
   "execution_count": 3,
   "metadata": {},
   "outputs": [],
   "source": [
    "#Data cleaning functions for web scraping\n",
    "\n",
    "def ffloat(string): #Cleans the commas and % from the string given\n",
    "    if string is None:\n",
    "        return np.nan\n",
    "    if type(string)==float or type(string)==np.float64:\n",
    "        return string\n",
    "    if type(string)==int or type(string)==np.int64:\n",
    "        return string\n",
    "    return fast_float(string.split(\" \")[0].replace(',','').replace('%',''),\n",
    "                      default=np.nan)\n",
    "\n",
    "def ffloat_list(string_list): #Cleans the string from a whole list of string\n",
    "    return list(map(ffloat,string_list))\n",
    "\n",
    "def remove_multiple_spaces(string): #Strips the spaces from string\n",
    "    if type(string)==str:\n",
    "        return ' '.join(string.split())\n",
    "    return string\n",
    "\n",
    "def get_children(html_content): #Gets the child content from the html tag, usually for tables where <td> is a child of <tr>\n",
    "    return [item for item in html_content.children if \n",
    "            type(item)==bs4.element.Tag or \n",
    "            len(str(item).replace(\"\\n\",\"\").strip())>0]"
   ]
  },
  {
   "cell_type": "code",
   "execution_count": 4,
   "metadata": {},
   "outputs": [
    {
     "data": {
      "text/plain": [
       "200"
      ]
     },
     "execution_count": 4,
     "metadata": {},
     "output_type": "execute_result"
    }
   ],
   "source": [
    "response = requests.get(\"https://finance.yahoo.com/gainers\", timeout=240) #Establishes a connection to the website   \n",
    "response.status_code #If its more than 240, then the connection is not established"
   ]
  },
  {
   "cell_type": "code",
   "execution_count": 5,
   "metadata": {},
   "outputs": [],
   "source": [
    "def get_table_simple(table,is_table_tag=True): #Changes the table data in the form of a list\n",
    "    elems = table.find_all('tr') if is_table_tag else get_children(table)\n",
    "    table_data = list()\n",
    "    for row in elems:\n",
    "        row_data = list()\n",
    "        row_elems = get_children(row)\n",
    "        for elem in row_elems:\n",
    "            text = elem.text.strip().replace(\"\\n\",\"\")\n",
    "            text = remove_multiple_spaces(text)\n",
    "            if len(text)==0:\n",
    "                continue\n",
    "            row_data.append(text)\n",
    "        table_data.append(row_data)\n",
    "    return table_data"
   ]
  },
  {
   "cell_type": "code",
   "execution_count": 6,
   "metadata": {},
   "outputs": [],
   "source": [
    "#Gets the html content of the page\n",
    "html = BeautifulSoup(response.content, \"html.parser\")"
   ]
  },
  {
   "cell_type": "code",
   "execution_count": 7,
   "metadata": {
    "scrolled": true
   },
   "outputs": [
    {
     "name": "stdout",
     "output_type": "stream",
     "text": [
      "Top 5 gainers currently are: \n"
     ]
    },
    {
     "data": {
      "text/html": [
       "<div>\n",
       "<style scoped>\n",
       "    .dataframe tbody tr th:only-of-type {\n",
       "        vertical-align: middle;\n",
       "    }\n",
       "\n",
       "    .dataframe tbody tr th {\n",
       "        vertical-align: top;\n",
       "    }\n",
       "\n",
       "    .dataframe thead th {\n",
       "        text-align: right;\n",
       "    }\n",
       "</style>\n",
       "<table border=\"1\" class=\"dataframe\">\n",
       "  <thead>\n",
       "    <tr style=\"text-align: right;\">\n",
       "      <th></th>\n",
       "      <th>0</th>\n",
       "      <th>1</th>\n",
       "      <th>2</th>\n",
       "      <th>3</th>\n",
       "      <th>4</th>\n",
       "      <th>5</th>\n",
       "      <th>6</th>\n",
       "      <th>7</th>\n",
       "      <th>8</th>\n",
       "      <th>9</th>\n",
       "    </tr>\n",
       "  </thead>\n",
       "  <tbody>\n",
       "    <tr>\n",
       "      <th>0</th>\n",
       "      <td>Symbol</td>\n",
       "      <td>Name</td>\n",
       "      <td>Price (Intraday)</td>\n",
       "      <td>Change</td>\n",
       "      <td>% Change</td>\n",
       "      <td>Volume</td>\n",
       "      <td>Avg Vol (3 month)</td>\n",
       "      <td>Market Cap</td>\n",
       "      <td>PE Ratio (TTM)</td>\n",
       "      <td>52 Week Range</td>\n",
       "    </tr>\n",
       "    <tr>\n",
       "      <th>1</th>\n",
       "      <td>ZS</td>\n",
       "      <td>Zscaler, Inc.</td>\n",
       "      <td>98.09</td>\n",
       "      <td>+22.29</td>\n",
       "      <td>+29.41%</td>\n",
       "      <td>22.809M</td>\n",
       "      <td>3.35M</td>\n",
       "      <td>12.688B</td>\n",
       "      <td>N/A</td>\n",
       "      <td>None</td>\n",
       "    </tr>\n",
       "    <tr>\n",
       "      <th>2</th>\n",
       "      <td>PTKFF</td>\n",
       "      <td>PT Kalbe Farma Tbk.</td>\n",
       "      <td>0.1020</td>\n",
       "      <td>+0.0220</td>\n",
       "      <td>+27.50%</td>\n",
       "      <td>5.158M</td>\n",
       "      <td>381,555</td>\n",
       "      <td>5.58B</td>\n",
       "      <td>N/A</td>\n",
       "      <td>None</td>\n",
       "    </tr>\n",
       "    <tr>\n",
       "      <th>3</th>\n",
       "      <td>TBVPF</td>\n",
       "      <td>Thai Beverage Public Company Limited</td>\n",
       "      <td>0.5500</td>\n",
       "      <td>+0.1150</td>\n",
       "      <td>+26.44%</td>\n",
       "      <td>25,909</td>\n",
       "      <td>101,382</td>\n",
       "      <td>14.231B</td>\n",
       "      <td>25.00</td>\n",
       "      <td>None</td>\n",
       "    </tr>\n",
       "    <tr>\n",
       "      <th>4</th>\n",
       "      <td>PTXKY</td>\n",
       "      <td>PT XL Axiata Tbk</td>\n",
       "      <td>3.8000</td>\n",
       "      <td>+0.7200</td>\n",
       "      <td>+23.38%</td>\n",
       "      <td>47,587</td>\n",
       "      <td>8,388</td>\n",
       "      <td>2.266B</td>\n",
       "      <td>N/A</td>\n",
       "      <td>None</td>\n",
       "    </tr>\n",
       "    <tr>\n",
       "      <th>5</th>\n",
       "      <td>NWAU</td>\n",
       "      <td>Consumer Automotive Finance, Inc.</td>\n",
       "      <td>0.0225</td>\n",
       "      <td>+0.0028</td>\n",
       "      <td>+14.21%</td>\n",
       "      <td>549,897</td>\n",
       "      <td>523,927</td>\n",
       "      <td>39.381B</td>\n",
       "      <td>N/A</td>\n",
       "      <td>None</td>\n",
       "    </tr>\n",
       "  </tbody>\n",
       "</table>\n",
       "</div>"
      ],
      "text/plain": [
       "        0                                     1                 2        3  \\\n",
       "0  Symbol                                  Name  Price (Intraday)   Change   \n",
       "1      ZS                         Zscaler, Inc.             98.09   +22.29   \n",
       "2   PTKFF                   PT Kalbe Farma Tbk.            0.1020  +0.0220   \n",
       "3   TBVPF  Thai Beverage Public Company Limited            0.5500  +0.1150   \n",
       "4   PTXKY                      PT XL Axiata Tbk            3.8000  +0.7200   \n",
       "5    NWAU     Consumer Automotive Finance, Inc.            0.0225  +0.0028   \n",
       "\n",
       "          4        5                  6           7               8  \\\n",
       "0  % Change   Volume  Avg Vol (3 month)  Market Cap  PE Ratio (TTM)   \n",
       "1   +29.41%  22.809M              3.35M     12.688B             N/A   \n",
       "2   +27.50%   5.158M            381,555       5.58B             N/A   \n",
       "3   +26.44%   25,909            101,382     14.231B           25.00   \n",
       "4   +23.38%   47,587              8,388      2.266B             N/A   \n",
       "5   +14.21%  549,897            523,927     39.381B             N/A   \n",
       "\n",
       "               9  \n",
       "0  52 Week Range  \n",
       "1           None  \n",
       "2           None  \n",
       "3           None  \n",
       "4           None  \n",
       "5           None  "
      ]
     },
     "execution_count": 7,
     "metadata": {},
     "output_type": "execute_result"
    }
   ],
   "source": [
    "#Gets the table from top gained and saves it as init_list\n",
    "init_list = get_table_simple(html)\n",
    "#Creates an empty list\n",
    "top5list = []\n",
    "#Selects the top 5 of the table from top gained (0-5 as 0 is the headings and labels)\n",
    "for x in range(6):\n",
    "    top5list.append(init_list[x]) #appends it to the top5 list\n",
    "dftop5gainers = pd.DataFrame.from_records(top5list) #Change the list into a dataframe\n",
    "print(\"Top 5 gainers currently are: \")\n",
    "dftop5gainers"
   ]
  },
  {
   "cell_type": "markdown",
   "metadata": {},
   "source": [
    "# Analysis"
   ]
  },
  {
   "cell_type": "code",
   "execution_count": 8,
   "metadata": {},
   "outputs": [],
   "source": [
    "#Reads the data and changes it into a dataframe\n",
    "df6012 = web.DataReader('6012.KL', data_source='yahoo', start='2011-03-12',end='2020-03-12') "
   ]
  },
  {
   "cell_type": "code",
   "execution_count": 9,
   "metadata": {},
   "outputs": [
    {
     "data": {
      "text/html": [
       "<div>\n",
       "<style scoped>\n",
       "    .dataframe tbody tr th:only-of-type {\n",
       "        vertical-align: middle;\n",
       "    }\n",
       "\n",
       "    .dataframe tbody tr th {\n",
       "        vertical-align: top;\n",
       "    }\n",
       "\n",
       "    .dataframe thead th {\n",
       "        text-align: right;\n",
       "    }\n",
       "</style>\n",
       "<table border=\"1\" class=\"dataframe\">\n",
       "  <thead>\n",
       "    <tr style=\"text-align: right;\">\n",
       "      <th></th>\n",
       "      <th>High</th>\n",
       "      <th>Low</th>\n",
       "      <th>Open</th>\n",
       "      <th>Close</th>\n",
       "      <th>Volume</th>\n",
       "      <th>Adj Close</th>\n",
       "      <th>Difference</th>\n",
       "    </tr>\n",
       "    <tr>\n",
       "      <th>Date</th>\n",
       "      <th></th>\n",
       "      <th></th>\n",
       "      <th></th>\n",
       "      <th></th>\n",
       "      <th></th>\n",
       "      <th></th>\n",
       "      <th></th>\n",
       "    </tr>\n",
       "  </thead>\n",
       "  <tbody>\n",
       "    <tr>\n",
       "      <th>2011-03-14</th>\n",
       "      <td>5.41</td>\n",
       "      <td>5.35</td>\n",
       "      <td>5.40</td>\n",
       "      <td>5.39</td>\n",
       "      <td>3479700.0</td>\n",
       "      <td>3.575402</td>\n",
       "      <td>0.01</td>\n",
       "    </tr>\n",
       "    <tr>\n",
       "      <th>2011-03-15</th>\n",
       "      <td>5.39</td>\n",
       "      <td>5.36</td>\n",
       "      <td>5.38</td>\n",
       "      <td>5.37</td>\n",
       "      <td>4481900.0</td>\n",
       "      <td>3.562135</td>\n",
       "      <td>0.01</td>\n",
       "    </tr>\n",
       "    <tr>\n",
       "      <th>2011-03-16</th>\n",
       "      <td>5.38</td>\n",
       "      <td>5.34</td>\n",
       "      <td>5.36</td>\n",
       "      <td>5.36</td>\n",
       "      <td>4017800.0</td>\n",
       "      <td>3.555503</td>\n",
       "      <td>0.00</td>\n",
       "    </tr>\n",
       "    <tr>\n",
       "      <th>2011-03-17</th>\n",
       "      <td>5.36</td>\n",
       "      <td>5.33</td>\n",
       "      <td>5.35</td>\n",
       "      <td>5.35</td>\n",
       "      <td>3148300.0</td>\n",
       "      <td>3.548868</td>\n",
       "      <td>0.00</td>\n",
       "    </tr>\n",
       "    <tr>\n",
       "      <th>2011-03-18</th>\n",
       "      <td>5.40</td>\n",
       "      <td>5.34</td>\n",
       "      <td>5.35</td>\n",
       "      <td>5.40</td>\n",
       "      <td>3830400.0</td>\n",
       "      <td>3.582035</td>\n",
       "      <td>-0.05</td>\n",
       "    </tr>\n",
       "  </tbody>\n",
       "</table>\n",
       "</div>"
      ],
      "text/plain": [
       "            High   Low  Open  Close     Volume  Adj Close  Difference\n",
       "Date                                                                 \n",
       "2011-03-14  5.41  5.35  5.40   5.39  3479700.0   3.575402        0.01\n",
       "2011-03-15  5.39  5.36  5.38   5.37  4481900.0   3.562135        0.01\n",
       "2011-03-16  5.38  5.34  5.36   5.36  4017800.0   3.555503        0.00\n",
       "2011-03-17  5.36  5.33  5.35   5.35  3148300.0   3.548868        0.00\n",
       "2011-03-18  5.40  5.34  5.35   5.40  3830400.0   3.582035       -0.05"
      ]
     },
     "execution_count": 9,
     "metadata": {},
     "output_type": "execute_result"
    }
   ],
   "source": [
    "#Creates a new column to show the difference between the open and close of the data (how much it rises or falls in a day)\n",
    "df6012['Difference'] = df6012['Open'] - df6012['Close']\n",
    "df6012.head()"
   ]
  },
  {
   "cell_type": "code",
   "execution_count": 10,
   "metadata": {},
   "outputs": [
    {
     "data": {
      "text/html": [
       "<div>\n",
       "<style scoped>\n",
       "    .dataframe tbody tr th:only-of-type {\n",
       "        vertical-align: middle;\n",
       "    }\n",
       "\n",
       "    .dataframe tbody tr th {\n",
       "        vertical-align: top;\n",
       "    }\n",
       "\n",
       "    .dataframe thead th {\n",
       "        text-align: right;\n",
       "    }\n",
       "</style>\n",
       "<table border=\"1\" class=\"dataframe\">\n",
       "  <thead>\n",
       "    <tr style=\"text-align: right;\">\n",
       "      <th></th>\n",
       "      <th>High</th>\n",
       "      <th>Low</th>\n",
       "      <th>Open</th>\n",
       "      <th>Close</th>\n",
       "      <th>Volume</th>\n",
       "      <th>Adj Close</th>\n",
       "      <th>Difference</th>\n",
       "    </tr>\n",
       "    <tr>\n",
       "      <th>Date</th>\n",
       "      <th></th>\n",
       "      <th></th>\n",
       "      <th></th>\n",
       "      <th></th>\n",
       "      <th></th>\n",
       "      <th></th>\n",
       "      <th></th>\n",
       "    </tr>\n",
       "  </thead>\n",
       "  <tbody>\n",
       "    <tr>\n",
       "      <th>2020-03-06</th>\n",
       "      <td>5.45</td>\n",
       "      <td>5.36</td>\n",
       "      <td>5.37</td>\n",
       "      <td>5.43</td>\n",
       "      <td>1813100.0</td>\n",
       "      <td>5.43</td>\n",
       "      <td>-0.06</td>\n",
       "    </tr>\n",
       "    <tr>\n",
       "      <th>2020-03-09</th>\n",
       "      <td>5.46</td>\n",
       "      <td>5.30</td>\n",
       "      <td>5.38</td>\n",
       "      <td>5.31</td>\n",
       "      <td>3013200.0</td>\n",
       "      <td>5.31</td>\n",
       "      <td>0.07</td>\n",
       "    </tr>\n",
       "    <tr>\n",
       "      <th>2020-03-10</th>\n",
       "      <td>5.37</td>\n",
       "      <td>5.25</td>\n",
       "      <td>5.29</td>\n",
       "      <td>5.25</td>\n",
       "      <td>3148600.0</td>\n",
       "      <td>5.25</td>\n",
       "      <td>0.04</td>\n",
       "    </tr>\n",
       "    <tr>\n",
       "      <th>2020-03-11</th>\n",
       "      <td>5.31</td>\n",
       "      <td>5.21</td>\n",
       "      <td>5.27</td>\n",
       "      <td>5.27</td>\n",
       "      <td>3875400.0</td>\n",
       "      <td>5.27</td>\n",
       "      <td>0.00</td>\n",
       "    </tr>\n",
       "    <tr>\n",
       "      <th>2020-03-12</th>\n",
       "      <td>5.31</td>\n",
       "      <td>5.20</td>\n",
       "      <td>5.25</td>\n",
       "      <td>5.25</td>\n",
       "      <td>2038200.0</td>\n",
       "      <td>5.25</td>\n",
       "      <td>0.00</td>\n",
       "    </tr>\n",
       "  </tbody>\n",
       "</table>\n",
       "</div>"
      ],
      "text/plain": [
       "            High   Low  Open  Close     Volume  Adj Close  Difference\n",
       "Date                                                                 \n",
       "2020-03-06  5.45  5.36  5.37   5.43  1813100.0       5.43       -0.06\n",
       "2020-03-09  5.46  5.30  5.38   5.31  3013200.0       5.31        0.07\n",
       "2020-03-10  5.37  5.25  5.29   5.25  3148600.0       5.25        0.04\n",
       "2020-03-11  5.31  5.21  5.27   5.27  3875400.0       5.27        0.00\n",
       "2020-03-12  5.31  5.20  5.25   5.25  2038200.0       5.25        0.00"
      ]
     },
     "execution_count": 10,
     "metadata": {},
     "output_type": "execute_result"
    }
   ],
   "source": [
    "df6012.tail()"
   ]
  },
  {
   "cell_type": "code",
   "execution_count": 11,
   "metadata": {},
   "outputs": [
    {
     "name": "stdout",
     "output_type": "stream",
     "text": [
      "Max increase in MYR: RM 0.39\n",
      "Max decrease in MYR: RM -0.53\n"
     ]
    }
   ],
   "source": [
    "# Highest changes in stock price\n",
    "print(\"Max increase in MYR: RM\", round(df6012['Difference'].max(), 2))\n",
    "print(\"Max decrease in MYR: RM\",round(df6012['Difference'].min(), 2))"
   ]
  },
  {
   "cell_type": "code",
   "execution_count": 12,
   "metadata": {},
   "outputs": [
    {
     "name": "stdout",
     "output_type": "stream",
     "text": [
      "Max stock price: MYR 6.18\n",
      "Min stock price: MYR 3.55\n"
     ]
    }
   ],
   "source": [
    "# Max and min stock price\n",
    "print(\"Max stock price: MYR\", round(df6012['Adj Close'].max(), 2))\n",
    "print(\"Min stock price: MYR\", round(df6012['Adj Close'].min(), 2))"
   ]
  },
  {
   "cell_type": "code",
   "execution_count": 13,
   "metadata": {},
   "outputs": [
    {
     "name": "stdout",
     "output_type": "stream",
     "text": [
      "The moving average of stock price: \n"
     ]
    },
    {
     "data": {
      "text/plain": [
       "5.2031252525629625"
      ]
     },
     "execution_count": 13,
     "metadata": {},
     "output_type": "execute_result"
    }
   ],
   "source": [
    "# Moving average of stock price\n",
    "print(\"The moving average of stock price: \")\n",
    "df6012['Adj Close'].sum() / len(df6012['Adj Close'])"
   ]
  },
  {
   "cell_type": "code",
   "execution_count": 14,
   "metadata": {},
   "outputs": [
    {
     "data": {
      "image/png": "[encoded data removed]",
      "text/plain": [
       "<Figure size 864x576 with 1 Axes>"
      ]
     },
     "metadata": {
      "needs_background": "light"
     },
     "output_type": "display_data"
    }
   ],
   "source": [
    "#Plots the figure based on adjusted close \n",
    "plt.figure(figsize = (12,8))\n",
    "plt.plot(df6012['Adj Close'])\n",
    "plt.xlabel(\"Year\")\n",
    "plt.ylabel(\"Price\")\n",
    "plt.show()"
   ]
  },
  {
   "cell_type": "code",
   "execution_count": 15,
   "metadata": {},
   "outputs": [],
   "source": [
    "#Creates a csv for the dataframe\n",
    "df6012.to_csv('maxis.csv')"
   ]
  },
  {
   "cell_type": "markdown",
   "metadata": {},
   "source": [
    "# Training"
   ]
  },
  {
   "cell_type": "code",
   "execution_count": 16,
   "metadata": {},
   "outputs": [],
   "source": [
    "#Creates a new list called dfPre, this is where we do the predictions\n",
    "dfPre = []\n",
    "dfPre = df6012[['Adj Close']]"
   ]
  },
  {
   "cell_type": "code",
   "execution_count": 17,
   "metadata": {},
   "outputs": [
    {
     "name": "stdout",
     "output_type": "stream",
     "text": [
      "            Adj Close\n",
      "Date                 \n",
      "2011-03-14   3.575402\n",
      "2011-03-15   3.562135\n",
      "2011-03-16   3.555503\n",
      "2011-03-17   3.548868\n",
      "2011-03-18   3.582035\n"
     ]
    }
   ],
   "source": [
    "print(dfPre.head())"
   ]
  },
  {
   "cell_type": "code",
   "execution_count": 18,
   "metadata": {},
   "outputs": [
    {
     "name": "stdout",
     "output_type": "stream",
     "text": [
      "            Adj Close  Prediction\n",
      "Date                             \n",
      "2011-03-14   3.575402    3.555503\n",
      "2011-03-15   3.562135    3.562135\n",
      "2011-03-16   3.555503    3.568769\n",
      "2011-03-17   3.548868    3.562135\n",
      "2011-03-18   3.582035    3.562135\n"
     ]
    },
    {
     "name": "stderr",
     "output_type": "stream",
     "text": [
      "C:\\Users\\ADMIN\\anaconda3\\lib\\site-packages\\ipykernel_launcher.py:4: SettingWithCopyWarning: \n",
      "A value is trying to be set on a copy of a slice from a DataFrame.\n",
      "Try using .loc[row_indexer,col_indexer] = value instead\n",
      "\n",
      "See the caveats in the documentation: https://pandas.pydata.org/pandas-docs/stable/user_guide/indexing.html#returning-a-view-versus-a-copy\n",
      "  after removing the cwd from sys.path.\n"
     ]
    }
   ],
   "source": [
    "#predict n days into the future, in this case, 30\n",
    "forecast_out = 30 \n",
    "#Creates a new column that is shifted based on the forecast_out\n",
    "dfPre['Prediction'] = dfPre[['Adj Close']].shift(-forecast_out) \n",
    "print(dfPre.head())"
   ]
  },
  {
   "cell_type": "code",
   "execution_count": 19,
   "metadata": {},
   "outputs": [
    {
     "data": {
      "text/plain": [
       "2225"
      ]
     },
     "execution_count": 19,
     "metadata": {},
     "output_type": "execute_result"
    }
   ],
   "source": [
    "X = np.array(dfPre.drop(['Prediction'], 1))\n",
    "len(X) #Checks the amount of data"
   ]
  },
  {
   "cell_type": "code",
   "execution_count": 20,
   "metadata": {},
   "outputs": [
    {
     "data": {
      "text/plain": [
       "2225"
      ]
     },
     "execution_count": 20,
     "metadata": {},
     "output_type": "execute_result"
    }
   ],
   "source": [
    "#reserving 60 data for testing\n",
    "X_new = X[0:2165] #Creates a new X ommitting 60 units of the data\n",
    "len(X_new) + 60 #Check if the amount of data is correct "
   ]
  },
  {
   "cell_type": "code",
   "execution_count": 21,
   "metadata": {},
   "outputs": [
    {
     "data": {
      "text/plain": [
       "2165"
      ]
     },
     "execution_count": 21,
     "metadata": {},
     "output_type": "execute_result"
    }
   ],
   "source": [
    "y = np.array(dfPre['Prediction']) #Creates a y with only the prediction column\n",
    "y_new = y[:-60] #Takes away the last 60 columns \n",
    "len(y_new)"
   ]
  },
  {
   "cell_type": "code",
   "execution_count": 22,
   "metadata": {},
   "outputs": [],
   "source": [
    "#Split the data into train and test with a ratio of 1:5\n",
    "X_train, X_test, y_train, y_test = train_test_split(X_new, y_new, test_size = 0.2) "
   ]
  },
  {
   "cell_type": "code",
   "execution_count": 23,
   "metadata": {},
   "outputs": [
    {
     "name": "stdout",
     "output_type": "stream",
     "text": [
      "[3.55550337 3.56213546 3.56876922 ... 5.25       5.26999998 5.25      ]\n"
     ]
    },
    {
     "data": {
      "text/plain": [
       "2195"
      ]
     },
     "execution_count": 23,
     "metadata": {},
     "output_type": "execute_result"
    }
   ],
   "source": [
    "y = np.array(dfPre['Prediction'])\n",
    "y = y[:-forecast_out] #Takes away the last n columns which were supposed to be predicted\n",
    "print(y)\n",
    "len(y)"
   ]
  },
  {
   "cell_type": "code",
   "execution_count": 24,
   "metadata": {},
   "outputs": [
    {
     "data": {
      "text/plain": [
       "LinearRegression(copy_X=True, fit_intercept=True, n_jobs=None, normalize=False)"
      ]
     },
     "execution_count": 24,
     "metadata": {},
     "output_type": "execute_result"
    }
   ],
   "source": [
    "lr = LinearRegression() #Creates the model\n",
    "lr.fit(X_train, y_train) #Trains the model"
   ]
  },
  {
   "cell_type": "markdown",
   "metadata": {},
   "source": [
    "# Testing"
   ]
  },
  {
   "cell_type": "code",
   "execution_count": 25,
   "metadata": {},
   "outputs": [
    {
     "name": "stdout",
     "output_type": "stream",
     "text": [
      "Predicted last 30 days\n",
      "[5.32097801 5.36485958 5.43506976 5.43506976 5.39996467 5.44384582\n",
      " 5.40874073 5.39996467 5.55793758 5.4877274  5.60181915 5.47017485\n",
      " 5.3560831  5.37363564 5.39996467 5.43506976 5.39118819 5.44384582\n",
      " 5.37363564 5.49650388 5.42629328 5.44384582 5.38241212 5.44384582\n",
      " 5.38241212 5.42629328 5.32097801 5.26832037 5.28587292 5.26832037]\n"
     ]
    }
   ],
   "source": [
    "y_pre = lr.predict(X[2195:2225]) #Creates a list that stores the predictions of the last 30 days\n",
    "print(\"Predicted last 30 days\")\n",
    "print(y_pre)"
   ]
  },
  {
   "cell_type": "code",
   "execution_count": 26,
   "metadata": {},
   "outputs": [
    {
     "name": "stdout",
     "output_type": "stream",
     "text": [
      "Confidence Score:  0.8647383433863489\n"
     ]
    }
   ],
   "source": [
    "confidence = lr.score(X_test, y_test) #Checks the confidence score\n",
    "print(\"Confidence Score: \", confidence) "
   ]
  },
  {
   "cell_type": "code",
   "execution_count": 27,
   "metadata": {},
   "outputs": [
    {
     "name": "stdout",
     "output_type": "stream",
     "text": [
      "Actual last 30 days: \n",
      "[[5.30999994]\n",
      " [5.36000013]\n",
      " [5.44000006]\n",
      " [5.44000006]\n",
      " [5.4000001 ]\n",
      " [5.44999981]\n",
      " [5.40999985]\n",
      " [5.4000001 ]\n",
      " [5.57999992]\n",
      " [5.5       ]\n",
      " [5.63000011]\n",
      " [5.48000002]\n",
      " [5.3499999 ]\n",
      " [5.36999989]\n",
      " [5.4000001 ]\n",
      " [5.44000006]\n",
      " [5.38999987]\n",
      " [5.44999981]\n",
      " [5.36999989]\n",
      " [5.51000023]\n",
      " [5.42999983]\n",
      " [5.44999981]\n",
      " [5.38000011]\n",
      " [5.44999981]\n",
      " [5.38000011]\n",
      " [5.42999983]\n",
      " [5.30999994]\n",
      " [5.25      ]\n",
      " [5.26999998]\n",
      " [5.25      ]]\n"
     ]
    }
   ],
   "source": [
    "x_forecast = np.array(dfPre.drop(['Prediction'], 1))[-forecast_out:] #Checks the actual last 30 days\n",
    "print(\"Actual last 30 days: \")\n",
    "print(x_forecast)"
   ]
  },
  {
   "cell_type": "code",
   "execution_count": 28,
   "metadata": {},
   "outputs": [
    {
     "data": {
      "text/plain": [
       "Text(0, 0.5, 'Price')"
      ]
     },
     "execution_count": 28,
     "metadata": {},
     "output_type": "execute_result"
    },
    {
     "data": {
      "image/png": "[encoded data removed]",
      "text/plain": [
       "<Figure size 864x576 with 1 Axes>"
      ]
     },
     "metadata": {
      "needs_background": "light"
     },
     "output_type": "display_data"
    }
   ],
   "source": [
    "#Creates a graph that compares the actual with predicted results\n",
    "plt.figure(figsize = (12,8))\n",
    "plt.plot(y_pre, color='r')\n",
    "plt.plot(x_forecast, color='b') \n",
    "plt.legend(['Forecasted', 'Actual'])\n",
    "plt.xlabel(\"Days\")\n",
    "plt.ylabel(\"Price\")"
   ]
  },
  {
   "cell_type": "code",
   "execution_count": 29,
   "metadata": {},
   "outputs": [
    {
     "name": "stdout",
     "output_type": "stream",
     "text": [
      "Mean Squared Error:  0.0001076018208952802\n"
     ]
    }
   ],
   "source": [
    "print(\"Mean Squared Error: \", metrics.mean_squared_error(y_pre, x_forecast)) #Checks the mse"
   ]
  },
  {
   "cell_type": "markdown",
   "metadata": {},
   "source": [
    "# Prediction"
   ]
  },
  {
   "cell_type": "code",
   "execution_count": 30,
   "metadata": {},
   "outputs": [],
   "source": [
    "y_pre2 = [] \n",
    "y_pre2.append(np.array(y_pre)) #Creates 12 months worth of predicted data to predict a year into the future\n",
    "for x in range(11):\n",
    "    y_pre_alt = y_pre2[x]\n",
    "    y_pre_in = lr.predict(y_pre_alt.reshape(-1, 1))\n",
    "    y_pre2.append(np.array(y_pre_in))"
   ]
  },
  {
   "cell_type": "code",
   "execution_count": 31,
   "metadata": {},
   "outputs": [],
   "source": [
    "forward = []\n",
    "for x in y_pre2: #Takes the 12 months of data and changes them from a 2-D list to a 1-D list\n",
    "    for y in x:\n",
    "        forward.append(y)"
   ]
  },
  {
   "cell_type": "code",
   "execution_count": 32,
   "metadata": {},
   "outputs": [
    {
     "data": {
      "text/plain": [
       "Text(0, 0.5, 'Price')"
      ]
     },
     "execution_count": 32,
     "metadata": {},
     "output_type": "execute_result"
    },
    {
     "data": {
      "image/png": "[encoded data removed]",
      "text/plain": [
       "<Figure size 864x576 with 1 Axes>"
      ]
     },
     "metadata": {
      "needs_background": "light"
     },
     "output_type": "display_data"
    }
   ],
   "source": [
    "#The stock prices predicted from 1 day into the future, to a year into the future\n",
    "plt.figure(figsize = (12,8))\n",
    "plt.plot(forward)\n",
    "plt.xlabel(\"Days into the Future\")\n",
    "plt.ylabel(\"Price\")"
   ]
  },
  {
   "cell_type": "code",
   "execution_count": 33,
   "metadata": {},
   "outputs": [
    {
     "name": "stdout",
     "output_type": "stream",
     "text": [
      "Final Value: \n",
      "5.368451338142057\n"
     ]
    }
   ],
   "source": [
    "print(\"Final Value: \")\n",
    "print(forward[len(forward)-1])"
   ]
  }
 ],
 "metadata": {
  "kernelspec": {
   "display_name": "Python 3",
   "language": "python",
   "name": "python3"
  },
  "language_info": {
   "codemirror_mode": {
    "name": "ipython",
    "version": 3
   },
   "file_extension": ".py",
   "mimetype": "text/x-python",
   "name": "python",
   "nbconvert_exporter": "python",
   "pygments_lexer": "ipython3",
   "version": "3.7.6"
  }
 },
 "nbformat": 4,
 "nbformat_minor": 4
}
